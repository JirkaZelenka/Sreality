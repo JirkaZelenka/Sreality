{
 "cells": [
  {
   "cell_type": "markdown",
   "metadata": {
    "affiliation": "Freie Universit\\\"at Berlin, Fachbereich Physik, 14195 Berlin, Germany",
    "author": "Julius C. F. Schulz",
    "title": "Amazing Article"
   },
   "source": [
    "# Sreality - Vizualizace\n",
    "## Jirka Zelenka\n",
    "### 12.3.-24.4.2020\n",
    "### Celý projekt = Scraping + Cleaning & Dropping + Vizualizace + All_In_One + PowerBI\n",
    "-----------------------------------------------------------------------------"
   ]
  },
  {
   "cell_type": "markdown",
   "metadata": {},
   "source": [
    "### Obsah:\n",
    "* I) Importování Packagů\n",
    "* II) Vizualizace\n"
   ]
  },
  {
   "cell_type": "markdown",
   "metadata": {},
   "source": [
    "-----------------------\n",
    "# I) Importování Packagů\n",
    "-----------------------"
   ]
  },
  {
   "cell_type": "code",
   "execution_count": 126,
   "metadata": {},
   "outputs": [],
   "source": []
  },
  {
   "cell_type": "markdown",
   "metadata": {},
   "source": [
    "-----------------------\n",
    "# II) Vizualiazce\n",
    "* https://pandas.pydata.org/pandas-docs/stable/user_guide/style.html\n",
    "-----------------------"
   ]
  },
  {
   "cell_type": "markdown",
   "metadata": {},
   "source": [
    "\n",
    "#### 0) Nadefinované grafické pomůcky\n",
    "----\n",
    "#### 1) Počty inzerátů\n",
    " * 1.a) Podle místností\n",
    " * 1.b) Podle měst/okresu/kraje\n",
    "---\n",
    "#### 2) Ceny\n",
    "- 2.a) Podle místností\n",
    "- 2.b) Podle měst\n",
    "- - 2.b.1) Nejdražší města\n",
    "- - 2.b.2) Nejlevnější města\n",
    "- 2.c) Podle okresů\n",
    "- - 2.c.1) Nejdražší okresy\n",
    "- - 2.c.2) Nejlevnější okresy\n",
    "- 2.d) Podle krajů\n",
    "-----------------------\n",
    "#### 3) Ceny podle místností a oblastí PRAHA & MOST\n",
    "- 3.a) Ceny podle místností Praha\n",
    "- 3.b) Ceny městských částí Prahy\n",
    "- - 3.b.1) Nejdražší městské části\n",
    "- - 3.b.2) Nejlevnější pražské části\n",
    "- 3.c) Ceny podle místností Most\n",
    "- 3.d) PRAHA vs MOST\n",
    "-----------------------\n",
    "#### 4) Pivot - Pražské části a pokoje\n",
    "#### 4.2) Pivot - Kraje a Pokoje - poty inzerátů // Ceny // Ceny_metr\n",
    "-----------------------\n",
    "#### 5) Analýzy podle okresů a krajů = DODĚLAT\n",
    "----\n",
    "#### 6) Interaktivní widgety = DODĚLAT\n",
    "---"
   ]
  },
  {
   "cell_type": "code",
   "execution_count": null,
   "metadata": {},
   "outputs": [],
   "source": [
    "\n",
    "\n"
   ]
  },
  {
   "cell_type": "markdown",
   "metadata": {},
   "source": [
    "### 0) Nadefinované grafické pomůcky"
   ]
  },
  {
   "cell_type": "code",
   "execution_count": null,
   "metadata": {},
   "outputs": [],
   "source": [
    "### Barvičky do BARů\n",
    "\n",
    "# červená a zelená jsou vidět na html exportu, modrá a rudá s černým písmem NE\n",
    "# Takže na HTML export musím místo modré dát tyrkys...\n",
    "\n",
    "zelená = \"#22c02c\"\n",
    "tyrkys =   \"#16c9ea\"\n",
    "modrá  =    \"#0307ca\"\n",
    "červená =  \"#e61717\"\n",
    "rudá =      \"#a10000\"\n",
    "hnědá = \"#4d0000\"\n",
    "\n",
    "\n",
    "# 1.) Zkusi barevnou škálu na celou tabulku. tím by se našly extrémy co nejdou podle tmavosti\n",
    "# 2) Pivot - udělat jednak potlačení nul, a pak barevnou paletu?\n",
    "# 3) Zkusit nějak aplikovat ten sloupec s dvěma arvami, ale musím mít kladné i záporné hodnoty, nějaké odchylky od průměru - to bych asi msuel třeba na všechny okresy najednou nebo něco\n",
    "\n",
    "\n",
    "########################################################################\n",
    "\n",
    "def small_red(val):\n",
    " \n",
    "    color = 'red' if val < 500 else 'white'\n",
    "    return 'color: %s' % color\n",
    "\n",
    " #.style.applymap(small_red)\n",
    "########################################################################\n",
    "\n",
    "def highlight_max(s):\n",
    " \n",
    "    is_max = s == s.max()\n",
    "    return ['background-color: green' if v else '' for v in is_max]\n",
    "\n",
    "#  .style.apply(highlight_max) \n",
    "\n",
    "########################################################################\n",
    "def highlight_median(s):   # Vyznačí nejvyšší hodnotu ve sloupci\n",
    "\n",
    "    is_max = s == s.median()\n",
    "    return ['background-color: green' if v else '' for v in is_max]\n",
    "\n",
    "#  .style.apply(highlight_median) \n",
    "\n",
    "\n",
    "########################################################################\n",
    "########################################################################\n",
    "\n",
    "# https://jakevdp.github.io/PythonDataScienceHandbook/04.07-customizing-colorbars.html\n",
    "\n"
   ]
  },
  {
   "cell_type": "markdown",
   "metadata": {},
   "source": [
    "### 1) Počty inzerátů"
   ]
  },
  {
   "cell_type": "markdown",
   "metadata": {},
   "source": [
    "### 1.a) Počty inzerátů podle místností"
   ]
  },
  {
   "cell_type": "code",
   "execution_count": null,
   "metadata": {},
   "outputs": [],
   "source": [
    "\n",
    "#data.pokoje.value_counts()\n",
    "#data.pokoje.value_counts().to_frame()\n",
    "\n",
    "data.pokoje.value_counts().to_frame().style.bar(align = \"mid\", color = tyrkys)   # Mid je zásadní, aby barevné slooupce měy správné proporce\n",
    "\n",
    "#ALternativně:\n",
    "#data.groupby(\"pokoje\")['url_id'].count().nlargest(10).to_frame().style.bar(align = \"mid\", color = tyrkys)"
   ]
  },
  {
   "cell_type": "markdown",
   "metadata": {},
   "source": [
    "### 1.b) Počty inzerátů podle měst/okresu/kraje"
   ]
  },
  {
   "cell_type": "code",
   "execution_count": null,
   "metadata": {},
   "outputs": [],
   "source": [
    "########################################################\n",
    "# Třikrát identické funkce: ?? \n",
    "\n",
    "#data.groupby()[].nunique()  // .count() //.size()\n"
   ]
  },
  {
   "cell_type": "code",
   "execution_count": null,
   "metadata": {},
   "outputs": [],
   "source": [
    "# 10 Měst s nejvíce inzeráty\n",
    "data.groupby(['město', \"okres\"])['url_id'].count().nlargest(10).to_frame().style.bar(align = \"mid\", color = tyrkys)"
   ]
  },
  {
   "cell_type": "code",
   "execution_count": null,
   "metadata": {},
   "outputs": [],
   "source": [
    "# 10 Měst s nejvíce inzeráty bez Prahy\n",
    "data[data[\"město\"] != \"Praha\"].groupby(['město', \"okres\"])['url_id'].count().nlargest(10).to_frame().style.bar(align = \"mid\", color = tyrkys)"
   ]
  },
  {
   "cell_type": "code",
   "execution_count": null,
   "metadata": {},
   "outputs": [],
   "source": [
    "# 10 Okresů s nejvíce inzeráty\n",
    "data.groupby('okres')['url_id'].count().nlargest(10).to_frame().style.bar(align = \"mid\", color = tyrkys)"
   ]
  },
  {
   "cell_type": "code",
   "execution_count": null,
   "metadata": {},
   "outputs": [],
   "source": [
    "# 10 Okresů s nejvíce inzeráty bez Prahy\n",
    "data[data[\"město\"] != \"Praha\"].groupby( \"okres\")['url_id'].count().nlargest(10).to_frame().style.bar(align = \"mid\", color = tyrkys)"
   ]
  },
  {
   "cell_type": "code",
   "execution_count": null,
   "metadata": {},
   "outputs": [],
   "source": [
    "# Kraje podle počtu inzerátů\n",
    "data.groupby('kraj')['url_id'].count().nlargest(20).to_frame().style.bar(align = \"mid\", color = tyrkys)"
   ]
  },
  {
   "cell_type": "markdown",
   "metadata": {},
   "source": [
    "### 2) Ceny // Ceny za metr, vše v tisících"
   ]
  },
  {
   "cell_type": "markdown",
   "metadata": {},
   "source": [
    "### 2.a) Ceny podle místností"
   ]
  },
  {
   "cell_type": "code",
   "execution_count": null,
   "metadata": {},
   "outputs": [],
   "source": [
    "# Pomocná funkce na vedle sebe grafy:) #Verze 3 - s mezerou a s popisky hned u DF\n",
    "# https://stackoverflow.com/questions/38783027/jupyter-notebook-display-two-pandas-tables-side-by-side\n",
    "\n",
    "def display_side_by_side(dfs:list, captions:list):\n",
    "    output = \"\"\n",
    "    combined = dict(zip(captions, dfs))\n",
    "    for caption, df in combined.items():\n",
    "        output += df.style.set_table_attributes(\"style='display:inline'\").set_caption(caption)._repr_html_()\n",
    "        output += \"\\xa0\\xa0\\xa0\"\n",
    "    display(HTML(output))\n"
   ]
  },
  {
   "cell_type": "code",
   "execution_count": null,
   "metadata": {},
   "outputs": [],
   "source": [
    "# Ceny celkově\n",
    "df1 = data[\"cena\"].agg(['min', \"mean\", np.median,'max']).apply(lambda x: round(x)).to_frame()\n",
    "df2 = data[\"cena_metr\"].agg(['min', \"mean\", np.median,'max']).apply(lambda x: round(x)).to_frame()\n",
    "\n",
    "display_side_by_side([df1, df2], ['Ceny celkem (tisíce)', 'Ceny za metr celkově (tisíce)'])"
   ]
  },
  {
   "cell_type": "code",
   "execution_count": null,
   "metadata": {},
   "outputs": [],
   "source": [
    "#Ceny podle místností: \n",
    "df_rooms1 = data.groupby(\"pokoje\")[\"cena\"].agg(['min', \"mean\", np.median,'max', \"count\"]).apply(lambda x: round(x)).style.bar(subset = [\"min\", \"mean\", \"median\", \"max\"], align = \"mid\", color = rudá)\n",
    "df_rooms2 = data.groupby(\"pokoje\")[\"cena_metr\"].agg(['min', \"mean\", np.median,'max', \"count\"]).apply(lambda x: round(x)).style.bar(subset = [\"min\", \"mean\", \"median\", \"max\"], align = \"mid\", color = rudá)\n",
    "\n",
    "df_rooms1"
   ]
  },
  {
   "cell_type": "code",
   "execution_count": null,
   "metadata": {},
   "outputs": [],
   "source": [
    "df_rooms2"
   ]
  },
  {
   "cell_type": "markdown",
   "metadata": {},
   "source": [
    "\n",
    "### 2.b) Ceny podle měst"
   ]
  },
  {
   "cell_type": "code",
   "execution_count": null,
   "metadata": {},
   "outputs": [],
   "source": [
    "# Ceny celkově:\n",
    "df1 = data[\"cena\"].agg(['min', \"mean\", np.median,'max']).apply(lambda x: round(x)).to_frame()\n",
    "df2 = data[\"cena_metr\"].agg(['min', \"mean\", np.median,'max']).apply(lambda x: round(x)).to_frame()\n",
    "\n",
    "display_side_by_side([df1, df2], ['Ceny celkem (tisíce)', 'Ceny za metr celkově (tisíce)'])"
   ]
  },
  {
   "cell_type": "markdown",
   "metadata": {},
   "source": [
    "### 2.b.1) Nejdražší města"
   ]
  },
  {
   "cell_type": "code",
   "execution_count": null,
   "metadata": {},
   "outputs": [],
   "source": [
    "# Nejdražší města\n",
    "df_city1 = data.groupby([\"město\", \"okres\"])[\"cena\"].agg([\"min\",  np.median, \"mean\",\"max\", \"count\"]).nlargest(15, \"median\").apply(lambda x: round(x)).style.bar(subset = [\"mean\", \"median\"], align = \"mid\", color = červená)\n",
    "df_city2 = data.groupby([\"město\", \"okres\"])[\"cena_metr\"].agg([\"min\",  np.median, \"mean\",\"max\", \"count\"]).nlargest(15, \"median\").apply(lambda x: round(x)).style.bar(subset = [\"mean\", \"median\"], align = \"mid\", color = červená)\n",
    "\n",
    "df_city1\n",
    "# Subset jen říká, kam chci barvu\n",
    "\n",
    "# Upravený kod, jde řadit nLargest i podle jednoho z více prvků !!\n",
    "# upravený kod, jde formátovat i některé sloupce\n",
    "# \n",
    "# V1 :nechám agg( [sloupec ]) a pak musím definovat který chci v Nlargest ale mám frame a nemusím dávat \"to_frame()\"\n",
    "# V2: nechám jen agg(sloupec) a pak nemusím definovat podle kterého chci řadit ale zas musím udělat to_frame()"
   ]
  },
  {
   "cell_type": "code",
   "execution_count": null,
   "metadata": {},
   "outputs": [],
   "source": [
    "df_city2"
   ]
  },
  {
   "cell_type": "markdown",
   "metadata": {},
   "source": [
    "### 2.b.2) Nejlevnější města"
   ]
  },
  {
   "cell_type": "code",
   "execution_count": null,
   "metadata": {},
   "outputs": [],
   "source": [
    "# Nejlevnější města\n",
    "df_city3 = data.groupby([\"město\", \"okres\"])[\"cena\"].agg([\"min\",  np.median, \"mean\",\"max\", \"count\"]).sort_values( \"median\",ascending = False).tail(15).apply(lambda x: round(x)).style.bar(subset = [\"mean\", \"median\"], align = \"mid\", color = zelená) \n",
    "df_city4 = data.groupby([\"město\", \"okres\"])[\"cena_metr\"].agg([\"min\",  np.median, \"mean\",\"max\", \"count\"]).sort_values( \"median\",ascending = False).tail(15).apply(lambda x: round(x)).style.bar(subset = [\"mean\", \"median\"], align = \"mid\", color = zelená) \n",
    "\n",
    "df_city3\n",
    "#  sort_values( ascending = False, \"median\").head(15) // mi nahrazuje //   .nsmalest(15, \"median\"),  protože jsem chtěl aby to bylo seřazené v sestupném pořadí\n"
   ]
  },
  {
   "cell_type": "code",
   "execution_count": null,
   "metadata": {},
   "outputs": [],
   "source": [
    "df_city4"
   ]
  },
  {
   "cell_type": "markdown",
   "metadata": {},
   "source": [
    "### 2.c) Ceny podle okresů"
   ]
  },
  {
   "cell_type": "markdown",
   "metadata": {},
   "source": [
    "### 2.c.1) Nejdražší okresy"
   ]
  },
  {
   "cell_type": "code",
   "execution_count": null,
   "metadata": {},
   "outputs": [],
   "source": [
    "# Nejdražší okresy\n",
    "df_okresy1 = data.groupby(\"okres\")[\"cena\"].agg(['min', \"mean\", np.median,'max', \"count\"]).nlargest(15, \"median\").apply(lambda x: round(x)).style.bar(subset = [\"mean\", \"median\"], align = \"mid\", color = červená)\n",
    "df_okresy2 = data.groupby(\"okres\")[\"cena_metr\"].agg(['min', \"mean\", np.median,'max', \"count\"]).nlargest(15, \"median\").apply(lambda x: round(x)).style.bar(subset = [\"mean\", \"median\"], align = \"mid\", color = červená)\n",
    "\n",
    "df_okresy1"
   ]
  },
  {
   "cell_type": "code",
   "execution_count": null,
   "metadata": {},
   "outputs": [],
   "source": [
    "df_okresy2"
   ]
  },
  {
   "cell_type": "markdown",
   "metadata": {},
   "source": [
    "### 2.c.2) Nejlevnější okresy"
   ]
  },
  {
   "cell_type": "code",
   "execution_count": null,
   "metadata": {},
   "outputs": [],
   "source": [
    "# Nejlevnější okresy\n",
    "df_okresy3 = data.groupby(\"okres\")[\"cena\"].agg(['min', \"mean\", np.median,'max', \"count\"]).sort_values( \"median\",ascending = False).tail(15).apply(lambda x: round(x)).style.bar(subset = [\"mean\", \"median\"], align = \"mid\", color = zelená) \n",
    "df_okresy4 = data.groupby(\"okres\")[\"cena_metr\"].agg(['min', \"mean\", np.median,'max', \"count\"]).sort_values( \"median\",ascending = False).tail(15).apply(lambda x: round(x)).style.bar(subset = [\"mean\", \"median\"], align = \"mid\", color = zelená) \n",
    "\n",
    "df_okresy3"
   ]
  },
  {
   "cell_type": "code",
   "execution_count": null,
   "metadata": {},
   "outputs": [],
   "source": [
    "df_okresy4"
   ]
  },
  {
   "cell_type": "markdown",
   "metadata": {},
   "source": [
    "### 2.d) Ceny podle krajů"
   ]
  },
  {
   "cell_type": "code",
   "execution_count": null,
   "metadata": {},
   "outputs": [],
   "source": [
    "# Ceny podle krajů\n",
    "df_kraje1 = data.groupby(\"kraj\")[\"cena\"].agg(['min', \"mean\", np.median,'max', \"count\"]).nlargest(15, \"median\").apply(lambda x: round(x)).style.bar(subset = [\"mean\", \"median\"], align = \"mid\", color = rudá)\n",
    "df_kraje2 = data.groupby(\"kraj\")[\"cena_metr\"].agg(['min', \"mean\", np.median,'max', \"count\"]).nlargest(15, \"median\").apply(lambda x: round(x)).style.bar(subset = [\"mean\", \"median\"], align = \"mid\", color = rudá)\n",
    "\n",
    "df_kraje1"
   ]
  },
  {
   "cell_type": "code",
   "execution_count": null,
   "metadata": {},
   "outputs": [],
   "source": [
    "df_kraje2"
   ]
  },
  {
   "cell_type": "markdown",
   "metadata": {},
   "source": [
    "### 3) Ceny podle místnosí PRAHA a MOST"
   ]
  },
  {
   "cell_type": "markdown",
   "metadata": {},
   "source": [
    "\n",
    "### 3.a) Ceny podle místností PRAHA"
   ]
  },
  {
   "cell_type": "code",
   "execution_count": null,
   "metadata": {},
   "outputs": [],
   "source": [
    "# Ceny podle místností PRAHA\n",
    "df_rooms_PRG1 = data[data[\"město\"] == \"Praha\"].groupby(\"pokoje\")[\"cena\"].agg(['min', \"mean\", np.median,'max', \"count\"]).apply(lambda x: round(x)).style.bar(subset = [\"min\", \"mean\", \"median\", \"max\"], align = \"mid\", color = rudá)\n",
    "df_rooms_PRG2 = data[data[\"město\"] == \"Praha\"].groupby(\"pokoje\")[\"cena_metr\"].agg(['min', \"mean\", np.median,'max', \"count\"]).apply(lambda x: round(x)).style.bar(subset = [\"min\", \"mean\", \"median\", \"max\"], align = \"mid\", color = rudá)\n",
    "\n",
    "# Postřeh: kde je větší nabídka, jsou i větší extrémy, aspoň co se  minim týče\n",
    "\n",
    "df_rooms_PRG1"
   ]
  },
  {
   "cell_type": "code",
   "execution_count": null,
   "metadata": {},
   "outputs": [],
   "source": [
    "df_rooms_PRG2"
   ]
  },
  {
   "cell_type": "markdown",
   "metadata": {},
   "source": [
    "### 3.b) Ceny městských částí Prahy\n",
    "* celkem 95 městských částí"
   ]
  },
  {
   "cell_type": "markdown",
   "metadata": {},
   "source": [
    "### 3.b.1) Nejdražší pražské části"
   ]
  },
  {
   "cell_type": "code",
   "execution_count": null,
   "metadata": {},
   "outputs": [],
   "source": [
    "# Nejdražší pražské části\n",
    "df_oblast_PRG1 = data[data[\"město\"] == \"Praha\"].groupby(\"oblast\")[\"cena\"].agg(['min', \"mean\", np.median,'max', \"count\"]).nlargest(15, columns = \"median\").apply(lambda x: round(x)).style.bar(subset = [\"mean\", \"median\"], align = \"mid\", color = červená)\n",
    "df_oblast_PRG2 = data[data[\"město\"] == \"Praha\"].groupby(\"oblast\")[\"cena_metr\"].agg(['min', \"mean\", np.median,'max', \"count\"]).nlargest(15, columns = \"median\").apply(lambda x: round(x)).style.bar(subset = [\"mean\", \"median\"], align = \"mid\", color = červená)\n",
    "\n",
    "df_oblast_PRG1"
   ]
  },
  {
   "cell_type": "code",
   "execution_count": null,
   "metadata": {},
   "outputs": [],
   "source": [
    "df_oblast_PRG2"
   ]
  },
  {
   "cell_type": "markdown",
   "metadata": {},
   "source": [
    "### 3.b.2) Nejlevnější pražské části"
   ]
  },
  {
   "cell_type": "code",
   "execution_count": null,
   "metadata": {},
   "outputs": [],
   "source": [
    "# Nejlevnější pražské části\n",
    "df_oblast_PRG3 = data[data[\"město\"] == \"Praha\"].groupby(\"oblast\")[\"cena\"].agg(['min', \"mean\", np.median,'max', \"count\"]).sort_values( \"median\",ascending = False).tail(15).apply(lambda x: round(x)).style.bar(subset = [\"mean\", \"median\"], align = \"mid\", color = zelená)\n",
    "df_oblast_PRG4 = data[data[\"město\"] == \"Praha\"].groupby(\"oblast\")[\"cena_metr\"].agg(['min', \"mean\", np.median,'max', \"count\"]).sort_values( \"median\",ascending = False).tail(15).apply(lambda x: round(x)).style.bar(subset = [\"mean\", \"median\"], align = \"mid\", color = zelená)\n",
    "\n",
    "df_oblast_PRG3"
   ]
  },
  {
   "cell_type": "code",
   "execution_count": null,
   "metadata": {},
   "outputs": [],
   "source": [
    "df_oblast_PRG4"
   ]
  },
  {
   "cell_type": "markdown",
   "metadata": {},
   "source": [
    "### 3.c) Ceny podle místností MOST"
   ]
  },
  {
   "cell_type": "code",
   "execution_count": null,
   "metadata": {},
   "outputs": [],
   "source": [
    "# Ceny podle místností MOST\n",
    "\n",
    "#Ten poslední jediný záznam  4+kk to trošku rozbourává ...Takže ho zkusím spíš odebrat\n",
    "df_rooms_MOST1 = data[(data[\"město\"] == \"Most\") & (data[\"pokoje\"] != \"4+kk\")].groupby([\"město\", \"pokoje\"])[\"cena\"].agg(['min', \"mean\", np.median,'max', \"count\"]).apply(lambda x: round(x)).style.bar(subset = [\"min\", \"mean\", \"median\", \"max\"], align = \"mid\", color = rudá)\n",
    "df_rooms_MOST2 = data[(data[\"město\"] == \"Most\") & (data[\"pokoje\"] != \"4+kk\")].groupby([\"město\", \"pokoje\"])[\"cena_metr\"].agg(['min', \"mean\", np.median,'max', \"count\"]).apply(lambda x: round(x)).style.bar(subset = [\"min\", \"mean\", \"median\", \"max\"], align = \"mid\", color = rudá)\n",
    "\n",
    "df_rooms_MOST1"
   ]
  },
  {
   "cell_type": "code",
   "execution_count": null,
   "metadata": {},
   "outputs": [],
   "source": [
    "df_rooms_MOST2"
   ]
  },
  {
   "cell_type": "markdown",
   "metadata": {},
   "source": [
    "### 3.d)  PRAHA vs MOST"
   ]
  },
  {
   "cell_type": "code",
   "execution_count": null,
   "metadata": {},
   "outputs": [],
   "source": [
    "# Cena Praha - Most podle místností\n",
    "\n",
    "# Porovnám jen ty pokoje, které existují i v mostě, vyhnu se tím super extrémům\n",
    "# Odebral jsem i 4+kk protože za Most byl jediný záznam - viz předešlý graf\n",
    "\n",
    "df_pokoje_PRG_MOST1 = data[((data.město == \"Praha\") | (data.město == \"Most\")) & (data.pokoje != \"4+kk\")& (data.pokoje != \"5+1\") & (data.pokoje != \"5+kk\") & (data.pokoje != \"6-a-vice\") & (data.pokoje != \"atypicky\") & (data.pokoje != \"5+1\") ]\\\n",
    ".groupby([\"pokoje\",\"město\" ])[\"cena\"].agg(['min', \"mean\", np.median,'max', \"count\"]).apply(lambda x: round(x)).style.bar(subset = [\"min\", \"mean\", \"median\", \"max\"], align = \"mid\", color = rudá)\n",
    "\n",
    "df_pokoje_PRG_MOST2 = data[((data.město == \"Praha\") | (data.město == \"Most\")) & (data.pokoje != \"4+kk\")& (data.pokoje != \"5+1\") & (data.pokoje != \"5+kk\") & (data.pokoje != \"6-a-vice\") & (data.pokoje != \"atypicky\") & (data.pokoje != \"5+1\") ]\\\n",
    ".groupby([\"pokoje\",\"město\" ])[\"cena_metr\"].agg(['min', \"mean\", np.median,'max', \"count\"]).apply(lambda x: round(x)).style.bar(subset = [\"min\", \"mean\", \"median\", \"max\"], align = \"mid\", color = rudá)\n",
    "\n",
    "df_pokoje_PRG_MOST1"
   ]
  },
  {
   "cell_type": "code",
   "execution_count": null,
   "metadata": {},
   "outputs": [],
   "source": [
    "df_pokoje_PRG_MOST2"
   ]
  },
  {
   "cell_type": "markdown",
   "metadata": {},
   "source": [
    "### Zajímavý extrém... Praha 1+kk za 10 mega -> Už ho přejmenovali na 2+kk"
   ]
  },
  {
   "cell_type": "code",
   "execution_count": null,
   "metadata": {},
   "outputs": [],
   "source": [
    "data[(data.město == \"Praha\") & (data.cena >10000)  & ((data.pokoje == \"1+kk\")| (data.pokoje == \"1+1\"))]"
   ]
  },
  {
   "cell_type": "markdown",
   "metadata": {},
   "source": [
    "### 4) Pivoty"
   ]
  },
  {
   "cell_type": "markdown",
   "metadata": {},
   "source": [
    "### 4.a) Pivot Pražské části x Pokoje\n",
    "* 95 pražských částí"
   ]
  },
  {
   "cell_type": "code",
   "execution_count": null,
   "metadata": {},
   "outputs": [],
   "source": [
    "table = pd.pivot_table(data[data[\"město\"] == \"Praha\"], values='cena', index=['oblast'],\n",
    "                    columns=['pokoje'], aggfunc=np.mean).apply(lambda x: round(x))\n",
    "\n",
    "# V1- Jen bílé nuly   # table.highlight_null(null_color='white')\n",
    "# V2 - cmap = cm -> bílo-zelená    cm = sns.light_palette(\"green\", as_cmap=True)\n",
    "# V3 - cmap = \"viridis\"\n",
    "# V4 - cmap = \"magma\"\n",
    "# V5 - Inferno\n",
    "# V6 - hot\n",
    "\n",
    "# V5 - \"magma_r\"\n",
    "table.style.background_gradient(cmap='magma_r')"
   ]
  },
  {
   "cell_type": "markdown",
   "metadata": {},
   "source": [
    "### Nedodělaný HeatMap"
   ]
  },
  {
   "cell_type": "code",
   "execution_count": null,
   "metadata": {},
   "outputs": [],
   "source": [
    "import matplotlib.pyplot as plt\n",
    "\n",
    "fig, ax = plt.subplots(figsize=(15,35)) \n",
    "\n",
    "sns.heatmap(table, annot=True,fmt=\".0f\")"
   ]
  },
  {
   "cell_type": "markdown",
   "metadata": {},
   "source": [
    "### 4.b) Pivot Kraje x Pokoje"
   ]
  },
  {
   "cell_type": "code",
   "execution_count": null,
   "metadata": {},
   "outputs": [],
   "source": [
    "table = pd.pivot_table(data, values='cena', index=['kraj'],\n",
    "                    columns=['pokoje'], aggfunc=np.mean).apply(lambda x: round(x))\n",
    "\n",
    "cm = sns.light_palette(\"green\", as_cmap=True)\n",
    "table.style.background_gradient(cmap='magma_r')\n",
    "\n"
   ]
  },
  {
   "cell_type": "markdown",
   "metadata": {},
   "source": [
    "### 4.c) Pivot Kraje (bez Prahy) x Pokoje"
   ]
  },
  {
   "cell_type": "code",
   "execution_count": null,
   "metadata": {},
   "outputs": [],
   "source": [
    "table = pd.pivot_table(data[data.město != \"Praha\"], values='cena', index=['kraj'],\n",
    "                    columns=['pokoje'], aggfunc=np.mean).apply(lambda x: round(x))\n",
    "\n",
    "cm = sns.light_palette(\"green\", as_cmap=True)\n",
    "table.style.background_gradient(cmap='magma_r')"
   ]
  },
  {
   "cell_type": "code",
   "execution_count": null,
   "metadata": {},
   "outputs": [],
   "source": [
    "def magnify():\n",
    "    return [dict(selector=\"th\",\n",
    "                 props=[(\"font-size\", \"8pt\")]),\n",
    "            dict(selector=\"td\",\n",
    "                 props=[('padding', \"0em 0em\")]),\n",
    "            dict(selector=\"th:hover\",\n",
    "                 props=[(\"font-size\", \"24pt\")]),\n",
    "            dict(selector=\"tr:hover td:hover\",\n",
    "                 props=[('max-width', '600px'),\n",
    "                        ('font-size', '36pt')])\n",
    "]"
   ]
  },
  {
   "cell_type": "code",
   "execution_count": null,
   "metadata": {},
   "outputs": [],
   "source": [
    "table.style.background_gradient(cmap = \"magma_r\")\\\n",
    "    .set_properties(**{'max-width': '1200px', 'font-size': '1pt'})\\\n",
    "    .set_caption(\"Hover to magnify\")\\\n",
    "    .set_precision(10)\\\n",
    "    .set_table_styles(magnify())\n",
    "\n",
    "# Precision ovlivní délku čísla"
   ]
  },
  {
   "cell_type": "code",
   "execution_count": null,
   "metadata": {},
   "outputs": [],
   "source": [
    "\n",
    "\n",
    "\n",
    "\n",
    "\n",
    "\n",
    "\n"
   ]
  },
  {
   "cell_type": "markdown",
   "metadata": {},
   "source": [
    "## 5) Interaktívní widgety = DODĚLAT"
   ]
  },
  {
   "cell_type": "code",
   "execution_count": null,
   "metadata": {},
   "outputs": [],
   "source": [
    "def unique_sorted_values_plus_ALL(array):\n",
    "    unique = array.unique().tolist()\n",
    "    unique.sort()\n",
    "    return unique\n",
    "\n",
    "cities = widgets.Dropdown(options =  unique_sorted_values_plus_ALL(data.city_one_praha))\n",
    "\n",
    "def dropdown_year_eventhandler(change):\n",
    "    display(data[data.city_one_praha == change.new])\n",
    "\n",
    "cities.observe(dropdown_year_eventhandler, names='value')\n",
    "\n",
    "display(cities)\n",
    "\n",
    " "
   ]
  },
  {
   "cell_type": "code",
   "execution_count": null,
   "metadata": {},
   "outputs": [],
   "source": [
    "output = widgets.Output()\n",
    "display(output)"
   ]
  },
  {
   "cell_type": "code",
   "execution_count": null,
   "metadata": {},
   "outputs": [],
   "source": [
    "from ipywidgets import interact\n",
    "\n",
    "import jupyterlab-widgets as lab_widgets"
   ]
  },
  {
   "cell_type": "code",
   "execution_count": null,
   "metadata": {},
   "outputs": [],
   "source": [
    "#    jupyter labextension install @jupyter-widgets/jupyterlab-manager\n",
    "# Nevidím nikde svj návod, ale jel jsme jinak podle: https://towardsdatascience.com/bring-your-jupyter-notebook-to-life-with-interactive-widgets-bc12e03f0916\n",
    "\n",
    "\n",
    "\n",
    "ALL = 'ALL'\n",
    "def unique_sorted_values_plus_ALL(array):\n",
    "    unique = array.unique().tolist()\n",
    "    unique.sort()\n",
    "    unique.insert(0, ALL)\n",
    "    return unique\n",
    "################################\n",
    "\n",
    "dropdown_year = widgets.Dropdown(options = unique_sorted_values_plus_ALL(data.city_one_praha))\n",
    "\n",
    "output_year = widgets.Output()\n",
    "\n",
    "def dropdown_year_eventhandler(change):\n",
    "    output_year.clear_output()\n",
    "    with output_year:\n",
    "        if (change.new == ALL):\n",
    "            display(data)\n",
    "        else:\n",
    "            display(data[data.city_one_praha == change.new])\n",
    "\n",
    "dropdown_year.observe(dropdown_year_eventhandler, names='value')\n",
    "\n",
    "display(dropdown_year)\n",
    "\n",
    "        \n",
    "\n",
    "\n",
    "\n"
   ]
  },
  {
   "cell_type": "code",
   "execution_count": null,
   "metadata": {},
   "outputs": [],
   "source": [
    "display(output_year)\n"
   ]
  },
  {
   "cell_type": "code",
   "execution_count": null,
   "metadata": {},
   "outputs": [],
   "source": []
  },
  {
   "cell_type": "code",
   "execution_count": null,
   "metadata": {},
   "outputs": [],
   "source": []
  },
  {
   "cell_type": "code",
   "execution_count": null,
   "metadata": {},
   "outputs": [],
   "source": []
  }
 ],
 "metadata": {
  "kernelspec": {
   "display_name": "Python 3",
   "language": "python",
   "name": "python3"
  },
  "language_info": {
   "codemirror_mode": {
    "name": "ipython",
    "version": 3
   },
   "file_extension": ".py",
   "mimetype": "text/x-python",
   "name": "python",
   "nbconvert_exporter": "python",
   "pygments_lexer": "ipython3",
   "version": "3.6.5"
  }
 },
 "nbformat": 4,
 "nbformat_minor": 2
}

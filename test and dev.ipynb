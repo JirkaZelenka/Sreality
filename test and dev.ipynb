{
 "cells": [
  {
   "cell_type": "markdown",
   "metadata": {},
   "source": [
    "-----------------------\n",
    "## 1) New way of scraping  11.4.2024\n",
    "-----------------------"
   ]
  },
  {
   "cell_type": "code",
   "execution_count": null,
   "metadata": {},
   "outputs": [],
   "source": [
    "from datetime import datetime\n",
    "import pandas as pd\n",
    "from tqdm import tqdm  \n",
    "import requests \n",
    "\n",
    "import os\n",
    "os.chdir(\"c:\\\\Users\\\\jirka\\\\Documents\\\\MyProjects\\\\Sreality\")\n",
    "from scraper.scraper import SrealityScraper\n",
    "from db_managment.data_manager import DataManager\n",
    "from utils.utils import Utilities\n",
    "from run import Runner"
   ]
  },
  {
   "cell_type": "markdown",
   "metadata": {},
   "source": [
    "### My Simple run - no follow-up scraping"
   ]
  },
  {
   "cell_type": "code",
   "execution_count": null,
   "metadata": {},
   "outputs": [],
   "source": [
    "scraper = SrealityScraper()\n",
    "utils = Utilities()\n",
    "\n",
    "full_datetime, date_to_save = utils.generate_timestamp()\n",
    "print(full_datetime, date_to_save)\n",
    "\n",
    "data_prodej_byty = scraper.scrape_all_with_filter(timestamp=full_datetime, category_main_cb=1,category_type_cb=1)\n",
    "df_data_prodej_byty = pd.DataFrame(data_prodej_byty)\n",
    "utils.safe_save_csv(df_data_prodej_byty, f\"data_{date_to_save}\")\n",
    "\n",
    "data_all = scraper.scrape_all_with_filter(timestamp=full_datetime)\n",
    "df_data_all = pd.DataFrame(data_all)\n",
    "utils.safe_save_csv(df_data_all, f\"data_all_{date_to_save}\")"
   ]
  },
  {
   "cell_type": "code",
   "execution_count": null,
   "metadata": {},
   "outputs": [],
   "source": [
    "# Just testing count\n",
    "headers = {\"User-Agent\": \"Mozilla/5.0\"}\n",
    "\n",
    "with requests.Session() as session:\n",
    "    url = \"https://www.sreality.cz/api/cs/v2/estates/count\"\n",
    "    result =  session.request(method=\"GET\", url=url, headers=headers).json()\n",
    "    print(result)\n",
    "    url_filter = f\"https://www.sreality.cz/api/cs/v2/estates?category_main_cb=1&category_type_cb=1&per_page=1&page=1\"\n",
    "    result2 =  session.request(method=\"GET\", url=url_filter).json()\n",
    "    print(result2)"
   ]
  },
  {
   "cell_type": "code",
   "execution_count": null,
   "metadata": {},
   "outputs": [],
   "source": [
    "scraper = SrealityScraper()\n",
    "utils = Utilities()\n",
    "full_datetime, date_to_save = utils.generate_timestamp()\n",
    "\n",
    "new_data = scraper.scrape_specific_estates([\"95413580\"], full_datetime)\n",
    "display(new_data)"
   ]
  },
  {
   "cell_type": "code",
   "execution_count": null,
   "metadata": {},
   "outputs": [],
   "source": [
    "headers = {\"User-Agent\": \"Mozilla/5.0\"}\n",
    "\n",
    "with requests.Session() as session:\n",
    "    url = \"https://www.sreality.cz/api/cs/v2/estates/95413580\"\n",
    "    result =  session.request(method=\"GET\", url=url, headers=headers).json()\n",
    "    display(result)\n"
   ]
  },
  {
   "cell_type": "markdown",
   "metadata": {},
   "source": [
    "## Full Run with follow-up scraping"
   ]
  },
  {
   "cell_type": "code",
   "execution_count": null,
   "metadata": {},
   "outputs": [],
   "source": [
    "runner = Runner()\n",
    "\n",
    "res = runner.regular_run(scrape_prodej_byty=True, scrape_all=True)"
   ]
  },
  {
   "cell_type": "markdown",
   "metadata": {},
   "source": [
    "## Test Utils"
   ]
  },
  {
   "cell_type": "code",
   "execution_count": 1,
   "metadata": {},
   "outputs": [],
   "source": [
    "from db_managment.data_manager import DataManager\n",
    "from utils.utils import Utilities\n",
    "import pandas as pd\n",
    "\n",
    "data_manager = DataManager()\n",
    "utils = Utilities()"
   ]
  },
  {
   "cell_type": "code",
   "execution_count": 2,
   "metadata": {},
   "outputs": [
    {
     "name": "stdout",
     "output_type": "stream",
     "text": [
      "Index(['code', 'description', 'meta_description', 'category_main_cb',\n",
      "       'category_sub_cb', 'category_type_cb', 'broker_id', 'broker_company',\n",
      "       'furnished', 'locality_gps_lat', 'locality_gps_lon', 'object_type',\n",
      "       'parking_lots', 'locality_street_id', 'locality_district_id',\n",
      "       'locality_ward_id', 'locality_region_id', 'locality_quarter_id',\n",
      "       'locality_municipality_id', 'locality_country_id', 'terrace', 'balcony',\n",
      "       'loggia', 'basin', 'cellar', 'building_type', 'object_kind',\n",
      "       'usable_area', 'ownership', 'low_energy', 'easy_access',\n",
      "       'building_condition', 'garage', 'room_count_cb',\n",
      "       'energy_efficiency_rating_cb', 'note_about_price', 'last_update',\n",
      "       'material', 'age_of_building', 'ownership_type', 'floor', 'floor_area',\n",
      "       'no_barriers', 'timestamp', 'id_of_order', 'start_of_offer'],\n",
      "      dtype='object')\n"
     ]
    },
    {
     "data": {
      "text/html": [
       "<div>\n",
       "<style scoped>\n",
       "    .dataframe tbody tr th:only-of-type {\n",
       "        vertical-align: middle;\n",
       "    }\n",
       "\n",
       "    .dataframe tbody tr th {\n",
       "        vertical-align: top;\n",
       "    }\n",
       "\n",
       "    .dataframe thead th {\n",
       "        text-align: right;\n",
       "    }\n",
       "</style>\n",
       "<table border=\"1\" class=\"dataframe\">\n",
       "  <thead>\n",
       "    <tr style=\"text-align: right;\">\n",
       "      <th></th>\n",
       "      <th>code</th>\n",
       "      <th>description</th>\n",
       "      <th>meta_description</th>\n",
       "      <th>category_main_cb</th>\n",
       "      <th>category_sub_cb</th>\n",
       "      <th>category_type_cb</th>\n",
       "      <th>broker_id</th>\n",
       "      <th>broker_company</th>\n",
       "      <th>furnished</th>\n",
       "      <th>locality_gps_lat</th>\n",
       "      <th>...</th>\n",
       "      <th>last_update</th>\n",
       "      <th>material</th>\n",
       "      <th>age_of_building</th>\n",
       "      <th>ownership_type</th>\n",
       "      <th>floor</th>\n",
       "      <th>floor_area</th>\n",
       "      <th>no_barriers</th>\n",
       "      <th>timestamp</th>\n",
       "      <th>id_of_order</th>\n",
       "      <th>start_of_offer</th>\n",
       "    </tr>\n",
       "  </thead>\n",
       "  <tbody>\n",
       "    <tr>\n",
       "      <th>53</th>\n",
       "      <td>2550375756</td>\n",
       "      <td>S radostí Vám představujeme výjimečný byt 3+kk...</td>\n",
       "      <td>Byt 3+kk 79 m² k prodeji Holýšovská, Praha 5 -...</td>\n",
       "      <td>1.0</td>\n",
       "      <td>6.0</td>\n",
       "      <td>1.0</td>\n",
       "      <td>84338</td>\n",
       "      <td>BVS INVESTMENTS s.r.o.</td>\n",
       "      <td>2.0</td>\n",
       "      <td>50.041056</td>\n",
       "      <td>...</td>\n",
       "      <td>07.03.2024</td>\n",
       "      <td>Smíšená</td>\n",
       "      <td>Velmi dobrý</td>\n",
       "      <td>Osobní</td>\n",
       "      <td>10. podlaží</td>\n",
       "      <td>79</td>\n",
       "      <td>NaN</td>\n",
       "      <td>2024-04-22 16:38:39</td>\n",
       "      <td>000022</td>\n",
       "      <td>NaN</td>\n",
       "    </tr>\n",
       "    <tr>\n",
       "      <th>54</th>\n",
       "      <td>2878338380</td>\n",
       "      <td>Nabízíme k prodeji byt o velikosti 3 + 1 v oso...</td>\n",
       "      <td>Byt 3+1 102 m² k prodeji Moučná, Poděbrady - P...</td>\n",
       "      <td>1.0</td>\n",
       "      <td>7.0</td>\n",
       "      <td>1.0</td>\n",
       "      <td>287156</td>\n",
       "      <td>Honzejková</td>\n",
       "      <td>3.0</td>\n",
       "      <td>50.150831</td>\n",
       "      <td>...</td>\n",
       "      <td>21.03.2024</td>\n",
       "      <td>Smíšená</td>\n",
       "      <td>Velmi dobrý</td>\n",
       "      <td>Osobní</td>\n",
       "      <td>1. podlaží z celkem 5</td>\n",
       "      <td>102</td>\n",
       "      <td>NaN</td>\n",
       "      <td>2024-04-22 16:38:39</td>\n",
       "      <td>0184</td>\n",
       "      <td>NaN</td>\n",
       "    </tr>\n",
       "  </tbody>\n",
       "</table>\n",
       "<p>2 rows × 46 columns</p>\n",
       "</div>"
      ],
      "text/plain": [
       "          code                                        description  \\\n",
       "53  2550375756  S radostí Vám představujeme výjimečný byt 3+kk...   \n",
       "54  2878338380  Nabízíme k prodeji byt o velikosti 3 + 1 v oso...   \n",
       "\n",
       "                                     meta_description  category_main_cb  \\\n",
       "53  Byt 3+kk 79 m² k prodeji Holýšovská, Praha 5 -...               1.0   \n",
       "54  Byt 3+1 102 m² k prodeji Moučná, Poděbrady - P...               1.0   \n",
       "\n",
       "    category_sub_cb  category_type_cb broker_id          broker_company  \\\n",
       "53              6.0               1.0     84338  BVS INVESTMENTS s.r.o.   \n",
       "54              7.0               1.0    287156              Honzejková   \n",
       "\n",
       "    furnished  locality_gps_lat  ...  last_update  material  age_of_building  \\\n",
       "53        2.0         50.041056  ...   07.03.2024   Smíšená      Velmi dobrý   \n",
       "54        3.0         50.150831  ...   21.03.2024   Smíšená      Velmi dobrý   \n",
       "\n",
       "    ownership_type                  floor  floor_area  no_barriers  \\\n",
       "53          Osobní            10. podlaží          79          NaN   \n",
       "54          Osobní  1. podlaží z celkem 5         102          NaN   \n",
       "\n",
       "              timestamp  id_of_order  start_of_offer  \n",
       "53  2024-04-22 16:38:39       000022             NaN  \n",
       "54  2024-04-22 16:38:39         0184             NaN  \n",
       "\n",
       "[2 rows x 46 columns]"
      ]
     },
     "execution_count": 2,
     "metadata": {},
     "output_type": "execute_result"
    }
   ],
   "source": [
    "df_new = utils.prep_df_new_estates(\"20240422_1647.json\")\n",
    "print(df_new.columns)\n",
    "df_new.tail(2)"
   ]
  },
  {
   "cell_type": "code",
   "execution_count": 3,
   "metadata": {},
   "outputs": [
    {
     "ename": "KeyError",
     "evalue": "'locality'",
     "output_type": "error",
     "traceback": [
      "\u001b[1;31m---------------------------------------------------------------------------\u001b[0m",
      "\u001b[1;31mKeyError\u001b[0m                                  Traceback (most recent call last)",
      "File \u001b[1;32mc:\\Users\\jirka\\Documents\\MyProjects\\Sreality\\venv\\Lib\\site-packages\\pandas\\core\\indexes\\base.py:3805\u001b[0m, in \u001b[0;36mIndex.get_loc\u001b[1;34m(self, key)\u001b[0m\n\u001b[0;32m   3804\u001b[0m \u001b[38;5;28;01mtry\u001b[39;00m:\n\u001b[1;32m-> 3805\u001b[0m     \u001b[38;5;28;01mreturn\u001b[39;00m \u001b[38;5;28;43mself\u001b[39;49m\u001b[38;5;241;43m.\u001b[39;49m\u001b[43m_engine\u001b[49m\u001b[38;5;241;43m.\u001b[39;49m\u001b[43mget_loc\u001b[49m\u001b[43m(\u001b[49m\u001b[43mcasted_key\u001b[49m\u001b[43m)\u001b[49m\n\u001b[0;32m   3806\u001b[0m \u001b[38;5;28;01mexcept\u001b[39;00m \u001b[38;5;167;01mKeyError\u001b[39;00m \u001b[38;5;28;01mas\u001b[39;00m err:\n",
      "File \u001b[1;32mindex.pyx:167\u001b[0m, in \u001b[0;36mpandas._libs.index.IndexEngine.get_loc\u001b[1;34m()\u001b[0m\n",
      "File \u001b[1;32mindex.pyx:196\u001b[0m, in \u001b[0;36mpandas._libs.index.IndexEngine.get_loc\u001b[1;34m()\u001b[0m\n",
      "File \u001b[1;32mpandas\\\\_libs\\\\hashtable_class_helper.pxi:7081\u001b[0m, in \u001b[0;36mpandas._libs.hashtable.PyObjectHashTable.get_item\u001b[1;34m()\u001b[0m\n",
      "File \u001b[1;32mpandas\\\\_libs\\\\hashtable_class_helper.pxi:7089\u001b[0m, in \u001b[0;36mpandas._libs.hashtable.PyObjectHashTable.get_item\u001b[1;34m()\u001b[0m\n",
      "\u001b[1;31mKeyError\u001b[0m: 'locality'",
      "\nThe above exception was the direct cause of the following exception:\n",
      "\u001b[1;31mKeyError\u001b[0m                                  Traceback (most recent call last)",
      "Cell \u001b[1;32mIn[3], line 6\u001b[0m\n\u001b[0;32m      1\u001b[0m timestamp, _ \u001b[38;5;241m=\u001b[39m utils\u001b[38;5;241m.\u001b[39mgenerate_timestamp()\n\u001b[0;32m      2\u001b[0m \u001b[38;5;66;03m#TODO: musím nejprve vygenerovat 4 sloupečky žejo, to locality, city ,district, region\u001b[39;00m\n\u001b[0;32m      3\u001b[0m \u001b[38;5;66;03m#TODO: naopak missing vlaues jsou asi OK, prostě mám NANy v df ..\u001b[39;00m\n\u001b[0;32m      4\u001b[0m \u001b[38;5;66;03m#TODO.. jo aha to není řešení. pokud value chybí u všech položek v JSONu, tak sloupec zmizí a tradá.\u001b[39;00m\n\u001b[1;32m----> 6\u001b[0m \u001b[43mdata_manager\u001b[49m\u001b[38;5;241;43m.\u001b[39;49m\u001b[43m_insert_new_estate\u001b[49m\u001b[43m(\u001b[49m\u001b[43mdf_new\u001b[49m\u001b[43m,\u001b[49m\u001b[43m \u001b[49m\u001b[43mtimestamp\u001b[49m\u001b[43m)\u001b[49m\n",
      "File \u001b[1;32mc:\\Users\\jirka\\Documents\\MyProjects\\Sreality\\db_managment\\data_manager.py:98\u001b[0m, in \u001b[0;36mDataManager._insert_new_estate\u001b[1;34m(self, df, timestamp)\u001b[0m\n\u001b[0;32m     84\u001b[0m \u001b[38;5;28;01mfor\u001b[39;00m i \u001b[38;5;129;01min\u001b[39;00m \u001b[38;5;28mrange\u001b[39m(\u001b[38;5;28mlen\u001b[39m(df)):\n\u001b[0;32m     85\u001b[0m     r \u001b[38;5;241m=\u001b[39m df\u001b[38;5;241m.\u001b[39miloc[i]\n\u001b[0;32m     86\u001b[0m     data_to_upload\u001b[38;5;241m.\u001b[39mappend([\n\u001b[0;32m     87\u001b[0m         \u001b[38;5;28mstr\u001b[39m(r[\u001b[38;5;124m'\u001b[39m\u001b[38;5;124mcode\u001b[39m\u001b[38;5;124m'\u001b[39m]),\n\u001b[0;32m     88\u001b[0m         \u001b[38;5;28mstr\u001b[39m(r[\u001b[38;5;124m'\u001b[39m\u001b[38;5;124mdescription\u001b[39m\u001b[38;5;124m'\u001b[39m]),\n\u001b[0;32m     89\u001b[0m         \u001b[38;5;28mstr\u001b[39m(r[\u001b[38;5;124m'\u001b[39m\u001b[38;5;124mmeta_description\u001b[39m\u001b[38;5;124m'\u001b[39m]),\n\u001b[0;32m     90\u001b[0m         \u001b[38;5;28mstr\u001b[39m(r[\u001b[38;5;124m'\u001b[39m\u001b[38;5;124mcategory_main_cb\u001b[39m\u001b[38;5;124m'\u001b[39m]),\n\u001b[0;32m     91\u001b[0m         \u001b[38;5;28mstr\u001b[39m(r[\u001b[38;5;124m'\u001b[39m\u001b[38;5;124mcategory_type_cb\u001b[39m\u001b[38;5;124m'\u001b[39m]),\n\u001b[0;32m     92\u001b[0m         \u001b[38;5;28mstr\u001b[39m(r[\u001b[38;5;124m'\u001b[39m\u001b[38;5;124mcategory_sub_cb\u001b[39m\u001b[38;5;124m'\u001b[39m]),\n\u001b[0;32m     93\u001b[0m         \u001b[38;5;28mstr\u001b[39m(r[\u001b[38;5;124m'\u001b[39m\u001b[38;5;124mbroker_id\u001b[39m\u001b[38;5;124m'\u001b[39m]),\n\u001b[0;32m     94\u001b[0m         \u001b[38;5;28mstr\u001b[39m(r[\u001b[38;5;124m'\u001b[39m\u001b[38;5;124mbroker_company\u001b[39m\u001b[38;5;124m'\u001b[39m]),\n\u001b[0;32m     95\u001b[0m         \u001b[38;5;28mstr\u001b[39m(r[\u001b[38;5;124m'\u001b[39m\u001b[38;5;124mfurnished\u001b[39m\u001b[38;5;124m'\u001b[39m]),\n\u001b[0;32m     96\u001b[0m         \u001b[38;5;28mstr\u001b[39m(r[\u001b[38;5;124m'\u001b[39m\u001b[38;5;124mlocality_gps_lat\u001b[39m\u001b[38;5;124m'\u001b[39m]),\n\u001b[0;32m     97\u001b[0m         \u001b[38;5;28mstr\u001b[39m(r[\u001b[38;5;124m'\u001b[39m\u001b[38;5;124mlocality_gps_lon\u001b[39m\u001b[38;5;124m'\u001b[39m]),\n\u001b[1;32m---> 98\u001b[0m         \u001b[38;5;28mstr\u001b[39m(\u001b[43mr\u001b[49m\u001b[43m[\u001b[49m\u001b[38;5;124;43m'\u001b[39;49m\u001b[38;5;124;43mlocality\u001b[39;49m\u001b[38;5;124;43m'\u001b[39;49m\u001b[43m]\u001b[49m), \n\u001b[0;32m     99\u001b[0m         \u001b[38;5;28mstr\u001b[39m(r[\u001b[38;5;124m'\u001b[39m\u001b[38;5;124mcity\u001b[39m\u001b[38;5;124m'\u001b[39m]), \n\u001b[0;32m    100\u001b[0m         \u001b[38;5;28mstr\u001b[39m(r[\u001b[38;5;124m'\u001b[39m\u001b[38;5;124mdistrict\u001b[39m\u001b[38;5;124m'\u001b[39m]), \n\u001b[0;32m    101\u001b[0m         \u001b[38;5;28mstr\u001b[39m(r[\u001b[38;5;124m'\u001b[39m\u001b[38;5;124mregion\u001b[39m\u001b[38;5;124m'\u001b[39m]),\n\u001b[0;32m    102\u001b[0m         \u001b[38;5;28mstr\u001b[39m(r[\u001b[38;5;124m'\u001b[39m\u001b[38;5;124mobject_type\u001b[39m\u001b[38;5;124m'\u001b[39m]),\n\u001b[0;32m    103\u001b[0m         \u001b[38;5;28mstr\u001b[39m(r[\u001b[38;5;124m'\u001b[39m\u001b[38;5;124mparking_lots\u001b[39m\u001b[38;5;124m'\u001b[39m]),\n\u001b[0;32m    104\u001b[0m         \u001b[38;5;28mstr\u001b[39m(r[\u001b[38;5;124m'\u001b[39m\u001b[38;5;124mlocality_street_id\u001b[39m\u001b[38;5;124m'\u001b[39m]),\n\u001b[0;32m    105\u001b[0m         \u001b[38;5;28mstr\u001b[39m(r[\u001b[38;5;124m'\u001b[39m\u001b[38;5;124mlocality_district_id\u001b[39m\u001b[38;5;124m'\u001b[39m]),\n\u001b[0;32m    106\u001b[0m         \u001b[38;5;28mstr\u001b[39m(r[\u001b[38;5;124m'\u001b[39m\u001b[38;5;124mlocality_ward_id\u001b[39m\u001b[38;5;124m'\u001b[39m]),\n\u001b[0;32m    107\u001b[0m         \u001b[38;5;28mstr\u001b[39m(r[\u001b[38;5;124m'\u001b[39m\u001b[38;5;124mlocality_region_id\u001b[39m\u001b[38;5;124m'\u001b[39m]),\n\u001b[0;32m    108\u001b[0m         \u001b[38;5;28mstr\u001b[39m(r[\u001b[38;5;124m'\u001b[39m\u001b[38;5;124mlocality_quarter_id\u001b[39m\u001b[38;5;124m'\u001b[39m]),\n\u001b[0;32m    109\u001b[0m         \u001b[38;5;28mstr\u001b[39m(r[\u001b[38;5;124m'\u001b[39m\u001b[38;5;124mlocality_municipality_id\u001b[39m\u001b[38;5;124m'\u001b[39m]),\n\u001b[0;32m    110\u001b[0m         \u001b[38;5;28mstr\u001b[39m(r[\u001b[38;5;124m'\u001b[39m\u001b[38;5;124mlocality_country_id\u001b[39m\u001b[38;5;124m'\u001b[39m]),\n\u001b[0;32m    111\u001b[0m         \u001b[38;5;28mstr\u001b[39m(r[\u001b[38;5;124m'\u001b[39m\u001b[38;5;124mterrace\u001b[39m\u001b[38;5;124m'\u001b[39m]),\n\u001b[0;32m    112\u001b[0m         \u001b[38;5;28mstr\u001b[39m(r[\u001b[38;5;124m'\u001b[39m\u001b[38;5;124mbalcony\u001b[39m\u001b[38;5;124m'\u001b[39m]),\n\u001b[0;32m    113\u001b[0m         \u001b[38;5;28mstr\u001b[39m(r[\u001b[38;5;124m'\u001b[39m\u001b[38;5;124mloggia\u001b[39m\u001b[38;5;124m'\u001b[39m]),\n\u001b[0;32m    114\u001b[0m         \u001b[38;5;28mstr\u001b[39m(r[\u001b[38;5;124m'\u001b[39m\u001b[38;5;124mbasin\u001b[39m\u001b[38;5;124m'\u001b[39m]),\n\u001b[0;32m    115\u001b[0m         \u001b[38;5;28mstr\u001b[39m(r[\u001b[38;5;124m'\u001b[39m\u001b[38;5;124mcellar\u001b[39m\u001b[38;5;124m'\u001b[39m]),\n\u001b[0;32m    116\u001b[0m         \u001b[38;5;28mstr\u001b[39m(r[\u001b[38;5;124m'\u001b[39m\u001b[38;5;124mbuilding_type\u001b[39m\u001b[38;5;124m'\u001b[39m]),\n\u001b[0;32m    117\u001b[0m         \u001b[38;5;28mstr\u001b[39m(r[\u001b[38;5;124m'\u001b[39m\u001b[38;5;124mobject_kind\u001b[39m\u001b[38;5;124m'\u001b[39m]),\n\u001b[0;32m    118\u001b[0m         \u001b[38;5;28mstr\u001b[39m(r[\u001b[38;5;124m'\u001b[39m\u001b[38;5;124mownership\u001b[39m\u001b[38;5;124m'\u001b[39m]),\n\u001b[0;32m    119\u001b[0m         \u001b[38;5;28mstr\u001b[39m(r[\u001b[38;5;124m'\u001b[39m\u001b[38;5;124mlow_energy\u001b[39m\u001b[38;5;124m'\u001b[39m]),\n\u001b[0;32m    120\u001b[0m         \u001b[38;5;28mstr\u001b[39m(r[\u001b[38;5;124m'\u001b[39m\u001b[38;5;124measy_access\u001b[39m\u001b[38;5;124m'\u001b[39m]),\n\u001b[0;32m    121\u001b[0m         \u001b[38;5;28mstr\u001b[39m(r[\u001b[38;5;124m'\u001b[39m\u001b[38;5;124mbuilding_condition\u001b[39m\u001b[38;5;124m'\u001b[39m]),\n\u001b[0;32m    122\u001b[0m         \u001b[38;5;28mstr\u001b[39m(r[\u001b[38;5;124m'\u001b[39m\u001b[38;5;124mgarage\u001b[39m\u001b[38;5;124m'\u001b[39m]),\n\u001b[0;32m    123\u001b[0m         \u001b[38;5;28mstr\u001b[39m(r[\u001b[38;5;124m'\u001b[39m\u001b[38;5;124mroom_count_cb\u001b[39m\u001b[38;5;124m'\u001b[39m]),\n\u001b[0;32m    124\u001b[0m         \u001b[38;5;28mstr\u001b[39m(r[\u001b[38;5;124m'\u001b[39m\u001b[38;5;124menergy_efficiency_rating_cb\u001b[39m\u001b[38;5;124m'\u001b[39m]),\n\u001b[0;32m    125\u001b[0m         \u001b[38;5;28mstr\u001b[39m(r[\u001b[38;5;124m'\u001b[39m\u001b[38;5;124mnote_about_price\u001b[39m\u001b[38;5;124m'\u001b[39m]),\n\u001b[0;32m    126\u001b[0m         \u001b[38;5;28mstr\u001b[39m(r[\u001b[38;5;124m'\u001b[39m\u001b[38;5;124mid_of_order\u001b[39m\u001b[38;5;124m'\u001b[39m]),\n\u001b[0;32m    127\u001b[0m         \u001b[38;5;28mstr\u001b[39m(r[\u001b[38;5;124m'\u001b[39m\u001b[38;5;124mlast_update\u001b[39m\u001b[38;5;124m'\u001b[39m]),\n\u001b[0;32m    128\u001b[0m         \u001b[38;5;28mstr\u001b[39m(r[\u001b[38;5;124m'\u001b[39m\u001b[38;5;124mmaterial\u001b[39m\u001b[38;5;124m'\u001b[39m]),\n\u001b[0;32m    129\u001b[0m         \u001b[38;5;28mstr\u001b[39m(r[\u001b[38;5;124m'\u001b[39m\u001b[38;5;124mage_of_building\u001b[39m\u001b[38;5;124m'\u001b[39m]),\n\u001b[0;32m    130\u001b[0m         \u001b[38;5;28mstr\u001b[39m(r[\u001b[38;5;124m'\u001b[39m\u001b[38;5;124mownership_type\u001b[39m\u001b[38;5;124m'\u001b[39m]),\n\u001b[0;32m    131\u001b[0m         \u001b[38;5;28mstr\u001b[39m(r[\u001b[38;5;124m'\u001b[39m\u001b[38;5;124mfloor\u001b[39m\u001b[38;5;124m'\u001b[39m]),\n\u001b[0;32m    132\u001b[0m         \u001b[38;5;28mstr\u001b[39m(r[\u001b[38;5;124m'\u001b[39m\u001b[38;5;124musable_area\u001b[39m\u001b[38;5;124m'\u001b[39m]),\n\u001b[0;32m    133\u001b[0m         \u001b[38;5;28mstr\u001b[39m(r[\u001b[38;5;124m'\u001b[39m\u001b[38;5;124mfloor_area\u001b[39m\u001b[38;5;124m'\u001b[39m]),\n\u001b[0;32m    134\u001b[0m         \u001b[38;5;28mstr\u001b[39m(r[\u001b[38;5;124m'\u001b[39m\u001b[38;5;124menergy_efficiency_rating\u001b[39m\u001b[38;5;124m'\u001b[39m]),\n\u001b[0;32m    135\u001b[0m         \u001b[38;5;28mstr\u001b[39m(r[\u001b[38;5;124m'\u001b[39m\u001b[38;5;124mno_barriers\u001b[39m\u001b[38;5;124m'\u001b[39m]),\n\u001b[0;32m    136\u001b[0m         timestamp\n\u001b[0;32m    137\u001b[0m         ])\n\u001b[0;32m    139\u001b[0m query \u001b[38;5;241m=\u001b[39m \u001b[38;5;124mf\u001b[39m\u001b[38;5;124m\"\"\"\u001b[39m\n\u001b[0;32m    140\u001b[0m \u001b[38;5;124m        INSERT INTO estate_detail (\u001b[39m\n\u001b[0;32m    141\u001b[0m \u001b[38;5;124m        code, description, meta_description,\u001b[39m\n\u001b[1;32m   (...)\u001b[0m\n\u001b[0;32m    159\u001b[0m \u001b[38;5;124m                ?, ?, ?, ?, ?, ?, ?, ?, ?, ?)\u001b[39m\n\u001b[0;32m    160\u001b[0m \u001b[38;5;124m        \u001b[39m\u001b[38;5;124m\"\"\"\u001b[39m             \n\u001b[0;32m    161\u001b[0m cursor\u001b[38;5;241m.\u001b[39mexecutemany(query, data_to_upload)\n",
      "File \u001b[1;32mc:\\Users\\jirka\\Documents\\MyProjects\\Sreality\\venv\\Lib\\site-packages\\pandas\\core\\series.py:1121\u001b[0m, in \u001b[0;36mSeries.__getitem__\u001b[1;34m(self, key)\u001b[0m\n\u001b[0;32m   1118\u001b[0m     \u001b[38;5;28;01mreturn\u001b[39;00m \u001b[38;5;28mself\u001b[39m\u001b[38;5;241m.\u001b[39m_values[key]\n\u001b[0;32m   1120\u001b[0m \u001b[38;5;28;01melif\u001b[39;00m key_is_scalar:\n\u001b[1;32m-> 1121\u001b[0m     \u001b[38;5;28;01mreturn\u001b[39;00m \u001b[38;5;28;43mself\u001b[39;49m\u001b[38;5;241;43m.\u001b[39;49m\u001b[43m_get_value\u001b[49m\u001b[43m(\u001b[49m\u001b[43mkey\u001b[49m\u001b[43m)\u001b[49m\n\u001b[0;32m   1123\u001b[0m \u001b[38;5;66;03m# Convert generator to list before going through hashable part\u001b[39;00m\n\u001b[0;32m   1124\u001b[0m \u001b[38;5;66;03m# (We will iterate through the generator there to check for slices)\u001b[39;00m\n\u001b[0;32m   1125\u001b[0m \u001b[38;5;28;01mif\u001b[39;00m is_iterator(key):\n",
      "File \u001b[1;32mc:\\Users\\jirka\\Documents\\MyProjects\\Sreality\\venv\\Lib\\site-packages\\pandas\\core\\series.py:1237\u001b[0m, in \u001b[0;36mSeries._get_value\u001b[1;34m(self, label, takeable)\u001b[0m\n\u001b[0;32m   1234\u001b[0m     \u001b[38;5;28;01mreturn\u001b[39;00m \u001b[38;5;28mself\u001b[39m\u001b[38;5;241m.\u001b[39m_values[label]\n\u001b[0;32m   1236\u001b[0m \u001b[38;5;66;03m# Similar to Index.get_value, but we do not fall back to positional\u001b[39;00m\n\u001b[1;32m-> 1237\u001b[0m loc \u001b[38;5;241m=\u001b[39m \u001b[38;5;28;43mself\u001b[39;49m\u001b[38;5;241;43m.\u001b[39;49m\u001b[43mindex\u001b[49m\u001b[38;5;241;43m.\u001b[39;49m\u001b[43mget_loc\u001b[49m\u001b[43m(\u001b[49m\u001b[43mlabel\u001b[49m\u001b[43m)\u001b[49m\n\u001b[0;32m   1239\u001b[0m \u001b[38;5;28;01mif\u001b[39;00m is_integer(loc):\n\u001b[0;32m   1240\u001b[0m     \u001b[38;5;28;01mreturn\u001b[39;00m \u001b[38;5;28mself\u001b[39m\u001b[38;5;241m.\u001b[39m_values[loc]\n",
      "File \u001b[1;32mc:\\Users\\jirka\\Documents\\MyProjects\\Sreality\\venv\\Lib\\site-packages\\pandas\\core\\indexes\\base.py:3812\u001b[0m, in \u001b[0;36mIndex.get_loc\u001b[1;34m(self, key)\u001b[0m\n\u001b[0;32m   3807\u001b[0m     \u001b[38;5;28;01mif\u001b[39;00m \u001b[38;5;28misinstance\u001b[39m(casted_key, \u001b[38;5;28mslice\u001b[39m) \u001b[38;5;129;01mor\u001b[39;00m (\n\u001b[0;32m   3808\u001b[0m         \u001b[38;5;28misinstance\u001b[39m(casted_key, abc\u001b[38;5;241m.\u001b[39mIterable)\n\u001b[0;32m   3809\u001b[0m         \u001b[38;5;129;01mand\u001b[39;00m \u001b[38;5;28many\u001b[39m(\u001b[38;5;28misinstance\u001b[39m(x, \u001b[38;5;28mslice\u001b[39m) \u001b[38;5;28;01mfor\u001b[39;00m x \u001b[38;5;129;01min\u001b[39;00m casted_key)\n\u001b[0;32m   3810\u001b[0m     ):\n\u001b[0;32m   3811\u001b[0m         \u001b[38;5;28;01mraise\u001b[39;00m InvalidIndexError(key)\n\u001b[1;32m-> 3812\u001b[0m     \u001b[38;5;28;01mraise\u001b[39;00m \u001b[38;5;167;01mKeyError\u001b[39;00m(key) \u001b[38;5;28;01mfrom\u001b[39;00m \u001b[38;5;21;01merr\u001b[39;00m\n\u001b[0;32m   3813\u001b[0m \u001b[38;5;28;01mexcept\u001b[39;00m \u001b[38;5;167;01mTypeError\u001b[39;00m:\n\u001b[0;32m   3814\u001b[0m     \u001b[38;5;66;03m# If we have a listlike key, _check_indexing_error will raise\u001b[39;00m\n\u001b[0;32m   3815\u001b[0m     \u001b[38;5;66;03m#  InvalidIndexError. Otherwise we fall through and re-raise\u001b[39;00m\n\u001b[0;32m   3816\u001b[0m     \u001b[38;5;66;03m#  the TypeError.\u001b[39;00m\n\u001b[0;32m   3817\u001b[0m     \u001b[38;5;28mself\u001b[39m\u001b[38;5;241m.\u001b[39m_check_indexing_error(key)\n",
      "\u001b[1;31mKeyError\u001b[0m: 'locality'"
     ]
    }
   ],
   "source": [
    "timestamp, _ = utils.generate_timestamp()\n",
    "#TODO: musím nejprve vygenerovat 4 sloupečky žejo, to locality, city ,district, region\n",
    "#TODO: naopak missing vlaues jsou asi OK, prostě mám NANy v df ..\n",
    "#TODO.. jo aha to není řešení. pokud value chybí u všech položek v JSONu, tak sloupec zmizí a tradá.\n",
    "\n",
    "data_manager._insert_new_estate(df_new, timestamp)"
   ]
  },
  {
   "cell_type": "code",
   "execution_count": null,
   "metadata": {},
   "outputs": [],
   "source": []
  },
  {
   "cell_type": "markdown",
   "metadata": {},
   "source": [
    "## Table managment test"
   ]
  },
  {
   "cell_type": "code",
   "execution_count": null,
   "metadata": {},
   "outputs": [],
   "source": [
    "from db_managment.data_manager import DataManager\n",
    "import pandas as pd\n",
    "\n",
    "data_manager = DataManager()"
   ]
  },
  {
   "cell_type": "code",
   "execution_count": null,
   "metadata": {},
   "outputs": [],
   "source": [
    "data_manager.get_all_rows(\"estate_detail\")"
   ]
  },
  {
   "cell_type": "code",
   "execution_count": null,
   "metadata": {},
   "outputs": [],
   "source": [
    "data_manager.clear_table(\"estate_detail\")"
   ]
  },
  {
   "cell_type": "code",
   "execution_count": null,
   "metadata": {},
   "outputs": [],
   "source": [
    "data_manager.drop_table(\"estate_detail\")"
   ]
  },
  {
   "cell_type": "code",
   "execution_count": null,
   "metadata": {},
   "outputs": [],
   "source": [
    "data_manager.create_table(\"estate_detail\")"
   ]
  },
  {
   "cell_type": "code",
   "execution_count": null,
   "metadata": {},
   "outputs": [],
   "source": [
    "upload = pd.DataFrame(data = [[42, \"Prodej luxsního bejváku\", \"Byt 14+kk daleko od centra, ale v klidu.\",\n",
    "                               1, 6, 1, 111, \"M&M reality\", 2, 49.827491575, 18.1654443,\n",
    "                               0, 0, 111083, 65, 14829, 12, 10, 4730, 112,\n",
    "                               0, 0, 0, 0, 0, 2, 0, 79, \"Družstevní\", 0, 1, 1, 0,\n",
    "                               3, 0, 870824, 1, 2,\n",
    "                               ### Not mandatory:\n",
    "                               \"Cena je finální\", 123,\n",
    "                               \"Dnes\", \"cihla\", \"Novostavba\", \"Družstevní\", \"2.patro\",\n",
    "                               42, 43, 2, \"true\"\n",
    "                               ]],\n",
    "                      columns=['code', 'description', 'meta_description', \n",
    "                               'category_main_cb', 'category_type_cb', 'category_sub_cb', 'broker_id', 'broker_company',\n",
    "                            'furnished', 'latitude', 'longitude', 'locality', 'city', 'district',\n",
    "                            'region', 'object_type', 'parking_lots', 'locality_street_id',\n",
    "                            'locality_district_id', 'locality_ward_id', 'locality_region_id',\n",
    "                            'locality_quarter_id', 'locality_municipality_id',\n",
    "                            'locality_country_id', 'terrace', 'balcony', 'loggia', 'basin',\n",
    "                            'cellar', 'building_type', 'object_kind', 'ownership', 'low_energy',\n",
    "                            'easy_access', 'building_condition', 'garage', 'room_count_cb', 'energy_efficiency_rating_cb', \n",
    "                            ### Not mandatory:\n",
    "                            'note_about_price', 'id_of_order',\n",
    "                            'last_update', 'material', 'age_of_building', 'ownership_type', 'floor',\n",
    "                            'usable_area', 'floor_area', 'energy_efficiency_rating', \"no_barriers\"\n",
    "                            ])\n",
    "\n",
    "data_manager._insert_new_estate(upload, \"2024-04-21 23:22:44\")\n",
    "\n",
    "#TODO: how about unit test for this?\n",
    "#? should fail predictably as it breakes foreign key constraints i made:)\n",
    "upload = pd.DataFrame(data = [[\"911\", \"4242\", \"12345000\"]],\n",
    "                      columns=[\"estate_id\", \"batch_id\", \"price\"])\n",
    "\n",
    "data_manager.insert_new_price(upload)"
   ]
  },
  {
   "cell_type": "code",
   "execution_count": null,
   "metadata": {},
   "outputs": [],
   "source": []
  },
  {
   "cell_type": "code",
   "execution_count": null,
   "metadata": {},
   "outputs": [],
   "source": [
    "\n"
   ]
  },
  {
   "cell_type": "code",
   "execution_count": null,
   "metadata": {},
   "outputs": [],
   "source": []
  },
  {
   "cell_type": "code",
   "execution_count": null,
   "metadata": {},
   "outputs": [],
   "source": []
  },
  {
   "cell_type": "code",
   "execution_count": null,
   "metadata": {},
   "outputs": [],
   "source": []
  }
 ],
 "metadata": {
  "kernelspec": {
   "display_name": "Sreality2024",
   "language": "python",
   "name": "python3"
  },
  "language_info": {
   "codemirror_mode": {
    "name": "ipython",
    "version": 3
   },
   "file_extension": ".py",
   "mimetype": "text/x-python",
   "name": "python",
   "nbconvert_exporter": "python",
   "pygments_lexer": "ipython3",
   "version": "3.11.5"
  }
 },
 "nbformat": 4,
 "nbformat_minor": 2
}

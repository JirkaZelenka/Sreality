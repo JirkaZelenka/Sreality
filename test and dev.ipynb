{
 "cells": [
  {
   "cell_type": "markdown",
   "metadata": {},
   "source": [
    "-----------------------\n",
    "## 1) New way of scraping  11.4.2024\n",
    "-----------------------"
   ]
  },
  {
   "cell_type": "code",
   "execution_count": 1,
   "metadata": {},
   "outputs": [],
   "source": [
    "from datetime import datetime\n",
    "import pandas as pd\n",
    "from tqdm import tqdm  \n",
    "import requests \n",
    "\n",
    "import os\n",
    "os.chdir(\"c:\\\\Users\\\\jirka\\\\Documents\\\\MyProjects\\\\Sreality\")\n",
    "\n",
    "from run import Runner\n",
    "runner = Runner()"
   ]
  },
  {
   "cell_type": "markdown",
   "metadata": {},
   "source": [
    "## Testing requests"
   ]
  },
  {
   "cell_type": "code",
   "execution_count": null,
   "metadata": {},
   "outputs": [],
   "source": [
    "# Just testing count\n",
    "headers = {\"User-Agent\": \"Mozilla/5.0\"}\n",
    "\n",
    "with requests.Session() as session:\n",
    "    url = \"https://www.sreality.cz/api/cs/v2/estates/count\"\n",
    "    result =  session.request(method=\"GET\", url=url, headers=headers).json()\n",
    "    print(result)\n",
    "    url_filter = f\"https://www.sreality.cz/api/cs/v2/estates?category_main_cb=1&category_type_cb=1&per_page=1&page=1\"\n",
    "    result2 =  session.request(method=\"GET\", url=url_filter).json()\n",
    "    print(result2)"
   ]
  },
  {
   "cell_type": "code",
   "execution_count": null,
   "metadata": {},
   "outputs": [],
   "source": [
    "headers = {\"User-Agent\": \"Mozilla/5.0\"}\n",
    "\n",
    "with requests.Session() as session:\n",
    "    url = \"https://www.sreality.cz/api/cs/v2/estates/95413580\"\n",
    "    result =  session.request(method=\"GET\", url=url, headers=headers).json()\n",
    "    display(result)\n"
   ]
  },
  {
   "cell_type": "markdown",
   "metadata": {},
   "source": [
    "## Full Run with follow-up scraping and GeoData update"
   ]
  },
  {
   "cell_type": "code",
   "execution_count": null,
   "metadata": {},
   "outputs": [],
   "source": [
    "res = runner.scrape_and_update_run(scrape_prodej_byty=True, scrape_all=True)"
   ]
  },
  {
   "cell_type": "markdown",
   "metadata": {},
   "source": [
    "## Inserting DFs to DB"
   ]
  },
  {
   "cell_type": "code",
   "execution_count": null,
   "metadata": {},
   "outputs": [],
   "source": [
    "runner = Runner()\n",
    "new_estates = runner.input_all_estates_to_db()\n",
    "print(new_estates.columns)\n",
    "#new_estates.describe().T"
   ]
  },
  {
   "cell_type": "code",
   "execution_count": 2,
   "metadata": {},
   "outputs": [
    {
     "name": "stderr",
     "output_type": "stream",
     "text": [
      "100%|██████████| 129/129 [12:00<00:00,  5.58s/it]\n"
     ]
    },
    {
     "name": "stdout",
     "output_type": "stream",
     "text": [
      "There was an error in file to_fix\n",
      "4623912\n"
     ]
    },
    {
     "data": {
      "text/html": [
       "<div>\n",
       "<style scoped>\n",
       "    .dataframe tbody tr th:only-of-type {\n",
       "        vertical-align: middle;\n",
       "    }\n",
       "\n",
       "    .dataframe tbody tr th {\n",
       "        vertical-align: top;\n",
       "    }\n",
       "\n",
       "    .dataframe thead th {\n",
       "        text-align: right;\n",
       "    }\n",
       "</style>\n",
       "<table border=\"1\" class=\"dataframe\">\n",
       "  <thead>\n",
       "    <tr style=\"text-align: right;\">\n",
       "      <th></th>\n",
       "      <th>estate_id</th>\n",
       "      <th>price</th>\n",
       "      <th>crawled_at</th>\n",
       "      <th>code;name;category_type_cb;category_main_cb;category_sub_cb;rooms;size_meters;locality;latitude;longitude;price;timestamp</th>\n",
       "      <th>code;name;price;timestamp</th>\n",
       "      <th>code;price;timestamp</th>\n",
       "    </tr>\n",
       "  </thead>\n",
       "  <tbody>\n",
       "    <tr>\n",
       "      <th>0</th>\n",
       "      <td>NaN</td>\n",
       "      <td>NaN</td>\n",
       "      <td>NaN</td>\n",
       "      <td>926332236;Prodej bytu 2+kk 56Â mÂ˛;1;1;4;2+kk;...</td>\n",
       "      <td>NaN</td>\n",
       "      <td>NaN</td>\n",
       "    </tr>\n",
       "    <tr>\n",
       "      <th>1</th>\n",
       "      <td>NaN</td>\n",
       "      <td>NaN</td>\n",
       "      <td>NaN</td>\n",
       "      <td>1346397260;Prodej bytu 3+kk 70Â mÂ˛;1;1;6;3+kk...</td>\n",
       "      <td>NaN</td>\n",
       "      <td>NaN</td>\n",
       "    </tr>\n",
       "    <tr>\n",
       "      <th>2</th>\n",
       "      <td>NaN</td>\n",
       "      <td>NaN</td>\n",
       "      <td>NaN</td>\n",
       "      <td>1748108620;Prodej bytu 3+kk 64Â mÂ˛;1;1;6;3+kk...</td>\n",
       "      <td>NaN</td>\n",
       "      <td>NaN</td>\n",
       "    </tr>\n",
       "    <tr>\n",
       "      <th>3</th>\n",
       "      <td>NaN</td>\n",
       "      <td>NaN</td>\n",
       "      <td>NaN</td>\n",
       "      <td>2776523852;Prodej bytu 3+kk 72Â mÂ˛;1;1;6;3+kk...</td>\n",
       "      <td>NaN</td>\n",
       "      <td>NaN</td>\n",
       "    </tr>\n",
       "    <tr>\n",
       "      <th>4</th>\n",
       "      <td>NaN</td>\n",
       "      <td>NaN</td>\n",
       "      <td>NaN</td>\n",
       "      <td>3868194124;Prodej bytu 2+kk 67Â mÂ˛;1;1;4;2+kk...</td>\n",
       "      <td>NaN</td>\n",
       "      <td>NaN</td>\n",
       "    </tr>\n",
       "  </tbody>\n",
       "</table>\n",
       "</div>"
      ],
      "text/plain": [
       "  estate_id price crawled_at  \\\n",
       "0       NaN   NaN        NaN   \n",
       "1       NaN   NaN        NaN   \n",
       "2       NaN   NaN        NaN   \n",
       "3       NaN   NaN        NaN   \n",
       "4       NaN   NaN        NaN   \n",
       "\n",
       "  code;name;category_type_cb;category_main_cb;category_sub_cb;rooms;size_meters;locality;latitude;longitude;price;timestamp  \\\n",
       "0  926332236;Prodej bytu 2+kk 56Â mÂ˛;1;1;4;2+kk;...                                                                          \n",
       "1  1346397260;Prodej bytu 3+kk 70Â mÂ˛;1;1;6;3+kk...                                                                          \n",
       "2  1748108620;Prodej bytu 3+kk 64Â mÂ˛;1;1;6;3+kk...                                                                          \n",
       "3  2776523852;Prodej bytu 3+kk 72Â mÂ˛;1;1;6;3+kk...                                                                          \n",
       "4  3868194124;Prodej bytu 2+kk 67Â mÂ˛;1;1;4;2+kk...                                                                          \n",
       "\n",
       "  code;name;price;timestamp code;price;timestamp  \n",
       "0                       NaN                  NaN  \n",
       "1                       NaN                  NaN  \n",
       "2                       NaN                  NaN  \n",
       "3                       NaN                  NaN  \n",
       "4                       NaN                  NaN  "
      ]
     },
     "metadata": {},
     "output_type": "display_data"
    },
    {
     "name": "stdout",
     "output_type": "stream",
     "text": [
      "Index(['estate_id', 'price', 'crawled_at',\n",
      "       'code;name;category_type_cb;category_main_cb;category_sub_cb;rooms;size_meters;locality;latitude;longitude;price;timestamp',\n",
      "       'code;name;price;timestamp', 'code;price;timestamp'],\n",
      "      dtype='object')\n"
     ]
    }
   ],
   "source": [
    "runner = Runner()\n",
    "new_prices = runner.input_all_prices_to_db()\n",
    "print(new_prices.columns)\n",
    "#new_prices.describe().T"
   ]
  },
  {
   "cell_type": "code",
   "execution_count": null,
   "metadata": {},
   "outputs": [],
   "source": [
    "print(new_prices)"
   ]
  },
  {
   "cell_type": "code",
   "execution_count": null,
   "metadata": {},
   "outputs": [],
   "source": [
    "new_estates[\"start_of_offer\"].value_counts() "
   ]
  },
  {
   "cell_type": "code",
   "execution_count": null,
   "metadata": {},
   "outputs": [],
   "source": [
    "new_estates.tail(2)"
   ]
  },
  {
   "cell_type": "markdown",
   "metadata": {},
   "source": [
    "## Test Utils"
   ]
  },
  {
   "cell_type": "code",
   "execution_count": null,
   "metadata": {},
   "outputs": [],
   "source": [
    "from run import Runner\n",
    "runner = Runner()"
   ]
  },
  {
   "cell_type": "code",
   "execution_count": null,
   "metadata": {},
   "outputs": [],
   "source": [
    "df_new = runner.utils.prep_df_new_estates(\"20240422_1647.json\")\n",
    "print(len(df_new.columns))\n",
    "print(df_new.columns)\n",
    "df_new.tail(2)"
   ]
  },
  {
   "cell_type": "code",
   "execution_count": null,
   "metadata": {},
   "outputs": [],
   "source": [
    "x = runner.utils.assign_location_to_df(df_new)\n",
    "display(x.head(2))\n",
    "print(len(x.columns))\n",
    "print(x.columns)"
   ]
  },
  {
   "cell_type": "code",
   "execution_count": null,
   "metadata": {},
   "outputs": [],
   "source": [
    "timestamp, _ = runner.utils.generate_timestamp()\n",
    "print(timestamp)\n",
    "#data_manager._insert_new_estate(df_new, timestamp)"
   ]
  },
  {
   "cell_type": "markdown",
   "metadata": {},
   "source": [
    "## Prepare Geo - JSONs"
   ]
  },
  {
   "cell_type": "code",
   "execution_count": null,
   "metadata": {},
   "outputs": [],
   "source": [
    "source_folder= \"c:\\\\Users\\\\jirka\\\\Documents\\\\MyProjects\\\\Sreality\\\\data_2024\\\\estate_details\"\n",
    "files = os.listdir(source_folder)\n",
    "file_info = []\n",
    "\n",
    "for file_name in files:\n",
    "        file_path = os.path.join(source_folder, file_name)\n",
    "        if os.path.isfile(file_path):\n",
    "            size = os.path.getsize(file_path)\n",
    "            file_info.append((file_name, size))\n",
    "\n",
    "# Sort files by size\n",
    "sorted_files = sorted(file_info, key=lambda x: x[1])\n",
    "\n",
    "sorted_names = []\n",
    "for file_name, size in sorted_files:\n",
    "    sorted_names.append(file_name)\n",
    "    print(f\"{file_name}: {size} bytes\")"
   ]
  },
  {
   "cell_type": "code",
   "execution_count": null,
   "metadata": {},
   "outputs": [],
   "source": [
    "runner.geodata.enrich_jsons_with_geodata(list_of_jsons=None)"
   ]
  },
  {
   "cell_type": "markdown",
   "metadata": {},
   "source": [
    "## Table managment test"
   ]
  },
  {
   "cell_type": "code",
   "execution_count": null,
   "metadata": {},
   "outputs": [],
   "source": [
    "d = runner.data_manager.get_all_rows(\"estate_detail\")\n",
    "print(len(d))\n",
    "d_codes = d[\"code\"].unique()\n",
    "print(len(d_codes))\n",
    "print(d_codes[0])\n",
    "print(type(d_codes[0]))\n",
    "\n",
    "display(d.head(2))\n",
    "print(len(d.columns))\n",
    "#display(sorted(d.columns))\n"
   ]
  },
  {
   "cell_type": "code",
   "execution_count": null,
   "metadata": {},
   "outputs": [],
   "source": [
    "runner.data_manager.clear_table(\"price_history\")"
   ]
  },
  {
   "cell_type": "code",
   "execution_count": null,
   "metadata": {},
   "outputs": [],
   "source": [
    "runner.data_manager.drop_table(\"estate_detail\")"
   ]
  },
  {
   "cell_type": "code",
   "execution_count": null,
   "metadata": {},
   "outputs": [],
   "source": [
    "runner.data_manager.create_table(\"price_history\")"
   ]
  },
  {
   "cell_type": "code",
   "execution_count": null,
   "metadata": {},
   "outputs": [],
   "source": [
    "upload = pd.DataFrame(data = [[42, \"Prodej luxsního bejváku\", \"Byt 14+kk daleko od centra, ale v klidu.\",\n",
    "                               1, 6, 1, 111, \"M&M reality\", 2, 49.827491575, 18.1654443,\n",
    "                               0, 0, 111083, 65, 14829, 12, 10, 4730, 112,\n",
    "                               0, 0, 0, 0, 0, 2, 0, 79, \"Družstevní\", 0, 1, 1, 0,\n",
    "                               3, 0, 870824, 1, 2,\n",
    "                               ### Not mandatory:\n",
    "                               \"Cena je finální\", 123,\n",
    "                               \"Dnes\", \"cihla\", \"Novostavba\", \"Družstevní\", \"2.patro\",\n",
    "                               42, 43, 2, \"true\"\n",
    "                               ]],\n",
    "                      columns=['code', 'description', 'meta_description', \n",
    "                               'category_main_cb', 'category_type_cb', 'category_sub_cb', 'broker_id', 'broker_company',\n",
    "                            'furnished', 'latitude', 'longitude', 'locality', 'city', 'district',\n",
    "                            'region', 'object_type', 'parking_lots', 'locality_street_id',\n",
    "                            'locality_district_id', 'locality_ward_id', 'locality_region_id',\n",
    "                            'locality_quarter_id', 'locality_municipality_id',\n",
    "                            'locality_country_id', 'terrace', 'balcony', 'loggia', 'basin',\n",
    "                            'cellar', 'building_type', 'object_kind', 'ownership', 'low_energy',\n",
    "                            'easy_access', 'building_condition', 'garage', 'room_count_cb', 'energy_efficiency_rating_cb', \n",
    "                            ### Not mandatory:\n",
    "                            'note_about_price', 'id_of_order',\n",
    "                            'last_update', 'material', 'age_of_building', 'ownership_type', 'floor',\n",
    "                            'usable_area', 'floor_area', 'energy_efficiency_rating', \"no_barriers\"\n",
    "                            ])\n",
    "\n",
    "runner.data_manager._insert_new_estate(upload, \"2024-04-21 23:22:44\")\n",
    "\n",
    "#TODO: how about unit test for this?\n",
    "#? should fail predictably as it breakes foreign key constraints i made:)\n",
    "upload = pd.DataFrame(data = [[\"911\", \"4242\", \"12345000\"]],\n",
    "                      columns=[\"estate_id\", \"batch_id\", \"price\"])\n",
    "\n",
    "runner.data_manager.insert_new_price(upload)"
   ]
  },
  {
   "cell_type": "code",
   "execution_count": null,
   "metadata": {},
   "outputs": [],
   "source": []
  },
  {
   "cell_type": "code",
   "execution_count": null,
   "metadata": {},
   "outputs": [],
   "source": [
    "describe = d[\"id\"].describe()\n",
    "describe"
   ]
  },
  {
   "cell_type": "code",
   "execution_count": null,
   "metadata": {},
   "outputs": [],
   "source": [
    "print(describe[\"min\"])\n",
    "\n",
    "print(d[\"id\"].min())\n",
    "      "
   ]
  },
  {
   "cell_type": "markdown",
   "metadata": {},
   "source": [
    "## Konec"
   ]
  }
 ],
 "metadata": {
  "kernelspec": {
   "display_name": "Sreality2024",
   "language": "python",
   "name": "python3"
  },
  "language_info": {
   "codemirror_mode": {
    "name": "ipython",
    "version": 3
   },
   "file_extension": ".py",
   "mimetype": "text/x-python",
   "name": "python",
   "nbconvert_exporter": "python",
   "pygments_lexer": "ipython3",
   "version": "3.11.5"
  }
 },
 "nbformat": 4,
 "nbformat_minor": 2
}

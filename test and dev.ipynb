{
 "cells": [
  {
   "cell_type": "markdown",
   "metadata": {},
   "source": [
    "-----------------------\n",
    "## 1) New way of scraping  11.4.2024\n",
    "-----------------------"
   ]
  },
  {
   "cell_type": "code",
   "execution_count": null,
   "metadata": {},
   "outputs": [],
   "source": [
    "import os\n",
    "os.chdir(\"c:\\\\Users\\\\jirka\\\\Documents\\\\MyProjects\\\\Sreality\")\n",
    "\n",
    "from run import Runner\n",
    "runner = Runner()"
   ]
  },
  {
   "cell_type": "markdown",
   "metadata": {},
   "source": [
    "## Complete scraping + updating DB"
   ]
  },
  {
   "cell_type": "code",
   "execution_count": null,
   "metadata": {},
   "outputs": [],
   "source": [
    "runner.run_complete_scraping(scrape_prodej_byty=True, scrape_all=True)"
   ]
  },
  {
   "cell_type": "markdown",
   "metadata": {},
   "source": [
    "## Test diagnostics"
   ]
  },
  {
   "cell_type": "code",
   "execution_count": null,
   "metadata": {},
   "outputs": [],
   "source": [
    "from diagnostics.diagnostics import Diagnostics\n",
    "\n",
    "diag = Diagnostics()\n",
    "\n",
    "result = diag.count_new_estates()"
   ]
  },
  {
   "cell_type": "code",
   "execution_count": null,
   "metadata": {},
   "outputs": [],
   "source": [
    "result"
   ]
  },
  {
   "cell_type": "code",
   "execution_count": null,
   "metadata": {},
   "outputs": [],
   "source": [
    "print(len(df[\"code\"].unique()))\n",
    "\n",
    "print(df[\"crawled_at\"].min(), df[\"crawled_at\"].max())"
   ]
  },
  {
   "cell_type": "code",
   "execution_count": null,
   "metadata": {},
   "outputs": [],
   "source": []
  },
  {
   "cell_type": "code",
   "execution_count": null,
   "metadata": {},
   "outputs": [],
   "source": []
  },
  {
   "cell_type": "markdown",
   "metadata": {},
   "source": [
    "## Testing requests"
   ]
  },
  {
   "cell_type": "code",
   "execution_count": null,
   "metadata": {},
   "outputs": [],
   "source": [
    "# Just testing count\n",
    "headers = {\"User-Agent\": \"Mozilla/5.0\"}\n",
    "\n",
    "with requests.Session() as session:\n",
    "    url = \"https://www.sreality.cz/api/cs/v2/estates/count\"\n",
    "    result =  session.request(method=\"GET\", url=url, headers=headers).json()\n",
    "    print(result)\n",
    "    url_filter = f\"https://www.sreality.cz/api/cs/v2/estates?category_main_cb=1&category_type_cb=1&per_page=1&page=1\"\n",
    "    result2 =  session.request(method=\"GET\", url=url_filter).json()\n",
    "    print(result2)"
   ]
  },
  {
   "cell_type": "code",
   "execution_count": null,
   "metadata": {},
   "outputs": [],
   "source": [
    "headers = {\"User-Agent\": \"Mozilla/5.0\"}\n",
    "\n",
    "with requests.Session() as session:\n",
    "    url = \"https://www.sreality.cz/api/cs/v2/estates/95413580\"\n",
    "    result =  session.request(method=\"GET\", url=url, headers=headers).json()\n",
    "    display(result)\n"
   ]
  },
  {
   "cell_type": "markdown",
   "metadata": {},
   "source": [
    "## Test Utils - timestamp and mail"
   ]
  },
  {
   "cell_type": "code",
   "execution_count": null,
   "metadata": {},
   "outputs": [],
   "source": [
    "from run import Runner\n",
    "runner = Runner()"
   ]
  },
  {
   "cell_type": "code",
   "execution_count": null,
   "metadata": {},
   "outputs": [],
   "source": [
    "timestamp, _ = runner.utils.generate_timestamp()\n",
    "print(timestamp)\n",
    "#data_manager._insert_new_estate(df_\n",
    "# new, timestamp)"
   ]
  },
  {
   "cell_type": "code",
   "execution_count": null,
   "metadata": {},
   "outputs": [],
   "source": [
    "runner.mailing.send_email(\"hallo\", \"toto je mesidz\")\n",
    "\n"
   ]
  },
  {
   "cell_type": "code",
   "execution_count": null,
   "metadata": {},
   "outputs": [],
   "source": [
    "runner.mailing.send_email_with_attachment(\"hallo\", \"toto je mesidz\", 'scraping.log')\n"
   ]
  },
  {
   "cell_type": "markdown",
   "metadata": {},
   "source": [
    "## Test Prepare Geo-JSONs"
   ]
  },
  {
   "cell_type": "code",
   "execution_count": null,
   "metadata": {},
   "outputs": [],
   "source": [
    "source_folder= \"c:\\\\Users\\\\jirka\\\\Documents\\\\MyProjects\\\\Sreality\\\\data_2024\\\\estate_details\"\n",
    "files = os.listdir(source_folder)\n",
    "file_info = []\n",
    "\n",
    "for file_name in files:\n",
    "        file_path = os.path.join(source_folder, file_name)\n",
    "        if os.path.isfile(file_path):\n",
    "            size = os.path.getsize(file_path)\n",
    "            file_info.append((file_name, size))\n",
    "\n",
    "# Sort files by size\n",
    "sorted_files = sorted(file_info, key=lambda x: x[1])\n",
    "\n",
    "sorted_names = []\n",
    "for file_name, size in sorted_files:\n",
    "    sorted_names.append(file_name)\n",
    "    print(f\"{file_name}: {size} bytes\")"
   ]
  },
  {
   "cell_type": "code",
   "execution_count": null,
   "metadata": {},
   "outputs": [],
   "source": [
    "runner.geodata.enrich_jsons_with_geodata(list_of_jsons=None)"
   ]
  },
  {
   "cell_type": "markdown",
   "metadata": {},
   "source": [
    "## Test table managment"
   ]
  },
  {
   "cell_type": "code",
   "execution_count": null,
   "metadata": {},
   "outputs": [],
   "source": [
    "runner = Runner()\n",
    "runner.input_all_estates_to_db()"
   ]
  },
  {
   "cell_type": "code",
   "execution_count": null,
   "metadata": {},
   "outputs": [],
   "source": [
    "runner = Runner()\n",
    "runner.input_all_prices_to_db()"
   ]
  },
  {
   "cell_type": "code",
   "execution_count": null,
   "metadata": {},
   "outputs": [],
   "source": [
    "d = runner.data_manager.get_all_rows(\"estate_detail\")\n",
    "print(len(d))\n",
    "d_codes = d[\"code\"].unique()\n",
    "print(len(d_codes))\n",
    "print(d_codes[0])\n",
    "print(type(d_codes[0]))\n",
    "\n",
    "display(d.head(2))\n",
    "print(len(d.columns))\n",
    "#display(sorted(d.columns))\n"
   ]
  },
  {
   "cell_type": "code",
   "execution_count": null,
   "metadata": {},
   "outputs": [],
   "source": [
    "# price_history, estate_detail\n",
    "runner.data_manager.clear_table(\"X\")"
   ]
  },
  {
   "cell_type": "code",
   "execution_count": null,
   "metadata": {},
   "outputs": [],
   "source": [
    "runner.data_manager.drop_table(\"X\")"
   ]
  },
  {
   "cell_type": "code",
   "execution_count": null,
   "metadata": {},
   "outputs": [],
   "source": [
    "runner.data_manager.create_table(\"X\")"
   ]
  },
  {
   "cell_type": "code",
   "execution_count": null,
   "metadata": {},
   "outputs": [],
   "source": [
    "upload = pd.DataFrame(data = [[42, \"Prodej luxsního bejváku\", \"Byt 14+kk daleko od centra, ale v klidu.\",\n",
    "                               1, 6, 1, 111, \"M&M reality\", 2, 49.827491575, 18.1654443,\n",
    "                               0, 0, 111083, 65, 14829, 12, 10, 4730, 112,\n",
    "                               0, 0, 0, 0, 0, 2, 0, 79, \"Družstevní\", 0, 1, 1, 0,\n",
    "                               3, 0, 870824, 1, 2,\n",
    "                               ### Not mandatory:\n",
    "                               \"Cena je finální\", 123,\n",
    "                               \"Dnes\", \"cihla\", \"Novostavba\", \"Družstevní\", \"2.patro\",\n",
    "                               42, 43, 2, \"true\"\n",
    "                               ]],\n",
    "                      columns=['code', 'description', 'meta_description', \n",
    "                               'category_main_cb', 'category_type_cb', 'category_sub_cb', 'broker_id', 'broker_company',\n",
    "                            'furnished', 'latitude', 'longitude', 'locality', 'city', 'district',\n",
    "                            'region', 'object_type', 'parking_lots', 'locality_street_id',\n",
    "                            'locality_district_id', 'locality_ward_id', 'locality_region_id',\n",
    "                            'locality_quarter_id', 'locality_municipality_id',\n",
    "                            'locality_country_id', 'terrace', 'balcony', 'loggia', 'basin',\n",
    "                            'cellar', 'building_type', 'object_kind', 'ownership', 'low_energy',\n",
    "                            'easy_access', 'building_condition', 'garage', 'room_count_cb', 'energy_efficiency_rating_cb', \n",
    "                            ### Not mandatory:\n",
    "                            'note_about_price', 'id_of_order',\n",
    "                            'last_update', 'material', 'age_of_building', 'ownership_type', 'floor',\n",
    "                            'usable_area', 'floor_area', 'energy_efficiency_rating', \"no_barriers\"\n",
    "                            ])\n",
    "\n",
    "runner.data_manager._insert_new_estate(upload, \"2024-04-21 23:22:44\")\n",
    "\n",
    "#TODO: how about unit test for this?\n",
    "#? should fail predictably as it breakes foreign key constraints i made:)\n",
    "upload = pd.DataFrame(data = [[\"911\", \"4242\", \"12345000\"]],\n",
    "                      columns=[\"estate_id\", \"batch_id\", \"price\"])\n",
    "\n",
    "runner.data_manager.insert_new_price(upload)"
   ]
  },
  {
   "cell_type": "markdown",
   "metadata": {},
   "source": [
    "## Extra info"
   ]
  },
  {
   "cell_type": "code",
   "execution_count": null,
   "metadata": {},
   "outputs": [],
   "source": [
    "describe = d[\"id\"].describe()\n",
    "describe"
   ]
  },
  {
   "cell_type": "code",
   "execution_count": null,
   "metadata": {},
   "outputs": [],
   "source": [
    "print(describe[\"min\"])\n",
    "\n",
    "print(d[\"id\"].min())"
   ]
  },
  {
   "cell_type": "markdown",
   "metadata": {},
   "source": [
    "## Test Scheduler"
   ]
  },
  {
   "cell_type": "code",
   "execution_count": null,
   "metadata": {},
   "outputs": [],
   "source": [
    "import datetime as dt\n",
    "\n",
    "from scheduler import Scheduler\n",
    "\n",
    "score = 1\n",
    "\n",
    "def foo():\n",
    "    print(f\"foo called at {dt.datetime.now()}\")\n",
    "\n",
    "schedule = Scheduler()\n",
    "\n",
    "schedule.cyclic(dt.timedelta(seconds=6), foo)"
   ]
  },
  {
   "cell_type": "code",
   "execution_count": null,
   "metadata": {},
   "outputs": [],
   "source": [
    "print(schedule)"
   ]
  },
  {
   "cell_type": "code",
   "execution_count": null,
   "metadata": {},
   "outputs": [],
   "source": [
    "import time\n",
    "\n",
    "while True:\n",
    "    schedule.exec_jobs()\n",
    "    time.sleep(1)"
   ]
  },
  {
   "cell_type": "markdown",
   "metadata": {},
   "source": [
    "## Konec"
   ]
  }
 ],
 "metadata": {
  "kernelspec": {
   "display_name": "Sreality2024",
   "language": "python",
   "name": "python3"
  },
  "language_info": {
   "codemirror_mode": {
    "name": "ipython",
    "version": 3
   },
   "file_extension": ".py",
   "mimetype": "text/x-python",
   "name": "python",
   "nbconvert_exporter": "python",
   "pygments_lexer": "ipython3",
   "version": "3.11.5"
  }
 },
 "nbformat": 4,
 "nbformat_minor": 2
}

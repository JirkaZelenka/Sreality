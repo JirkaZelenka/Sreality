{
 "cells": [
  {
   "cell_type": "markdown",
   "metadata": {},
   "source": [
    "-----------------------\n",
    "## 1) New way of scraping  11.4.2024\n",
    "-----------------------"
   ]
  },
  {
   "cell_type": "code",
   "execution_count": 1,
   "metadata": {},
   "outputs": [],
   "source": [
    "from datetime import datetime\n",
    "import pandas as pd\n",
    "from tqdm import tqdm  \n",
    "import requests \n",
    "\n",
    "import os\n",
    "os.chdir(\"c:\\\\Users\\\\jirka\\\\Documents\\\\MyProjects\\\\Sreality\")\n",
    "from scraper.scraper import SrealityScraper\n",
    "from db_managment.data_manager import DataManager\n",
    "from utils.utils import Utilities\n",
    "from run import Runner"
   ]
  },
  {
   "cell_type": "markdown",
   "metadata": {},
   "source": [
    "### My regular run"
   ]
  },
  {
   "cell_type": "code",
   "execution_count": null,
   "metadata": {},
   "outputs": [],
   "source": [
    "scraper = SrealityScraper()\n",
    "utils = Utilities()\n",
    "\n",
    "full_datetime, date_to_save = utils.generate_timestamp()\n",
    "print(full_datetime, date_to_save)\n",
    "\n",
    "data_prodej_byty = scraper.scrape_all_with_filter(timestamp=full_datetime, category_main_cb=1,category_type_cb=1)\n",
    "df_data_prodej_byty = pd.DataFrame(data_prodej_byty)\n",
    "utils.safe_save_csv(df_data_prodej_byty, f\"data_{date_to_save}\")\n",
    "\n",
    "data_all = scraper.scrape_all_with_filter(timestamp=full_datetime)\n",
    "df_data_all = pd.DataFrame(data_all)\n",
    "utils.safe_save_csv(df_data_all, f\"data_all_{date_to_save}\")"
   ]
  },
  {
   "cell_type": "code",
   "execution_count": null,
   "metadata": {},
   "outputs": [],
   "source": [
    "# Just testing count\n",
    "headers = {\"User-Agent\": \"Mozilla/5.0\"}\n",
    "\n",
    "with requests.Session() as session:\n",
    "    url = \"https://www.sreality.cz/api/cs/v2/estates/count\"\n",
    "    result =  session.request(method=\"GET\", url=url, headers=headers).json()\n",
    "    print(result)\n",
    "    url_filter = f\"https://www.sreality.cz/api/cs/v2/estates?category_main_cb=1&category_type_cb=1&per_page=1&page=1\"\n",
    "    result2 =  session.request(method=\"GET\", url=url_filter).json()\n",
    "    print(result2)"
   ]
  },
  {
   "cell_type": "code",
   "execution_count": null,
   "metadata": {},
   "outputs": [],
   "source": [
    "scraper = SrealityScraper()\n",
    "utils = Utilities()\n",
    "full_datetime, date_to_save = utils.generate_timestamp()\n",
    "\n",
    "new_data = scraper.scrape_specific_estates([\"95413580\"], full_datetime)\n",
    "display(new_data)"
   ]
  },
  {
   "cell_type": "code",
   "execution_count": null,
   "metadata": {},
   "outputs": [],
   "source": [
    "headers = {\"User-Agent\": \"Mozilla/5.0\"}\n",
    "\n",
    "with requests.Session() as session:\n",
    "    url = \"https://www.sreality.cz/api/cs/v2/estates/95413580\"\n",
    "    result =  session.request(method=\"GET\", url=url, headers=headers).json()\n",
    "    display(result)\n"
   ]
  },
  {
   "cell_type": "code",
   "execution_count": 2,
   "metadata": {},
   "outputs": [
    {
     "name": "stdout",
     "output_type": "stream",
     "text": [
      "timestamp: 2024-04-21 19:33:52\n",
      "number of ALL estates (Byt, Dům, Pronájem, Prodej): 94209\n",
      "we will scrape max 95 pages with 999 results each\n",
      "number of Prodej - Byty: 17124\n",
      "['https://www.sreality.cz/api/cs/v2/estates?category_main_cb=1&category_type_cb=1&per_page=999&page=1', 'https://www.sreality.cz/api/cs/v2/estates?category_main_cb=1&category_type_cb=1&per_page=999&page=2', 'https://www.sreality.cz/api/cs/v2/estates?category_main_cb=1&category_type_cb=1&per_page=999&page=3', 'https://www.sreality.cz/api/cs/v2/estates?category_main_cb=1&category_type_cb=1&per_page=999&page=4', 'https://www.sreality.cz/api/cs/v2/estates?category_main_cb=1&category_type_cb=1&per_page=999&page=5', 'https://www.sreality.cz/api/cs/v2/estates?category_main_cb=1&category_type_cb=1&per_page=999&page=6', 'https://www.sreality.cz/api/cs/v2/estates?category_main_cb=1&category_type_cb=1&per_page=999&page=7', 'https://www.sreality.cz/api/cs/v2/estates?category_main_cb=1&category_type_cb=1&per_page=999&page=8', 'https://www.sreality.cz/api/cs/v2/estates?category_main_cb=1&category_type_cb=1&per_page=999&page=9', 'https://www.sreality.cz/api/cs/v2/estates?category_main_cb=1&category_type_cb=1&per_page=999&page=10', 'https://www.sreality.cz/api/cs/v2/estates?category_main_cb=1&category_type_cb=1&per_page=999&page=11', 'https://www.sreality.cz/api/cs/v2/estates?category_main_cb=1&category_type_cb=1&per_page=999&page=12', 'https://www.sreality.cz/api/cs/v2/estates?category_main_cb=1&category_type_cb=1&per_page=999&page=13', 'https://www.sreality.cz/api/cs/v2/estates?category_main_cb=1&category_type_cb=1&per_page=999&page=14', 'https://www.sreality.cz/api/cs/v2/estates?category_main_cb=1&category_type_cb=1&per_page=999&page=15', 'https://www.sreality.cz/api/cs/v2/estates?category_main_cb=1&category_type_cb=1&per_page=999&page=16', 'https://www.sreality.cz/api/cs/v2/estates?category_main_cb=1&category_type_cb=1&per_page=999&page=17', 'https://www.sreality.cz/api/cs/v2/estates?category_main_cb=1&category_type_cb=1&per_page=999&page=18', 'https://www.sreality.cz/api/cs/v2/estates?category_main_cb=1&category_type_cb=1&per_page=999&page=19', 'https://www.sreality.cz/api/cs/v2/estates?category_main_cb=1&category_type_cb=1&per_page=999&page=20', 'https://www.sreality.cz/api/cs/v2/estates?category_main_cb=1&category_type_cb=1&per_page=999&page=21', 'https://www.sreality.cz/api/cs/v2/estates?category_main_cb=1&category_type_cb=1&per_page=999&page=22', 'https://www.sreality.cz/api/cs/v2/estates?category_main_cb=1&category_type_cb=1&per_page=999&page=23', 'https://www.sreality.cz/api/cs/v2/estates?category_main_cb=1&category_type_cb=1&per_page=999&page=24', 'https://www.sreality.cz/api/cs/v2/estates?category_main_cb=1&category_type_cb=1&per_page=999&page=25', 'https://www.sreality.cz/api/cs/v2/estates?category_main_cb=1&category_type_cb=1&per_page=999&page=26', 'https://www.sreality.cz/api/cs/v2/estates?category_main_cb=1&category_type_cb=1&per_page=999&page=27', 'https://www.sreality.cz/api/cs/v2/estates?category_main_cb=1&category_type_cb=1&per_page=999&page=28', 'https://www.sreality.cz/api/cs/v2/estates?category_main_cb=1&category_type_cb=1&per_page=999&page=29', 'https://www.sreality.cz/api/cs/v2/estates?category_main_cb=1&category_type_cb=1&per_page=999&page=30', 'https://www.sreality.cz/api/cs/v2/estates?category_main_cb=1&category_type_cb=1&per_page=999&page=31', 'https://www.sreality.cz/api/cs/v2/estates?category_main_cb=1&category_type_cb=1&per_page=999&page=32', 'https://www.sreality.cz/api/cs/v2/estates?category_main_cb=1&category_type_cb=1&per_page=999&page=33', 'https://www.sreality.cz/api/cs/v2/estates?category_main_cb=1&category_type_cb=1&per_page=999&page=34', 'https://www.sreality.cz/api/cs/v2/estates?category_main_cb=1&category_type_cb=1&per_page=999&page=35', 'https://www.sreality.cz/api/cs/v2/estates?category_main_cb=1&category_type_cb=1&per_page=999&page=36', 'https://www.sreality.cz/api/cs/v2/estates?category_main_cb=1&category_type_cb=1&per_page=999&page=37', 'https://www.sreality.cz/api/cs/v2/estates?category_main_cb=1&category_type_cb=1&per_page=999&page=38', 'https://www.sreality.cz/api/cs/v2/estates?category_main_cb=1&category_type_cb=1&per_page=999&page=39', 'https://www.sreality.cz/api/cs/v2/estates?category_main_cb=1&category_type_cb=1&per_page=999&page=40', 'https://www.sreality.cz/api/cs/v2/estates?category_main_cb=1&category_type_cb=1&per_page=999&page=41', 'https://www.sreality.cz/api/cs/v2/estates?category_main_cb=1&category_type_cb=1&per_page=999&page=42', 'https://www.sreality.cz/api/cs/v2/estates?category_main_cb=1&category_type_cb=1&per_page=999&page=43', 'https://www.sreality.cz/api/cs/v2/estates?category_main_cb=1&category_type_cb=1&per_page=999&page=44', 'https://www.sreality.cz/api/cs/v2/estates?category_main_cb=1&category_type_cb=1&per_page=999&page=45', 'https://www.sreality.cz/api/cs/v2/estates?category_main_cb=1&category_type_cb=1&per_page=999&page=46', 'https://www.sreality.cz/api/cs/v2/estates?category_main_cb=1&category_type_cb=1&per_page=999&page=47', 'https://www.sreality.cz/api/cs/v2/estates?category_main_cb=1&category_type_cb=1&per_page=999&page=48', 'https://www.sreality.cz/api/cs/v2/estates?category_main_cb=1&category_type_cb=1&per_page=999&page=49', 'https://www.sreality.cz/api/cs/v2/estates?category_main_cb=1&category_type_cb=1&per_page=999&page=50', 'https://www.sreality.cz/api/cs/v2/estates?category_main_cb=1&category_type_cb=1&per_page=999&page=51', 'https://www.sreality.cz/api/cs/v2/estates?category_main_cb=1&category_type_cb=1&per_page=999&page=52', 'https://www.sreality.cz/api/cs/v2/estates?category_main_cb=1&category_type_cb=1&per_page=999&page=53', 'https://www.sreality.cz/api/cs/v2/estates?category_main_cb=1&category_type_cb=1&per_page=999&page=54', 'https://www.sreality.cz/api/cs/v2/estates?category_main_cb=1&category_type_cb=1&per_page=999&page=55', 'https://www.sreality.cz/api/cs/v2/estates?category_main_cb=1&category_type_cb=1&per_page=999&page=56', 'https://www.sreality.cz/api/cs/v2/estates?category_main_cb=1&category_type_cb=1&per_page=999&page=57', 'https://www.sreality.cz/api/cs/v2/estates?category_main_cb=1&category_type_cb=1&per_page=999&page=58', 'https://www.sreality.cz/api/cs/v2/estates?category_main_cb=1&category_type_cb=1&per_page=999&page=59', 'https://www.sreality.cz/api/cs/v2/estates?category_main_cb=1&category_type_cb=1&per_page=999&page=60', 'https://www.sreality.cz/api/cs/v2/estates?category_main_cb=1&category_type_cb=1&per_page=999&page=61', 'https://www.sreality.cz/api/cs/v2/estates?category_main_cb=1&category_type_cb=1&per_page=999&page=62', 'https://www.sreality.cz/api/cs/v2/estates?category_main_cb=1&category_type_cb=1&per_page=999&page=63', 'https://www.sreality.cz/api/cs/v2/estates?category_main_cb=1&category_type_cb=1&per_page=999&page=64', 'https://www.sreality.cz/api/cs/v2/estates?category_main_cb=1&category_type_cb=1&per_page=999&page=65', 'https://www.sreality.cz/api/cs/v2/estates?category_main_cb=1&category_type_cb=1&per_page=999&page=66', 'https://www.sreality.cz/api/cs/v2/estates?category_main_cb=1&category_type_cb=1&per_page=999&page=67', 'https://www.sreality.cz/api/cs/v2/estates?category_main_cb=1&category_type_cb=1&per_page=999&page=68', 'https://www.sreality.cz/api/cs/v2/estates?category_main_cb=1&category_type_cb=1&per_page=999&page=69', 'https://www.sreality.cz/api/cs/v2/estates?category_main_cb=1&category_type_cb=1&per_page=999&page=70', 'https://www.sreality.cz/api/cs/v2/estates?category_main_cb=1&category_type_cb=1&per_page=999&page=71', 'https://www.sreality.cz/api/cs/v2/estates?category_main_cb=1&category_type_cb=1&per_page=999&page=72', 'https://www.sreality.cz/api/cs/v2/estates?category_main_cb=1&category_type_cb=1&per_page=999&page=73', 'https://www.sreality.cz/api/cs/v2/estates?category_main_cb=1&category_type_cb=1&per_page=999&page=74', 'https://www.sreality.cz/api/cs/v2/estates?category_main_cb=1&category_type_cb=1&per_page=999&page=75', 'https://www.sreality.cz/api/cs/v2/estates?category_main_cb=1&category_type_cb=1&per_page=999&page=76', 'https://www.sreality.cz/api/cs/v2/estates?category_main_cb=1&category_type_cb=1&per_page=999&page=77', 'https://www.sreality.cz/api/cs/v2/estates?category_main_cb=1&category_type_cb=1&per_page=999&page=78', 'https://www.sreality.cz/api/cs/v2/estates?category_main_cb=1&category_type_cb=1&per_page=999&page=79', 'https://www.sreality.cz/api/cs/v2/estates?category_main_cb=1&category_type_cb=1&per_page=999&page=80', 'https://www.sreality.cz/api/cs/v2/estates?category_main_cb=1&category_type_cb=1&per_page=999&page=81', 'https://www.sreality.cz/api/cs/v2/estates?category_main_cb=1&category_type_cb=1&per_page=999&page=82', 'https://www.sreality.cz/api/cs/v2/estates?category_main_cb=1&category_type_cb=1&per_page=999&page=83', 'https://www.sreality.cz/api/cs/v2/estates?category_main_cb=1&category_type_cb=1&per_page=999&page=84', 'https://www.sreality.cz/api/cs/v2/estates?category_main_cb=1&category_type_cb=1&per_page=999&page=85', 'https://www.sreality.cz/api/cs/v2/estates?category_main_cb=1&category_type_cb=1&per_page=999&page=86', 'https://www.sreality.cz/api/cs/v2/estates?category_main_cb=1&category_type_cb=1&per_page=999&page=87', 'https://www.sreality.cz/api/cs/v2/estates?category_main_cb=1&category_type_cb=1&per_page=999&page=88', 'https://www.sreality.cz/api/cs/v2/estates?category_main_cb=1&category_type_cb=1&per_page=999&page=89', 'https://www.sreality.cz/api/cs/v2/estates?category_main_cb=1&category_type_cb=1&per_page=999&page=90', 'https://www.sreality.cz/api/cs/v2/estates?category_main_cb=1&category_type_cb=1&per_page=999&page=91', 'https://www.sreality.cz/api/cs/v2/estates?category_main_cb=1&category_type_cb=1&per_page=999&page=92', 'https://www.sreality.cz/api/cs/v2/estates?category_main_cb=1&category_type_cb=1&per_page=999&page=93', 'https://www.sreality.cz/api/cs/v2/estates?category_main_cb=1&category_type_cb=1&per_page=999&page=94', 'https://www.sreality.cz/api/cs/v2/estates?category_main_cb=1&category_type_cb=1&per_page=999&page=95']\n"
     ]
    },
    {
     "name": "stderr",
     "output_type": "stream",
     "text": [
      "100%|██████████| 95/95 [01:41<00:00,  1.07s/it]\n"
     ]
    },
    {
     "name": "stdout",
     "output_type": "stream",
     "text": [
      "Saving data_20240421_1933 to C:/Users/jirka/Documents/MyProjects/Sreality/data_2024/data_20240421_1933.csv\n",
      "185\n",
      "['1141601612', '3825956172', '2768991564', '3124458828', '3661329740', '3946542412', '138114380', '423327052', '3644552524', '2352706892', '4063982924', '3258676556', '2201711948', '1882944844', '3761993036', '1362851148', '3241899340', '372995404', '3057349964', '2252043596', '2000385356', '1195078988', '71005516', '930837836', '1413182796', '1698395468', '2586539340', '1747678540', '2284549452', '3626726732', '2032891212', '1227584844', '2569762124', '3911939404', '2922083660', '2401989964', '741045580', '3962271052', '2905306444', '1126921548', '288060748', '76809548', '120288588', '1680569676', '216335692', '3143333196', '2338026828', '3680204108', '1213953356', '4183520588', '2388358476', '3730535756', '1549497676', '56325452', '3277550924', '3495654732', '1901819212', '3780867404', '911963468', '2791011660', '3076224332', '3613095244', '2489021772', '441152844', '2320201036', '944469324', '139162956', '2303423820', '1598780748', '759919948', '843806028', '38499660', '1380676940', '2722854220', '1883993420', '21722444', '1363899724', '4048254284', '374043980', '2253092172', '2001433932', '3880482124', '877360460', '1414231372', '3413865804', '528184652', '3967513932', '3531306316', '813397324', '293303628', '645625164', '2524673356', '1467708748', '460027212', '678131020', '3899356492', '3379262796', '4234900812', '3714807116', '1399551308', '3278599500', '1902867788', '913012044', '1449882956', '2490070348', '1433105740', '3952346444', '3113485644', '2308179276', '3650356556', '2123629900', '2660500812', '4002678092', '261358924', '1603536204', '3482584396', '43255116', '2727609676', '3264480588', '328467788', '1670645068', '3012822348', '2710832460', '4053009740', '2038695244', '1233388876', '3917743436', '1048839500', '2927887692', '3213100364', '1283720524', '3447981388', '1938031948', '1132725580', '2474902860', '293864780', '1183057228', '931398988', '126092620', '2810447180', '1166280012', '4206101836', '1219757388', '3904111948', '2847147340', '3384018252', '1857291596', '3736339788', '2142504268', '213124428', '3182691660', '1119094092', '1622410572', '565445964', '917767500', '3618899276', '3316909388', '665060684', '2062878028', '3635807564', '4224976204', '1331037516', '1627391308', '1229981004', '592446796', '1111491916', '1118963020', '3047294284', '1188169036', '3701871948', '2874737996', '1300239692', '3847361868', '207320396', '3027989836', '1047692620', '1852536140', '581158220', '1550988620', '674682188', '2189129036', '1652258124', '3557496924', '112461132', '2994435404']\n"
     ]
    }
   ],
   "source": [
    "runner = Runner()\n",
    "\n",
    "res = runner.regular_run(scrape_prodej_byty=True, scrape_all=False)"
   ]
  },
  {
   "cell_type": "code",
   "execution_count": 5,
   "metadata": {},
   "outputs": [
    {
     "name": "stdout",
     "output_type": "stream",
     "text": [
      "185\n",
      "['1141601612', '3825956172', '2768991564', '3124458828', '3661329740', '3946542412', '138114380', '423327052', '3644552524', '2352706892', '4063982924', '3258676556', '2201711948', '1882944844', '3761993036', '1362851148', '3241899340', '372995404', '3057349964', '2252043596', '2000385356', '1195078988', '71005516', '930837836', '1413182796', '1698395468', '2586539340', '1747678540', '2284549452', '3626726732', '2032891212', '1227584844', '2569762124', '3911939404', '2922083660', '2401989964', '741045580', '3962271052', '2905306444', '1126921548', '288060748', '76809548', '120288588', '1680569676', '216335692', '3143333196', '2338026828', '3680204108', '1213953356', '4183520588', '2388358476', '3730535756', '1549497676', '56325452', '3277550924', '3495654732', '1901819212', '3780867404', '911963468', '2791011660', '3076224332', '3613095244', '2489021772', '441152844', '2320201036', '944469324', '139162956', '2303423820', '1598780748', '759919948', '843806028', '38499660', '1380676940', '2722854220', '1883993420', '21722444', '1363899724', '4048254284', '374043980', '2253092172', '2001433932', '3880482124', '877360460', '1414231372', '3413865804', '528184652', '3967513932', '3531306316', '813397324', '293303628', '645625164', '2524673356', '1467708748', '460027212', '678131020', '3899356492', '3379262796', '4234900812', '3714807116', '1399551308', '3278599500', '1902867788', '913012044', '1449882956', '2490070348', '1433105740', '3952346444', '3113485644', '2308179276', '3650356556', '2123629900', '2660500812', '4002678092', '261358924', '1603536204', '3482584396', '43255116', '2727609676', '3264480588', '328467788', '1670645068', '3012822348', '2710832460', '4053009740', '2038695244', '1233388876', '3917743436', '1048839500', '2927887692', '3213100364', '1283720524', '3447981388', '1938031948', '1132725580', '2474902860', '293864780', '1183057228', '931398988', '126092620', '2810447180', '1166280012', '4206101836', '1219757388', '3904111948', '2847147340', '3384018252', '1857291596', '3736339788', '2142504268', '213124428', '3182691660', '1119094092', '1622410572', '565445964', '917767500', '3618899276', '3316909388', '665060684', '2062878028', '3635807564', '4224976204', '1331037516', '1627391308', '1229981004', '592446796', '1111491916', '1118963020', '3047294284', '1188169036', '3701871948', '2874737996', '1300239692', '3847361868', '207320396', '3027989836', '1047692620', '1852536140', '581158220', '1550988620', '674682188', '2189129036', '1652258124', '3557496924', '112461132', '2994435404']\n"
     ]
    },
    {
     "data": {
      "text/html": [
       "<div>\n",
       "<style scoped>\n",
       "    .dataframe tbody tr th:only-of-type {\n",
       "        vertical-align: middle;\n",
       "    }\n",
       "\n",
       "    .dataframe tbody tr th {\n",
       "        vertical-align: top;\n",
       "    }\n",
       "\n",
       "    .dataframe thead th {\n",
       "        text-align: right;\n",
       "    }\n",
       "</style>\n",
       "<table border=\"1\" class=\"dataframe\">\n",
       "  <thead>\n",
       "    <tr style=\"text-align: right;\">\n",
       "      <th></th>\n",
       "      <th>0</th>\n",
       "    </tr>\n",
       "  </thead>\n",
       "  <tbody>\n",
       "    <tr>\n",
       "      <th>0</th>\n",
       "      <td>1141601612</td>\n",
       "    </tr>\n",
       "    <tr>\n",
       "      <th>1</th>\n",
       "      <td>3825956172</td>\n",
       "    </tr>\n",
       "    <tr>\n",
       "      <th>2</th>\n",
       "      <td>2768991564</td>\n",
       "    </tr>\n",
       "    <tr>\n",
       "      <th>3</th>\n",
       "      <td>3124458828</td>\n",
       "    </tr>\n",
       "    <tr>\n",
       "      <th>4</th>\n",
       "      <td>3661329740</td>\n",
       "    </tr>\n",
       "  </tbody>\n",
       "</table>\n",
       "</div>"
      ],
      "text/plain": [
       "            0\n",
       "0  1141601612\n",
       "1  3825956172\n",
       "2  2768991564\n",
       "3  3124458828\n",
       "4  3661329740"
      ]
     },
     "execution_count": 5,
     "metadata": {},
     "output_type": "execute_result"
    }
   ],
   "source": [
    "print(len(res))\n",
    "print(res)\n",
    "\n",
    "df_res = pd.DataFrame(res)\n",
    "df_res.head()"
   ]
  },
  {
   "cell_type": "code",
   "execution_count": 6,
   "metadata": {},
   "outputs": [],
   "source": [
    "file_path = f\"C:/Users/jirka/Documents/MyProjects/Sreality/data_2024/test_codes.csv\" \n",
    "df_res.to_csv(file_path, sep=\";\", encoding=\"utf-8\", index=False)"
   ]
  },
  {
   "cell_type": "code",
   "execution_count": null,
   "metadata": {},
   "outputs": [],
   "source": []
  },
  {
   "cell_type": "markdown",
   "metadata": {},
   "source": [
    "## Table managment test"
   ]
  },
  {
   "cell_type": "code",
   "execution_count": null,
   "metadata": {},
   "outputs": [],
   "source": [
    "from db_managment.data_manager import DataManager\n",
    "import pandas as pd\n",
    "\n",
    "data_manager = DataManager()"
   ]
  },
  {
   "cell_type": "code",
   "execution_count": null,
   "metadata": {},
   "outputs": [],
   "source": [
    "data_manager.get_all_rows(\"estate_detail\")\n"
   ]
  },
  {
   "cell_type": "code",
   "execution_count": null,
   "metadata": {},
   "outputs": [],
   "source": [
    "data_manager.clear_table(\"estate_detail\")"
   ]
  },
  {
   "cell_type": "code",
   "execution_count": null,
   "metadata": {},
   "outputs": [],
   "source": [
    "data_manager.drop_table(\"estate_detail\")"
   ]
  },
  {
   "cell_type": "code",
   "execution_count": null,
   "metadata": {},
   "outputs": [],
   "source": [
    "data_manager.create_table(\"estate_detail\")"
   ]
  },
  {
   "cell_type": "code",
   "execution_count": null,
   "metadata": {},
   "outputs": [],
   "source": [
    "\n",
    "#TODO: how about unit test for this?\n",
    "#? should fail predictably as it breakes foreign key constraints i made:)\n",
    "upload = pd.DataFrame(data = [[\"911\", \"4242\", \"12345000\"]],\n",
    "                      columns=[\"estate_id\", \"batch_id\", \"price\"])\n",
    "\n",
    "data_manager.insert_new_price(upload)"
   ]
  },
  {
   "cell_type": "markdown",
   "metadata": {},
   "source": [
    "## Processing new offers"
   ]
  },
  {
   "cell_type": "code",
   "execution_count": null,
   "metadata": {},
   "outputs": [],
   "source": [
    "from db_managment.data_manager import DataManager\n",
    "from utils.utils import Utilities\n",
    "import pandas as pd\n",
    "\n",
    "data_manager = DataManager()\n",
    "utils = Utilities()"
   ]
  },
  {
   "cell_type": "code",
   "execution_count": null,
   "metadata": {},
   "outputs": [],
   "source": [
    "data_manager.drop_table(\"estate_detail\")\n",
    "data_manager.create_table(\"estate_detail\")"
   ]
  },
  {
   "cell_type": "code",
   "execution_count": null,
   "metadata": {},
   "outputs": [],
   "source": [
    "df_new = pd.read_csv(\"data_2024/data_20240420_0019.csv\", sep=\";\", encoding=\"utf-8\")\n",
    "if 'Unnamed: 0' in df_new.columns:\n",
    "    df_new.drop('Unnamed: 0', axis=1, inplace=True)\n",
    "\n",
    "full_datetime, date_to_save = utils.generate_timestamp()\n",
    "\n",
    "data_manager.process_new_estates(df_new, full_datetime)"
   ]
  },
  {
   "cell_type": "code",
   "execution_count": null,
   "metadata": {},
   "outputs": [],
   "source": []
  },
  {
   "cell_type": "code",
   "execution_count": null,
   "metadata": {},
   "outputs": [],
   "source": [
    "\n"
   ]
  },
  {
   "cell_type": "code",
   "execution_count": null,
   "metadata": {},
   "outputs": [],
   "source": []
  },
  {
   "cell_type": "code",
   "execution_count": null,
   "metadata": {},
   "outputs": [],
   "source": []
  },
  {
   "cell_type": "code",
   "execution_count": null,
   "metadata": {},
   "outputs": [],
   "source": []
  }
 ],
 "metadata": {
  "kernelspec": {
   "display_name": "Sreality2024",
   "language": "python",
   "name": "python3"
  },
  "language_info": {
   "codemirror_mode": {
    "name": "ipython",
    "version": 3
   },
   "file_extension": ".py",
   "mimetype": "text/x-python",
   "name": "python",
   "nbconvert_exporter": "python",
   "pygments_lexer": "ipython3",
   "version": "3.11.5"
  }
 },
 "nbformat": 4,
 "nbformat_minor": 2
}

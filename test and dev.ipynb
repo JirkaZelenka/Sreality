{
 "cells": [
  {
   "cell_type": "markdown",
   "metadata": {},
   "source": [
    "-----------------------\n",
    "## 1) New way of scraping  11.4.2024\n",
    "-----------------------"
   ]
  },
  {
   "cell_type": "code",
   "execution_count": null,
   "metadata": {},
   "outputs": [],
   "source": [
    "from run import Runner\n",
    "runner = Runner()"
   ]
  },
  {
   "cell_type": "markdown",
   "metadata": {},
   "source": [
    "## Complete scraping + updating DB"
   ]
  },
  {
   "cell_type": "code",
   "execution_count": null,
   "metadata": {},
   "outputs": [],
   "source": [
    "runner.run_complete_scraping([\"prodej_byty\", \n",
    "                              \"prodej_domy\",\n",
    "                              \"prodej_pozemky\", \n",
    "                              \"prodej_komercni\",\n",
    "                              \"prodej_ostatni\",\n",
    "                              \"pronajem_byty\",\n",
    "                              \"pronajem_domy\"])"
   ]
  },
  {
   "cell_type": "code",
   "execution_count": null,
   "metadata": {},
   "outputs": [],
   "source": [
    "#runner.update_geodata()\n",
    "#runner.input_all_estates_to_db()\n",
    "#runner.input_all_prices_to_db()\n",
    "#runner.scrape_prices_and_details([\"count_prodej_byty\", \n",
    "#                                \"count_prodej_domy\"])"
   ]
  },
  {
   "cell_type": "markdown",
   "metadata": {},
   "source": [
    "## Test diagnostics"
   ]
  },
  {
   "cell_type": "code",
   "execution_count": null,
   "metadata": {},
   "outputs": [],
   "source": [
    "from diagnostics.diagnostics import Diagnostics\n",
    "import json \n",
    "\n",
    "\n",
    "diag = Diagnostics()\n",
    "\n",
    "#result = diag.summary_new_estates()\n",
    "\n",
    "#runner.mailing.send_email(subject=f'SCRAPING SREALITY SUMMARY for {result[\"latest_timestamp\"]}',\n",
    "#                        message_text=json.dumps(result))\n",
    "\n",
    "diag.describe_database()"
   ]
  },
  {
   "cell_type": "code",
   "execution_count": null,
   "metadata": {},
   "outputs": [],
   "source": []
  },
  {
   "cell_type": "markdown",
   "metadata": {},
   "source": [
    "## Testing requests"
   ]
  },
  {
   "cell_type": "code",
   "execution_count": null,
   "metadata": {},
   "outputs": [],
   "source": [
    "import requests\n",
    "# Just testing count\n",
    "headers = {\"User-Agent\": \"Mozilla/5.0\"}\n",
    "\n",
    "with requests.Session() as session:\n",
    "    url = \"https://www.sreality.cz/api/cs/v2/estates/count\"\n",
    "    result =  session.request(method=\"GET\", url=url, headers=headers).json()\n",
    "    print(result)\n",
    "    url_filter = f\"https://www.sreality.cz/api/cs/v2/estates?category_main_cb=1&category_type_cb=1&per_page=1&page=1\"\n",
    "    result2 =  session.request(method=\"GET\", url=url_filter).json()\n",
    "    print(result2)"
   ]
  },
  {
   "cell_type": "code",
   "execution_count": null,
   "metadata": {},
   "outputs": [],
   "source": [
    "headers = {\"User-Agent\": \"Mozilla/5.0\"}\n",
    "\n",
    "with requests.Session() as session:\n",
    "    url = \"https://www.sreality.cz/api/cs/v2/estates/95413580\"\n",
    "    result =  session.request(method=\"GET\", url=url, headers=headers).json()\n",
    "    display(result)\n"
   ]
  },
  {
   "cell_type": "markdown",
   "metadata": {},
   "source": [
    "## Test Utils - timestamp and mail"
   ]
  },
  {
   "cell_type": "code",
   "execution_count": null,
   "metadata": {},
   "outputs": [],
   "source": [
    "import json\n",
    "from run import Runner\n",
    "runner = Runner()"
   ]
  },
  {
   "cell_type": "code",
   "execution_count": null,
   "metadata": {},
   "outputs": [],
   "source": [
    "timestamp, _ = runner.utils.generate_timestamp()\n",
    "print(timestamp)\n",
    "#data_manager._insert_new_estate(df_\n",
    "# new, timestamp)"
   ]
  },
  {
   "cell_type": "code",
   "execution_count": null,
   "metadata": {},
   "outputs": [],
   "source": [
    "runner.mailing.send_email(\"hallo\", \"toto je mesidz\")\n"
   ]
  },
  {
   "cell_type": "code",
   "execution_count": null,
   "metadata": {},
   "outputs": [],
   "source": [
    "runner.mailing.send_email_with_attachment(\"hallo\", \"toto je mesidz\", 'scraping.log')\n"
   ]
  },
  {
   "cell_type": "code",
   "execution_count": null,
   "metadata": {},
   "outputs": [],
   "source": [
    "#discounts_all = runner.diag.discounts_in_last_batch(filters=None)\n",
    "#runner.mailing.send_email(subject=f'SREALITY - DISCOUNTS {discounts_all[\"Last Date\"]}',\n",
    "#                        message_text=json.dumps(discounts_all))\n",
    "\n",
    "discounts_targeted = runner.diag.discounts_in_last_batch()\n",
    "\n",
    "runner.mailing.send_email(subject=f'SREALITY - DISCOUNTS TARGETED {discounts_targeted[\"Last Date\"]}',\n",
    "                        message_text=json.dumps(discounts_targeted))"
   ]
  },
  {
   "cell_type": "markdown",
   "metadata": {},
   "source": [
    "## Test Prepare Geo-JSONs"
   ]
  },
  {
   "cell_type": "code",
   "execution_count": null,
   "metadata": {},
   "outputs": [],
   "source": [
    "source_folder= \"c:\\\\Users\\\\jirka\\\\Documents\\\\MyProjects\\\\Sreality\\\\data_2024\\\\estate_details\"\n",
    "files = os.listdir(source_folder)\n",
    "file_info = []\n",
    "\n",
    "for file_name in files:\n",
    "        file_path = os.path.join(source_folder, file_name)\n",
    "        if os.path.isfile(file_path):\n",
    "            size = os.path.getsize(file_path)\n",
    "            file_info.append((file_name, size))\n",
    "\n",
    "# Sort files by size\n",
    "sorted_files = sorted(file_info, key=lambda x: x[1])\n",
    "\n",
    "sorted_names = []\n",
    "for file_name, size in sorted_files:\n",
    "    sorted_names.append(file_name)\n",
    "    print(f\"{file_name}: {size} bytes\")"
   ]
  },
  {
   "cell_type": "code",
   "execution_count": null,
   "metadata": {},
   "outputs": [],
   "source": [
    "runner.geodata.enrich_jsons_with_geodata(list_of_jsons=None)"
   ]
  },
  {
   "cell_type": "markdown",
   "metadata": {},
   "source": [
    "## Test table managment"
   ]
  },
  {
   "cell_type": "code",
   "execution_count": null,
   "metadata": {},
   "outputs": [],
   "source": [
    "d = runner.data_manager.get_all_rows(\"price_history\")\n",
    "print(len(d))\n",
    "d_codes = d[\"estate_detail\"].unique()\n",
    "print(len(d_codes))"
   ]
  },
  {
   "cell_type": "code",
   "execution_count": null,
   "metadata": {},
   "outputs": [],
   "source": [
    "# price_history, estate_detail\n",
    "runner.data_manager.clear_table(\"X\")"
   ]
  },
  {
   "cell_type": "code",
   "execution_count": null,
   "metadata": {},
   "outputs": [],
   "source": [
    "runner.data_manager.drop_table(\"x\")"
   ]
  },
  {
   "cell_type": "code",
   "execution_count": null,
   "metadata": {},
   "outputs": [],
   "source": [
    "runner.data_manager.create_table(\"x\")"
   ]
  },
  {
   "cell_type": "code",
   "execution_count": null,
   "metadata": {},
   "outputs": [],
   "source": [
    "upload = pd.DataFrame(data = [[42, \"Prodej luxsního bejváku\", \"Byt 14+kk daleko od centra, ale v klidu.\",\n",
    "                               1, 6, 1, 111, \"M&M reality\", 2, 49.827491575, 18.1654443,\n",
    "                               0, 0, 111083, 65, 14829, 12, 10, 4730, 112,\n",
    "                               0, 0, 0, 0, 0, 2, 0, 79, \"Družstevní\", 0, 1, 1, 0,\n",
    "                               3, 0, 870824, 1, 2,\n",
    "                               ### Not mandatory:\n",
    "                               \"Cena je finální\", 123,\n",
    "                               \"Dnes\", \"cihla\", \"Novostavba\", \"Družstevní\", \"2.patro\",\n",
    "                               42, 43, 2, \"true\"\n",
    "                               ]],\n",
    "                      columns=['code', 'description', 'meta_description', \n",
    "                               'category_main_cb', 'category_type_cb', 'category_sub_cb', 'broker_id', 'broker_company',\n",
    "                            'furnished', 'latitude', 'longitude', 'locality', 'city', 'district',\n",
    "                            'region', 'object_type', 'parking_lots', 'locality_street_id',\n",
    "                            'locality_district_id', 'locality_ward_id', 'locality_region_id',\n",
    "                            'locality_quarter_id', 'locality_municipality_id',\n",
    "                            'locality_country_id', 'terrace', 'balcony', 'loggia', 'basin',\n",
    "                            'cellar', 'building_type', 'object_kind', 'ownership', 'low_energy',\n",
    "                            'easy_access', 'building_condition', 'garage', 'room_count_cb', 'energy_efficiency_rating_cb', \n",
    "                            ### Not mandatory:\n",
    "                            'note_about_price', 'id_of_order',\n",
    "                            'last_update', 'material', 'age_of_building', 'ownership_type', 'floor',\n",
    "                            'usable_area', 'floor_area', 'energy_efficiency_rating', \"no_barriers\"\n",
    "                            ])\n",
    "\n",
    "runner.data_manager._insert_new_estate(upload, \"2024-04-21 23:22:44\")\n",
    "\n",
    "#TODO: how about unit test for this?\n",
    "#? should fail predictably as it breakes foreign key constraints i made:)\n",
    "upload = pd.DataFrame(data = [[\"911\", \"4242\", \"12345000\"]],\n",
    "                      columns=[\"estate_id\", \"batch_id\", \"price\"])\n",
    "\n",
    "runner.data_manager.insert_new_price(upload)"
   ]
  },
  {
   "cell_type": "markdown",
   "metadata": {},
   "source": [
    "## Test Scheduler"
   ]
  },
  {
   "cell_type": "code",
   "execution_count": null,
   "metadata": {},
   "outputs": [],
   "source": [
    "import datetime as dt\n",
    "\n",
    "from scheduler import Scheduler\n",
    "\n",
    "score = 1\n",
    "\n",
    "def foo():\n",
    "    print(f\"foo called at {dt.datetime.now()}\")\n",
    "\n",
    "schedule = Scheduler()\n",
    "\n",
    "schedule.cyclic(dt.timedelta(seconds=6), foo)"
   ]
  },
  {
   "cell_type": "code",
   "execution_count": null,
   "metadata": {},
   "outputs": [],
   "source": [
    "print(schedule)"
   ]
  },
  {
   "cell_type": "code",
   "execution_count": null,
   "metadata": {},
   "outputs": [],
   "source": [
    "import time\n",
    "\n",
    "while True:\n",
    "    schedule.exec_jobs()\n",
    "    time.sleep(1)"
   ]
  },
  {
   "cell_type": "markdown",
   "metadata": {},
   "source": [
    "## Konec - Bonusy, jednorázovky"
   ]
  },
  {
   "cell_type": "code",
   "execution_count": null,
   "metadata": {},
   "outputs": [],
   "source": [
    "describe = d[\"id\"].describe()\n",
    "describe\n",
    "\n",
    "print(describe[\"min\"])\n",
    "\n",
    "print(d[\"id\"].min())"
   ]
  },
  {
   "cell_type": "code",
   "execution_count": null,
   "metadata": {},
   "outputs": [],
   "source": [
    "\n",
    "# One-time - all JSONs - rename key \"code\" into \"estate_id\", so it is unified\n",
    "\n",
    "import os\n",
    "import json\n",
    "\n",
    "#folder_path = 'C://Users//jirka//Documents//MyProjects//Sreality//data_2024//estate_details'\n",
    "\n",
    "json_files = [f for f in os.listdir(folder_path)]\n",
    "\n",
    "for json_file in json_files:\n",
    "    file_path = os.path.join(folder_path, json_file)\n",
    "    \n",
    "    with open(file_path, 'r') as f:\n",
    "        data = json.load(f)\n",
    "    \n",
    "    for item in data:\n",
    "        if 'code' in item:\n",
    "            item['estate_id'] = item.pop('code')\n",
    "    \n",
    "    with open(file_path, 'w') as f:\n",
    "        json.dump(data, f, indent=4)"
   ]
  },
  {
   "cell_type": "code",
   "execution_count": null,
   "metadata": {},
   "outputs": [],
   "source": [
    "# One-time - all CSVs - rename column \"code\" into \"estate_id\", so it is unified\n",
    "\n",
    "import os\n",
    "import pandas as pd\n",
    "\n",
    "#folder_path = 'C://Users//jirka//Documents//MyProjects//Sreality//data_2024//prices'\n",
    "\n",
    "csv_files = [f for f in os.listdir(folder_path)]\n",
    "for csv_file in csv_files:\n",
    "    file_path = os.path.join(folder_path, csv_file)\n",
    "    \n",
    "    df = pd.read_csv(file_path, sep=\";\")\n",
    "    \n",
    "    df.rename(columns={'code':'estate_id'}, inplace=True)\n",
    "    \n",
    "    df.to_csv(file_path, sep=\";\", encoding=\"utf-8\", index=False)"
   ]
  },
  {
   "cell_type": "code",
   "execution_count": null,
   "metadata": {},
   "outputs": [],
   "source": [
    "# trying to update json object, so i can get more info for estates\n",
    "\n",
    "#? update jde přímo přes index v listu, nebo pomocí definice itemu skrz value klíče\n",
    "#? nebo přes počet klíčů. Každopádně se updatují data, ale přebývající klíče a hodnoty zůstanou!\n",
    "my_list = [{\"estate_id\": \"123\",\"timestamp\": \"20240512_1234\", \"data\": \"are ok\"},\n",
    "           {\"estate_id\": \"456\",\"timestamp\": \"20240512_1239\"}\n",
    "           ]\n",
    "\n",
    "new_object = {\"estate_id\": \"789\",\"timestamp\": \"20240512_1111\",\n",
    "              \"some_data\": \"ahojky\"}\n",
    "\n",
    "#my_list[1].update(new_object)\n",
    "#if item[\"estate_id\"] == \"456\":\n",
    "\n",
    "for item in my_list:\n",
    "    if len(item.keys())==2:\n",
    "        item.update(new_object)\n",
    "\n",
    "display(my_list)"
   ]
  },
  {
   "cell_type": "code",
   "execution_count": null,
   "metadata": {},
   "outputs": [],
   "source": [
    "# hledání všech souborů estate_detail, kde se vyskytují některé moje duplicitky:\n",
    "from tqdm import tqdm\n",
    "import os\n",
    "import json\n",
    "import pandas as pd\n",
    "from run import Runner\n",
    "runner = Runner()\n",
    "\n",
    "#duplicities = [\"1125872972\",\"168523084\",\"1795913036\",\"1846244684\",\"1964733772\",\"2293527884\",\"2500932940\",\n",
    "#\"2686154060\",\"3306480972\",\"337343820\",\"3674961228\",\"3893065036\",\"622556492\",\"747320652\",\"756159820\",\"935601484\"]\n",
    "\n",
    "folder_with_jsons_files= f\"{runner.cf.project_path}/{runner.cf.data_folder}/{runner.cf.estate_details_folder}\"\n",
    "files = os.listdir(folder_with_jsons_files)\n",
    "\n",
    "dupli_files = []\n",
    "for file_name in tqdm(files):\n",
    "    file_path = os.path.join(folder_with_jsons_files, file_name)\n",
    "\n",
    "    with open(file_path, 'r') as file:\n",
    "        data = json.load(file)\n",
    "    for item in data:\n",
    "        #? Rozhodně nepřidávat další loop přes 2000 duplicities, stačí už toto\n",
    "        if item[\"estate_id\"] in duplicities:\n",
    "            dupli_files.append(file_name)\n",
    "            #print(f\"found {duplik} in file {file_name}\")\n"
   ]
  },
  {
   "cell_type": "code",
   "execution_count": null,
   "metadata": {},
   "outputs": [],
   "source": [
    "print(len(dupli_files))\n",
    "res = list(set(dupli_files))\n",
    "print(len(res))\n",
    "display(sorted(res))\n",
    "\n",
    "# '20240511_2353.json'\n",
    "# '20240512_0004.json'\n",
    "# '20240512_0008.json'\n",
    "# '20240421_2322.json',\n",
    "# '20240507_2250.json'"
   ]
  }
 ],
 "metadata": {
  "kernelspec": {
   "display_name": "Sreality2024",
   "language": "python",
   "name": "python3"
  },
  "language_info": {
   "codemirror_mode": {
    "name": "ipython",
    "version": 3
   },
   "file_extension": ".py",
   "mimetype": "text/x-python",
   "name": "python",
   "nbconvert_exporter": "python",
   "pygments_lexer": "ipython3",
   "version": "3.11.5"
  }
 },
 "nbformat": 4,
 "nbformat_minor": 2
}

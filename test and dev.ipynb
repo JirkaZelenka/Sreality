{
 "cells": [
  {
   "cell_type": "markdown",
   "metadata": {},
   "source": [
    "-----------------------\n",
    "## 1) New way of scraping  11.4.2024\n",
    "-----------------------"
   ]
  },
  {
   "cell_type": "code",
   "execution_count": 1,
   "metadata": {},
   "outputs": [],
   "source": [
    "from run import Runner\n",
    "runner = Runner()"
   ]
  },
  {
   "cell_type": "markdown",
   "metadata": {},
   "source": [
    "## Complete scraping + updating DB"
   ]
  },
  {
   "cell_type": "code",
   "execution_count": 7,
   "metadata": {},
   "outputs": [
    {
     "name": "stdout",
     "output_type": "stream",
     "text": [
      "SCRAPING Prices for https://www.sreality.cz/api/cs/v2/estates?category_type_cb=1&category_main_cb=1\n"
     ]
    },
    {
     "name": "stderr",
     "output_type": "stream",
     "text": [
      "100%|██████████| 18/18 [01:18<00:00,  4.34s/it]\n"
     ]
    },
    {
     "name": "stdout",
     "output_type": "stream",
     "text": [
      "SCRAPING Prices for https://www.sreality.cz/api/cs/v2/estates?category_type_cb=1&category_main_cb=2\n"
     ]
    },
    {
     "name": "stderr",
     "output_type": "stream",
     "text": [
      "100%|██████████| 22/22 [01:32<00:00,  4.22s/it]\n"
     ]
    },
    {
     "name": "stdout",
     "output_type": "stream",
     "text": [
      "SCRAPING Prices for https://www.sreality.cz/api/cs/v2/estates?category_type_cb=1&category_main_cb=3\n"
     ]
    },
    {
     "name": "stderr",
     "output_type": "stream",
     "text": [
      "100%|██████████| 26/26 [01:54<00:00,  4.41s/it]\n"
     ]
    },
    {
     "name": "stdout",
     "output_type": "stream",
     "text": [
      "SCRAPING Prices for https://www.sreality.cz/api/cs/v2/estates?category_type_cb=1&category_main_cb=4\n"
     ]
    },
    {
     "name": "stderr",
     "output_type": "stream",
     "text": [
      "100%|██████████| 5/5 [00:22<00:00,  4.51s/it]\n"
     ]
    },
    {
     "name": "stdout",
     "output_type": "stream",
     "text": [
      "SCRAPING Prices for https://www.sreality.cz/api/cs/v2/estates?category_type_cb=1&category_main_cb=5\n"
     ]
    },
    {
     "name": "stderr",
     "output_type": "stream",
     "text": [
      "100%|██████████| 2/2 [00:06<00:00,  3.37s/it]\n"
     ]
    },
    {
     "name": "stdout",
     "output_type": "stream",
     "text": [
      "SCRAPING Prices for https://www.sreality.cz/api/cs/v2/estates?category_type_cb=2&category_main_cb=1\n"
     ]
    },
    {
     "name": "stderr",
     "output_type": "stream",
     "text": [
      "100%|██████████| 10/10 [00:40<00:00,  4.07s/it]\n"
     ]
    },
    {
     "name": "stdout",
     "output_type": "stream",
     "text": [
      "SCRAPING Prices for https://www.sreality.cz/api/cs/v2/estates?category_type_cb=2&category_main_cb=2\n"
     ]
    },
    {
     "name": "stderr",
     "output_type": "stream",
     "text": [
      "100%|██████████| 1/1 [00:03<00:00,  3.21s/it]\n",
      "100%|██████████| 91/91 [00:58<00:00,  1.55it/s]\n",
      "100%|██████████| 72/72 [00:46<00:00,  1.55it/s]\n",
      "100%|██████████| 67/67 [00:44<00:00,  1.51it/s]\n",
      "100%|██████████| 17/17 [00:09<00:00,  1.71it/s]\n",
      "100%|██████████| 15/15 [00:09<00:00,  1.53it/s]\n",
      "100%|██████████| 126/126 [01:19<00:00,  1.59it/s]\n",
      "100%|██████████| 9/9 [00:05<00:00,  1.62it/s]\n"
     ]
    },
    {
     "name": "stdout",
     "output_type": "stream",
     "text": [
      "ENRICHING geolocation data.\n"
     ]
    },
    {
     "name": "stderr",
     "output_type": "stream",
     "text": [
      "Processing Locations: 100%|██████████| 91/91 [00:45<00:00,  2.01it/s]\n",
      "Processing Locations: 100%|██████████| 72/72 [00:36<00:00,  1.97it/s]\n",
      "Processing Locations: 100%|██████████| 67/67 [00:35<00:00,  1.91it/s]\n",
      "Processing Locations: 100%|██████████| 17/17 [00:08<00:00,  1.98it/s]\n",
      "Processing Locations: 100%|██████████| 15/15 [00:07<00:00,  2.01it/s]\n",
      "Processing Locations: 100%|██████████| 126/126 [01:04<00:00,  1.96it/s]\n",
      "Processing Locations: 100%|██████████| 9/9 [00:04<00:00,  1.85it/s]\n",
      "100%|██████████| 3382/3382 [03:23<00:00, 16.61it/s]\n"
     ]
    },
    {
     "name": "stdout",
     "output_type": "stream",
     "text": [
      "PREPARING Estate details JSONs to DF\n"
     ]
    },
    {
     "name": "stderr",
     "output_type": "stream",
     "text": [
      "100%|██████████| 3382/3382 [00:50<00:00, 67.39it/s] \n",
      "c:\\Users\\jirka\\Documents\\MyProjects\\Sreality\\utils\\utils.py:139: FutureWarning: Setting an item of incompatible dtype is deprecated and will raise an error in a future version of pandas. Value '-' has dtype incompatible with float64, please explicitly cast to a compatible dtype first.\n",
      "  final_df.fillna(\"-\", inplace=True)\n"
     ]
    },
    {
     "name": "stdout",
     "output_type": "stream",
     "text": [
      "there are already 3768 processed files\n"
     ]
    },
    {
     "name": "stderr",
     "output_type": "stream",
     "text": [
      "100%|██████████| 7/7 [00:04<00:00,  1.74it/s]\n"
     ]
    }
   ],
   "source": [
    "runner.run_complete_scraping([\"prodej_byty\", \n",
    "                              \"prodej_domy\",\n",
    "                              \"prodej_pozemky\", \n",
    "                              \"prodej_komercni\",\n",
    "                              \"prodej_ostatni\",\n",
    "                              \"pronajem_byty\",\n",
    "                              \"pronajem_domy\"])"
   ]
  },
  {
   "cell_type": "code",
   "execution_count": null,
   "metadata": {},
   "outputs": [],
   "source": [
    "#runner.update_geodata()\n",
    "#runner.input_all_estates_to_db()\n",
    "#runner.input_all_prices_to_db()\n",
    "#runner.scrape_prices_and_details([\"count_prodej_byty\", \n",
    "#                                \"count_prodej_domy\"])"
   ]
  },
  {
   "cell_type": "markdown",
   "metadata": {},
   "source": [
    "## Test diagnostics"
   ]
  },
  {
   "cell_type": "code",
   "execution_count": null,
   "metadata": {},
   "outputs": [],
   "source": [
    "from diagnostics.diagnostics import Diagnostics\n",
    "import json \n",
    "\n",
    "\n",
    "diag = Diagnostics()\n",
    "\n",
    "#result = diag.summary_new_estates()\n",
    "\n",
    "#runner.mailing.send_email(subject=f'SCRAPING SREALITY SUMMARY for {result[\"latest_timestamp\"]}',\n",
    "#                        message_text=json.dumps(result))\n",
    "\n",
    "diag.describe_database()"
   ]
  },
  {
   "cell_type": "markdown",
   "metadata": {},
   "source": [
    "## Testing requests"
   ]
  },
  {
   "cell_type": "code",
   "execution_count": null,
   "metadata": {},
   "outputs": [],
   "source": [
    "import requests\n",
    "# Just testing count\n",
    "headers = {\"User-Agent\": \"Mozilla/5.0\"}\n",
    "\n",
    "with requests.Session() as session:\n",
    "    url = \"https://www.sreality.cz/api/cs/v2/estates/count\"\n",
    "    result =  session.request(method=\"GET\", url=url, headers=headers).json()\n",
    "    print(result)\n",
    "    url_filter = f\"https://www.sreality.cz/api/cs/v2/estates?category_main_cb=1&category_type_cb=1&per_page=1&page=1\"\n",
    "    result2 =  session.request(method=\"GET\", url=url_filter).json()\n",
    "    print(result2)"
   ]
  },
  {
   "cell_type": "code",
   "execution_count": null,
   "metadata": {},
   "outputs": [],
   "source": [
    "headers = {\"User-Agent\": \"Mozilla/5.0\"}\n",
    "\n",
    "with requests.Session() as session:\n",
    "    url = \"https://www.sreality.cz/api/cs/v2/estates/95413580\"\n",
    "    result =  session.request(method=\"GET\", url=url, headers=headers).json()\n",
    "    display(result)\n"
   ]
  },
  {
   "cell_type": "markdown",
   "metadata": {},
   "source": [
    "## Test Utils - timestamp and mail"
   ]
  },
  {
   "cell_type": "code",
   "execution_count": null,
   "metadata": {},
   "outputs": [],
   "source": [
    "import json\n",
    "from run import Runner\n",
    "runner = Runner()"
   ]
  },
  {
   "cell_type": "code",
   "execution_count": null,
   "metadata": {},
   "outputs": [],
   "source": [
    "timestamp, _ = runner.utils.generate_timestamp()\n",
    "print(timestamp)\n",
    "#data_manager._insert_new_estate(df_\n",
    "# new, timestamp)"
   ]
  },
  {
   "cell_type": "code",
   "execution_count": null,
   "metadata": {},
   "outputs": [],
   "source": [
    "runner.mailing.send_email(\"hallo\", \"toto je mesidz\")\n"
   ]
  },
  {
   "cell_type": "code",
   "execution_count": null,
   "metadata": {},
   "outputs": [],
   "source": [
    "runner.mailing.send_email_with_attachment(\"hallo\", \"toto je mesidz\", 'scraping.log')\n"
   ]
  },
  {
   "cell_type": "code",
   "execution_count": null,
   "metadata": {},
   "outputs": [],
   "source": [
    "#discounts_all = runner.diag.discounts_in_last_batch(filters=None)\n",
    "#runner.mailing.send_email(subject=f'SREALITY - DISCOUNTS {discounts_all[\"Last Date\"]}',\n",
    "#                        message_text=json.dumps(discounts_all))\n",
    "\n",
    "discounts_all = runner.diag.discounts_in_last_batch(filters=None)\n",
    "runner.mailing.send_email(subject=f'SREALITY - DISCOUNTS {discounts_all[\"Last Date\"]}',\n",
    "                        message_text=json.dumps(discounts_all))\n",
    "        \n",
    "discounts_targeted = runner.diag.discounts_in_last_batch()\n",
    "runner.mailing.send_email(subject=f'SREALITY - DISCOUNTS Prodej-Byty-Praha,Středočeský {discounts_targeted[\"Last Date\"]}',\n",
    "                        message_text=json.dumps(discounts_targeted))"
   ]
  },
  {
   "cell_type": "markdown",
   "metadata": {},
   "source": [
    "## Test Prepare Geo-JSONs"
   ]
  },
  {
   "cell_type": "code",
   "execution_count": null,
   "metadata": {},
   "outputs": [],
   "source": [
    "source_folder= \"c:\\\\Users\\\\jirka\\\\Documents\\\\MyProjects\\\\Sreality\\\\data_2024\\\\estate_details\"\n",
    "files = os.listdir(source_folder)\n",
    "file_info = []\n",
    "\n",
    "for file_name in files:\n",
    "        file_path = os.path.join(source_folder, file_name)\n",
    "        if os.path.isfile(file_path):\n",
    "            size = os.path.getsize(file_path)\n",
    "            file_info.append((file_name, size))\n",
    "\n",
    "# Sort files by size\n",
    "sorted_files = sorted(file_info, key=lambda x: x[1])\n",
    "\n",
    "sorted_names = []\n",
    "for file_name, size in sorted_files:\n",
    "    sorted_names.append(file_name)\n",
    "    print(f\"{file_name}: {size} bytes\")"
   ]
  },
  {
   "cell_type": "code",
   "execution_count": null,
   "metadata": {},
   "outputs": [],
   "source": [
    "runner.geodata.enrich_jsons_with_geodata(list_of_jsons=None)"
   ]
  },
  {
   "cell_type": "markdown",
   "metadata": {},
   "source": [
    "## Test table managment"
   ]
  },
  {
   "cell_type": "code",
   "execution_count": null,
   "metadata": {},
   "outputs": [],
   "source": [
    "d = runner.data_manager.get_all_rows(\"price_history\")\n",
    "print(len(d))\n",
    "d_codes = d[\"estate_detail\"].unique()\n",
    "print(len(d_codes))"
   ]
  },
  {
   "cell_type": "code",
   "execution_count": null,
   "metadata": {},
   "outputs": [],
   "source": [
    "# price_history, estate_detail\n",
    "runner.data_manager.clear_table(\"X\")"
   ]
  },
  {
   "cell_type": "code",
   "execution_count": null,
   "metadata": {},
   "outputs": [],
   "source": [
    "runner.data_manager.drop_table(\"X\")"
   ]
  },
  {
   "cell_type": "code",
   "execution_count": null,
   "metadata": {},
   "outputs": [],
   "source": [
    "runner.data_manager.create_table(\"price_history_v2\")"
   ]
  },
  {
   "cell_type": "markdown",
   "metadata": {},
   "source": [
    "## Test restrukturalizace databáze na cenu staženou na datum-range\n"
   ]
  },
  {
   "cell_type": "code",
   "execution_count": null,
   "metadata": {},
   "outputs": [],
   "source": [
    "\n",
    "#TODO: musím to rozsekat aby to fungovalo po částech, jak kvůli testu, tak kvůli rozkouskování práce, nepřetížení systému\n",
    "#TODO: musím upravit nový loading, aby nově přibyvší ceny dělaly totéž\n",
    "\n",
    "from run import Runner\n",
    "runner = Runner()"
   ]
  },
  {
   "cell_type": "code",
   "execution_count": null,
   "metadata": {},
   "outputs": [],
   "source": [
    "df = runner.data_manager.transformation_get_old_db()\n",
    "print(len(df))"
   ]
  },
  {
   "cell_type": "code",
   "execution_count": null,
   "metadata": {},
   "outputs": [],
   "source": [
    "df_final = runner.data_manager.transformation_create_new_table(df, \"price_history_new\")"
   ]
  },
  {
   "cell_type": "code",
   "execution_count": null,
   "metadata": {},
   "outputs": [],
   "source": [
    "print(len(df_final))\n",
    "print(len(df_final[\"estate_id\"].unique()))\n",
    "df_final.head()"
   ]
  },
  {
   "cell_type": "code",
   "execution_count": null,
   "metadata": {},
   "outputs": [],
   "source": [
    "# checking the estates, that have multiple prices in my sample\n",
    "unique_combinations = df_final.copy() #.drop_duplicates(subset=['estate_id', 'price'])\n",
    "filtered_estate_ids = unique_combinations.groupby('estate_id').filter(lambda x: x['price'].nunique() > 2)\n",
    "print(len(filtered_estate_ids))\n",
    "filtered_estate_ids.sort_values(by=['estate_id', \"start_date\"], inplace=True)\n",
    "filtered_estate_ids.reset_index(drop=True)\n",
    "filtered_estate_ids"
   ]
  },
  {
   "cell_type": "code",
   "execution_count": null,
   "metadata": {},
   "outputs": [],
   "source": [
    "filtered_estate_ids[filtered_estate_ids[\"estate_id\"]==\"1012147532\"]"
   ]
  },
  {
   "cell_type": "code",
   "execution_count": null,
   "metadata": {},
   "outputs": [],
   "source": [
    "df[df[\"estate_id\"]==\"1012147532\"]"
   ]
  },
  {
   "cell_type": "code",
   "execution_count": 6,
   "metadata": {},
   "outputs": [
    {
     "name": "stdout",
     "output_type": "stream",
     "text": [
      "there are already 3760 processed files\n",
      "['data_prodej_byty_20241011_084220.csv', 'data_prodej_domy_20241011_084220.csv', 'data_prodej_komercni_20241011_084220.csv', 'data_prodej_ostatni_20241011_084220.csv', 'data_prodej_pozemky_20241011_084220.csv', 'data_pronajem_byty_20241010_114122.csv', 'data_pronajem_byty_20241011_011535.csv', 'data_pronajem_byty_20241011_084220.csv', 'data_pronajem_domy_20241010_114122.csv', 'data_pronajem_domy_20241011_011535.csv', 'data_pronajem_domy_20241011_084220.csv']\n",
      "11\n"
     ]
    },
    {
     "name": "stderr",
     "output_type": "stream",
     "text": [
      "100%|██████████| 16971/16971 [21:47<00:00, 12.98it/s]\n",
      "100%|██████████| 21129/21129 [35:34<00:00,  9.90it/s]\n",
      "100%|██████████| 4890/4890 [11:44<00:00,  6.94it/s]\n",
      "100%|██████████| 1317/1317 [02:20<00:00,  9.37it/s]\n",
      "100%|██████████| 25412/25412 [37:48<00:00, 11.20it/s] \n"
     ]
    }
   ],
   "source": [
    "## TEST 2 - nová fce na vkládání, do price_history_new2, pomocí insert_new_price_v2\n",
    "\n",
    "#! check poslední scraped soubory a ulož do -kopie!\n",
    "runner.input_all_prices_to_db2(limit_files=5)\n",
    "\n",
    "# 6 dávek (42 souborů) je nyní 4\n",
    "# 90 minut..  -> 1 dávka scrapingu = 80 minut..."
   ]
  },
  {
   "cell_type": "code",
   "execution_count": 4,
   "metadata": {},
   "outputs": [
    {
     "name": "stdout",
     "output_type": "stream",
     "text": [
      "there are already 3755 processed files\n",
      "['data_prodej_komercni_20241011_011535.csv', 'data_prodej_ostatni_20241010_114122.csv', 'data_prodej_ostatni_20241011_011535.csv', 'data_prodej_pozemky_20241010_114122.csv', 'data_prodej_pozemky_20241011_011535.csv', 'data_pronajem_byty_20241010_114122.csv', 'data_pronajem_byty_20241011_011535.csv', 'data_pronajem_domy_20241010_114122.csv', 'data_pronajem_domy_20241011_011535.csv']\n",
      "9\n"
     ]
    },
    {
     "name": "stderr",
     "output_type": "stream",
     "text": [
      "100%|██████████| 4846/4846 [06:17<00:00, 12.83it/s]\n",
      "100%|██████████| 1328/1328 [01:44<00:00, 12.66it/s]\n",
      "100%|██████████| 1305/1305 [01:42<00:00, 12.71it/s]\n",
      "100%|██████████| 25334/25334 [32:40<00:00, 12.92it/s]\n",
      "100%|██████████| 25280/25280 [32:33<00:00, 12.94it/s]\n"
     ]
    }
   ],
   "source": [
    "runner.input_all_prices_to_db2(limit_files=5)"
   ]
  },
  {
   "cell_type": "code",
   "execution_count": null,
   "metadata": {},
   "outputs": [],
   "source": [
    "#runner.data_manager.clear_table(\"price_history_v1\")\n",
    "#runner.data_manager.drop_table(\"price_history_v1\")\n",
    "#runner.data_manager.create_table(\"price_history_v1\")"
   ]
  },
  {
   "cell_type": "code",
   "execution_count": null,
   "metadata": {},
   "outputs": [],
   "source": [
    "\n",
    "#! check poslední scraped soubory a ulož do ph1.txt a ph2.txt\n",
    "runner.test_input_v1()"
   ]
  },
  {
   "cell_type": "code",
   "execution_count": null,
   "metadata": {},
   "outputs": [],
   "source": [
    "#runner.data_manager.clear_table(\"price_history_v2\")\n",
    "#runner.data_manager.drop_table(\"price_history_v2\")\n",
    "#runner.data_manager.create_table(\"price_history_v2\")"
   ]
  },
  {
   "cell_type": "code",
   "execution_count": null,
   "metadata": {},
   "outputs": [],
   "source": [
    "\n",
    "#! check poslední scraped soubory a ulož do ph1.txt a ph2.txt\n",
    "runner.test_input_v2()"
   ]
  },
  {
   "cell_type": "markdown",
   "metadata": {},
   "source": [
    "## Test Scheduler"
   ]
  },
  {
   "cell_type": "code",
   "execution_count": null,
   "metadata": {},
   "outputs": [],
   "source": [
    "import datetime as dt\n",
    "\n",
    "from scheduler import Scheduler\n",
    "\n",
    "score = 1\n",
    "\n",
    "def foo():\n",
    "    print(f\"foo called at {dt.datetime.now()}\")\n",
    "\n",
    "schedule = Scheduler()\n",
    "\n",
    "schedule.cyclic(dt.timedelta(seconds=6), foo)"
   ]
  },
  {
   "cell_type": "code",
   "execution_count": null,
   "metadata": {},
   "outputs": [],
   "source": [
    "print(schedule)"
   ]
  },
  {
   "cell_type": "code",
   "execution_count": null,
   "metadata": {},
   "outputs": [],
   "source": [
    "import time\n",
    "\n",
    "while True:\n",
    "    schedule.exec_jobs()\n",
    "    time.sleep(1)"
   ]
  },
  {
   "cell_type": "markdown",
   "metadata": {},
   "source": [
    "## Konec - Bonuses, exploration"
   ]
  },
  {
   "cell_type": "code",
   "execution_count": null,
   "metadata": {},
   "outputs": [],
   "source": [
    "describe = d[\"id\"].describe()\n",
    "describe\n",
    "\n",
    "print(describe[\"min\"])\n",
    "\n",
    "print(d[\"id\"].min())"
   ]
  },
  {
   "cell_type": "code",
   "execution_count": null,
   "metadata": {},
   "outputs": [],
   "source": [
    "\n",
    "# One-time - all JSONs - rename key \"code\" into \"estate_id\", so it is unified\n",
    "\n",
    "import os\n",
    "import json\n",
    "\n",
    "folder_path = 'C://Users//X//estate_details'\n",
    "\n",
    "json_files = [f for f in os.listdir(folder_path)]\n",
    "\n",
    "for json_file in json_files:\n",
    "    file_path = os.path.join(folder_path, json_file)\n",
    "    \n",
    "    with open(file_path, 'r') as f:\n",
    "        data = json.load(f)\n",
    "    \n",
    "    for item in data:\n",
    "        if 'code' in item:\n",
    "            item['estate_id'] = item.pop('code')\n",
    "    \n",
    "    with open(file_path, 'w') as f:\n",
    "        json.dump(data, f, indent=4)"
   ]
  },
  {
   "cell_type": "code",
   "execution_count": null,
   "metadata": {},
   "outputs": [],
   "source": [
    "# One-time - all CSVs - rename column \"code\" into \"estate_id\", so it is unified\n",
    "\n",
    "import os\n",
    "import pandas as pd\n",
    "\n",
    "folder_path = 'C://Users//X//prices' \n",
    "\n",
    "csv_files = [f for f in os.listdir(folder_path)]\n",
    "for csv_file in csv_files:\n",
    "    file_path = os.path.join(folder_path, csv_file)\n",
    "    \n",
    "    df = pd.read_csv(file_path, sep=\";\")\n",
    "    \n",
    "    df.rename(columns={'code':'estate_id'}, inplace=True)\n",
    "    \n",
    "    df.to_csv(file_path, sep=\";\", encoding=\"utf-8\", index=False)"
   ]
  },
  {
   "cell_type": "code",
   "execution_count": null,
   "metadata": {},
   "outputs": [],
   "source": [
    "# trying to update json object, so i can get more info for estates\n",
    "\n",
    "#? update jde přímo přes index v listu, nebo pomocí definice itemu skrz value klíče\n",
    "#? nebo přes počet klíčů. Každopádně se updatují data, ale přebývající klíče a hodnoty zůstanou!\n",
    "my_list = [{\"estate_id\": \"123\",\"timestamp\": \"20240512_1234\", \"data\": \"are ok\"},\n",
    "           {\"estate_id\": \"456\",\"timestamp\": \"20240512_1239\"}\n",
    "           ]\n",
    "\n",
    "new_object = {\"estate_id\": \"789\",\"timestamp\": \"20240512_1111\",\n",
    "              \"some_data\": \"ahojky\"}\n",
    "\n",
    "#my_list[1].update(new_object)\n",
    "#if item[\"estate_id\"] == \"456\":\n",
    "\n",
    "for item in my_list:\n",
    "    if len(item.keys())==2:\n",
    "        item.update(new_object)\n",
    "\n",
    "display(my_list)"
   ]
  },
  {
   "cell_type": "markdown",
   "metadata": {},
   "source": [
    "## Trying to visualize dates"
   ]
  },
  {
   "cell_type": "code",
   "execution_count": null,
   "metadata": {},
   "outputs": [],
   "source": [
    "pip install matplotlib"
   ]
  },
  {
   "cell_type": "code",
   "execution_count": null,
   "metadata": {},
   "outputs": [],
   "source": [
    "import matplotlib.pyplot as plt\n",
    "import io\n",
    "from datetime import datetime\n",
    "\n",
    "estates = [\n",
    "    {\"id\": 1, \"name\": \"Estate A\", \"start_date\": \"2023-01-01\", \"end_date\": \"2023-03-01\"},\n",
    "    {\"id\": 2, \"name\": \"Estate B\", \"start_date\": \"2023-02-01\", \"end_date\": \"2023-05-01\"},\n",
    "    {\"id\": 3, \"name\": \"Estate C\", \"start_date\": \"2023-02-01\", \"end_date\": \"2023-03-01\"},\n",
    "    {\"id\": 4, \"name\": \"Estate D\", \"start_date\": \"2023-01-01\", \"end_date\": \"2023-07-01\"},\n",
    "    {\"id\": 5, \"name\": \"Estate E\", \"start_date\": \"2023-02-01\", \"end_date\": \"2023-05-01\"},\n",
    "    {\"id\": 6, \"name\": \"Estate F\", \"start_date\": \"2023-01-03\", \"end_date\": \"2023-08-01\"},\n",
    "]\n",
    "\n",
    "def create_estate_graph(estates):\n",
    "    fig, ax = plt.subplots(figsize=(8, 3))\n",
    "\n",
    "    estate_data = {}\n",
    "    for estate in estates:\n",
    "        start_date = datetime.strptime(estate[\"start_date\"], \"%Y-%m-%d\")\n",
    "        end_date = datetime.strptime(estate[\"end_date\"], \"%Y-%m-%d\")\n",
    "        key = (start_date, end_date)\n",
    "        if key not in estate_data:\n",
    "            estate_data[key] = 0\n",
    "        estate_data[key] += 1\n",
    "\n",
    "    # Sort data by start date and then by end date\n",
    "    sorted_estate_data = sorted(estate_data.items(), key=lambda x: (x[0][0], x[0][1]), reverse = True)\n",
    "\n",
    "    # Plot data\n",
    "    for i, ((start, end), count) in enumerate(sorted_estate_data):\n",
    "        ax.plot([start, end], [i, i], label=f'{count} estates', marker='o')\n",
    "        ax.text(start +(end-start)/2, i, f'{count}', verticalalignment='center')\n",
    "\n",
    "    #ax.set_yticks(range(len(sorted_estate_data)))\n",
    "    #ax.set_yticklabels([f'Start: {start.strftime(\"%Y-%m-%d\")}\\nEnd: {end.strftime(\"%Y-%m-%d\")}' for start, end in sorted_estate_data])\n",
    "    ax.set_xlabel('Date')\n",
    "    ax.set_title('Estate Offers Timeline')\n",
    "    plt.xticks(rotation=45)\n",
    "    plt.tight_layout()\n",
    "    plt.show()\n",
    "\n",
    "create_estate_graph(estates)\n"
   ]
  },
  {
   "cell_type": "code",
   "execution_count": null,
   "metadata": {},
   "outputs": [],
   "source": [
    "import matplotlib.pyplot as plt\n",
    "import matplotlib.colors as mcolors\n",
    "import io\n",
    "from datetime import datetime, timedelta\n",
    "\n",
    "estates = [\n",
    "    {\"id\": 1, \"name\": \"Estate A\", \"start_date\": \"2023-01-01\", \"end_date\": \"2023-03-01\"},\n",
    "    \n",
    "    {\"id\": 3, \"name\": \"Estate C\", \"start_date\": \"2023-02-01\", \"end_date\": \"2023-03-01\"},\n",
    "    \n",
    "    {\"id\": 4, \"name\": \"Estate D\", \"start_date\": \"2023-01-01\", \"end_date\": \"2023-07-01\"},\n",
    "    {\"id\": 4, \"name\": \"Estate D\", \"start_date\": \"2023-01-01\", \"end_date\": \"2023-07-01\"},\n",
    "    {\"id\": 4, \"name\": \"Estate D\", \"start_date\": \"2023-01-01\", \"end_date\": \"2023-07-01\"},\n",
    "    {\"id\": 4, \"name\": \"Estate D\", \"start_date\": \"2023-01-01\", \"end_date\": \"2023-07-01\"},\n",
    "    {\"id\": 4, \"name\": \"Estate D\", \"start_date\": \"2023-01-01\", \"end_date\": \"2023-07-01\"},\n",
    "    \n",
    "    {\"id\": 2, \"name\": \"Estate B\", \"start_date\": \"2023-02-01\", \"end_date\": \"2023-05-01\"},\n",
    "    {\"id\": 5, \"name\": \"Estate E\", \"start_date\": \"2023-02-01\", \"end_date\": \"2023-05-01\"},\n",
    "    \n",
    "    {\"id\": 6, \"name\": \"Estate F\", \"start_date\": \"2023-01-03\", \"end_date\": \"2023-08-01\"},\n",
    "    {\"id\": 6, \"name\": \"Estate F\", \"start_date\": \"2023-01-03\", \"end_date\": \"2023-08-01\"},\n",
    "    {\"id\": 6, \"name\": \"Estate F\", \"start_date\": \"2023-01-03\", \"end_date\": \"2023-08-01\"},\n",
    "    {\"id\": 6, \"name\": \"Estate F\", \"start_date\": \"2023-01-03\", \"end_date\": \"2023-08-01\"},\n",
    "    {\"id\": 6, \"name\": \"Estate F\", \"start_date\": \"2023-01-03\", \"end_date\": \"2023-08-01\"},\n",
    "    {\"id\": 6, \"name\": \"Estate F\", \"start_date\": \"2023-01-03\", \"end_date\": \"2023-08-01\"},\n",
    "\n",
    "]\n",
    "\n",
    "def create_estate_graph(estates, display_position='middle'):\n",
    "    fig, ax = plt.subplots(figsize=(10, 6))\n",
    "\n",
    "    # Process data\n",
    "    estate_data = {}\n",
    "    for estate in estates:\n",
    "        start_date = datetime.strptime(estate[\"start_date\"], \"%Y-%m-%d\")\n",
    "        end_date = datetime.strptime(estate[\"end_date\"], \"%Y-%m-%d\")\n",
    "        key = (start_date, end_date)\n",
    "        if key not in estate_data:\n",
    "            estate_data[key] = 0\n",
    "        estate_data[key] += 1\n",
    "\n",
    "    # Sort data by start date and then by end date\n",
    "    sorted_estate_data = sorted(estate_data.items(), key=lambda x: (x[0][0], x[0][1]), reverse=True)\n",
    "\n",
    "    # Determine min and max counts for color scaling\n",
    "    counts = [count for (_, _), count in sorted_estate_data]\n",
    "    min_count = min(counts)\n",
    "    max_count = max(counts)\n",
    "\n",
    "    norm = mcolors.Normalize(vmin=min_count, vmax=max_count)\n",
    "    cmap = plt.get_cmap('RdYlGn_r')  # Reversed Red to Green colormap\n",
    "\n",
    "    # Plot data\n",
    "    for i, ((start, end), count) in enumerate(sorted_estate_data):\n",
    "        color = cmap(norm(count))\n",
    "        ax.barh(i, (end - start).days, left=start, color=color, edgecolor='black', height = 0.8)\n",
    "\n",
    "        # Place the count text in the middle of the bar\n",
    "        mid_date = start + (end - start) / 2\n",
    "        ax.text(mid_date, i, f'{count}', va='center', ha='center', color='black')\n",
    "\n",
    "\n",
    "    #ax.set_yticks(range(len(sorted_estate_data)))\n",
    "    #ax.set_yticklabels([f'Start: {start.strftime(\"%Y-%m-%d\")}\\nEnd: {end.strftime(\"%Y-%m-%d\")}' for start, end in sorted_estate_data])\n",
    "    ax.set_xlabel('Date')\n",
    "    ax.set_title('Estate Offers Timeline')\n",
    "    plt.xticks(rotation=45)\n",
    "    plt.tight_layout()\n",
    "    plt.show()\n",
    "\n",
    "# Display count in the middle of each line\n",
    "create_estate_graph(estates, display_position='middle')\n",
    "\n"
   ]
  },
  {
   "cell_type": "code",
   "execution_count": null,
   "metadata": {},
   "outputs": [],
   "source": [
    "from tqdm import tqdm\n",
    "from db_managment.data_manager import DataManager\n",
    "db_manager = DataManager()"
   ]
  },
  {
   "cell_type": "code",
   "execution_count": null,
   "metadata": {},
   "outputs": [],
   "source": [
    "df_all = db_manager.get_price_rows_for_test(1000000)\n",
    "# !! první filtr - upravil jsem kod na LIMIT\n",
    "# 1M za 15s, #3M za 155s, ale 5M až za 283s\n",
    "\n",
    "print(len(df_all))\n",
    "estates = df_all[\"estate_id\"].unique()\n",
    "print(len(estates))"
   ]
  },
  {
   "cell_type": "code",
   "execution_count": null,
   "metadata": {},
   "outputs": [],
   "source": [
    "from datetime import datetime\n",
    "def get_date(x):\n",
    "    x = datetime.strptime(x, \"%Y-%m-%d %H:%M:%S\")\n",
    "    return x.date()\n",
    "\n",
    "df_all[\"date\"] = df_all[\"crawled_at\"].apply(get_date)\n",
    "df_all = df_all[[\"estate_id\", \"date\"]]\n",
    "\n",
    "df_all.head(2)"
   ]
  },
  {
   "cell_type": "code",
   "execution_count": null,
   "metadata": {},
   "outputs": [],
   "source": [
    "# 48s na 1k produků.\n",
    "\"\"\"\n",
    "res = []\n",
    "for estate in tqdm(estates[-1_000:]):\n",
    "    d = df_all[df_all[\"estate_id\"] == estate]\n",
    "    e = {\"estate_id\": estate}\n",
    "    e[\"start\"] = min(d[\"date\"]).strftime(\"%Y-%m-%d\")\n",
    "    e[\"end\"] = max(d[\"date\"]).strftime(\"%Y-%m-%d\")\n",
    "    res.append(e)\n",
    "\"\"\"\n",
    "\n",
    "# 8s na 64k produktů !! -> 6*64x rychlejší = 400x speed-up\n",
    "grouped = df_all.groupby(\"estate_id\")[\"date\"].agg([\"min\", \"max\"]).reset_index()\n",
    "\n",
    "# Step 2: Format the dates\n",
    "grouped[\"start\"] = grouped[\"min\"].apply(lambda x: x.strftime(\"%Y-%m-%d\"))\n",
    "grouped[\"end\"] = grouped[\"max\"].apply(lambda x: x.strftime(\"%Y-%m-%d\"))\n",
    "\n",
    "# Step 3: Convert to desired format\n",
    "res = grouped[[\"estate_id\", \"start\", \"end\"]].to_dict(orient=\"records\")\n",
    "#display(res)\n"
   ]
  },
  {
   "cell_type": "code",
   "execution_count": null,
   "metadata": {},
   "outputs": [],
   "source": [
    "import matplotlib.pyplot as plt\n",
    "import matplotlib.colors as mcolors\n",
    "import io\n",
    "from datetime import datetime, timedelta\n",
    "\n",
    "def create_estate_graph(estates):\n",
    "    fig, ax = plt.subplots(figsize=(21, 12.6))\n",
    "\n",
    "    # Process data\n",
    "    estate_data = {}\n",
    "    for estate in estates:\n",
    "        start_date = datetime.strptime(estate[\"start\"], \"%Y-%m-%d\")\n",
    "        end_date = datetime.strptime(estate[\"end\"], \"%Y-%m-%d\")\n",
    "        key = (start_date, end_date)\n",
    "        if key not in estate_data:\n",
    "            estate_data[key] = 0\n",
    "        estate_data[key] += 1\n",
    "\n",
    "    # Sort data by start date and then by end date\n",
    "    sorted_estate_data = sorted(estate_data.items(), key=lambda x: (x[0][0], x[0][1]), reverse=True)\n",
    "\n",
    "    # Determine min and max counts for color scaling\n",
    "    counts = [count for (_, _), count in sorted_estate_data]\n",
    "    min_count = min(counts)\n",
    "    max_count = max(counts)\n",
    "\n",
    "    norm = mcolors.Normalize(vmin=min_count, vmax=max_count)\n",
    "    cmap = plt.get_cmap('RdYlGn_r')  # Reversed Red to Green colormap\n",
    "\n",
    "    # Plot data\n",
    "    for i, ((start, end), count) in enumerate(sorted_estate_data):\n",
    "        color = cmap(norm(count))\n",
    "        ax.barh(i, (end - start).days, left=start, color=color, edgecolor='black', height = 0.8)\n",
    "\n",
    "        # Place the count text in the middle of the bar\n",
    "        mid_date = start + (end - start) / 2\n",
    "        ax.text(mid_date, i, f'{count}', va='center', ha='center', color='black')\n",
    "\n",
    "\n",
    "    #ax.set_yticks(range(len(sorted_estate_data)))\n",
    "    #ax.set_yticklabels([f'Start: {start.strftime(\"%Y-%m-%d\")}\\nEnd: {end.strftime(\"%Y-%m-%d\")}' for start, end in sorted_estate_data])\n",
    "    ax.set_xlabel('Date')\n",
    "    ax.set_title(f'Estate Offers Timeline {len(estates)}')\n",
    "    plt.xticks(rotation=45)\n",
    "    plt.tight_layout()\n",
    "    plt.show()\n",
    "\n",
    "# Display count in the middle of each line\n",
    "create_estate_graph(res)\n",
    "\n"
   ]
  },
  {
   "cell_type": "code",
   "execution_count": null,
   "metadata": {},
   "outputs": [],
   "source": []
  }
 ],
 "metadata": {
  "kernelspec": {
   "display_name": "venv",
   "language": "python",
   "name": "python3"
  },
  "language_info": {
   "codemirror_mode": {
    "name": "ipython",
    "version": 3
   },
   "file_extension": ".py",
   "mimetype": "text/x-python",
   "name": "python",
   "nbconvert_exporter": "python",
   "pygments_lexer": "ipython3",
   "version": "3.11.5"
  }
 },
 "nbformat": 4,
 "nbformat_minor": 2
}

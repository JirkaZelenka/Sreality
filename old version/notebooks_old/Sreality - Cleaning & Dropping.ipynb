{
 "cells": [
  {
   "cell_type": "markdown",
   "metadata": {},
   "source": [
    "# Sreality - Cleaning & Dropping\n",
    "## Jirka Zelenka\n",
    "### 12.3.-24.4.2020\n",
    "### Celý projekt = Scraping + Cleaning & Dropping + Vizualizace + All_In_One + PowerBI\n",
    "-----------------------------------------------------------------------------"
   ]
  },
  {
   "cell_type": "markdown",
   "metadata": {},
   "source": [
    "### Prerekvizity:\n",
    "* nainstalované package\n",
    "* přístup k souboru \"obce_okresy_kraje.xlsx\" a \"Adresy.xlsx\"\n",
    "* datový soubor z části SCRAPING - pracovní název \"a4_SCRAPED_prodej_byty.xlsx\"\n"
   ]
  },
  {
   "cell_type": "markdown",
   "metadata": {},
   "source": [
    "### Obsah:\n",
    "* 1) Importování Packagů\n",
    "* 2) Úprava adres, Počet obyvatel\n",
    "* 3) Update Adresáře\n",
    "* 4) Cena za metr\n",
    "* 5) Missing values\n",
    "* 6) Extrémy\n",
    "* 7) Duplikáty\n",
    "* 8) Spuštění"
   ]
  },
  {
   "cell_type": "markdown",
   "metadata": {},
   "source": [
    "-----------------------\n",
    "# 1) Importování packagů\n",
    "-----------------------"
   ]
  },
  {
   "cell_type": "code",
   "execution_count": 3,
   "metadata": {},
   "outputs": [],
   "source": [
    "\n",
    "##### Obecné ############\n",
    "import pandas as pd                     # for dataframes' manipulation\n",
    "from pandas import DataFrame            # for creating dataframes\n",
    "import numpy as np                      # for arrays\n",
    "import matplotlib as plt                # for plotting\n",
    "from matplotlib.pyplot import figure    # for saving and changing size of plots\n",
    "\n",
    "from collections import Counter         # for counting elements \n",
    "from datetime import datetime           #for actual date\n",
    "import re                               # !!! relativní Novinka - regular expressions\n",
    "from time import sleep                  # for sleeping (slowing down) inside a function\n",
    "import random                           # for random number (sleeping)\n",
    "import math                             # Round float\n",
    "import time                             # Time measuring\n",
    "import itertools                        # for unlisting nested lists\n",
    "\n",
    "\n",
    "##### Scraping ############\n",
    "import requests                         # for robots check\n",
    "from bs4 import BeautifulSoup           # for parsing\n",
    "from selenium import webdriver          # for browsers control\n",
    "import json                             # for Requests\n",
    "\n",
    "##### GeoPy ############        \n",
    "from geopy.geocoders import Nominatim   # Geolocator   # pip install geopy  \n",
    "from geopy.exc import GeocoderTimedOut  # for Error handling\n",
    "\n",
    "##########################\n",
    "# Zaítm nepoužito:\n",
    "##### Widgets ############\n",
    "import ipywidgets as widgets\n",
    "from ipywidgets import interact, interact_manual\n",
    "from IPython.display import display\n",
    "import os\n",
    "from IPython.display import Image\n",
    "\n",
    "##### Bonus - Hudba ############\n",
    "import winsound                        # for Beep-sounds\n",
    "\n",
    "##### Vizualizace ############\n",
    "import seaborn as sns                  #for cool plots\n",
    "\n",
    "\n",
    "\n",
    "import sys                             # ???"
   ]
  },
  {
   "cell_type": "markdown",
   "metadata": {},
   "source": [
    "-----------------------\n",
    "# 2) Úprava adres, Počet obyvatel\n",
    "-----------------------"
   ]
  },
  {
   "cell_type": "code",
   "execution_count": 19,
   "metadata": {},
   "outputs": [],
   "source": [
    "# 1 = Mezery u Adres ###############################################################################################################################\n",
    "\n",
    "############ Mezery před názvy (všeho) a pomlčky doplněné z GeoPy\n",
    "def smaž_mezery(x):\n",
    "    x = re.findall(r'\\w+', str(x))   # Když napíšu tento regex (r'\\w+-?\\w+'), tak bych i zachoval \"pomlčku\", \n",
    "    x = ' '.join(x)                  # ale to já naopak nechci, vyřeším si dvě věci najednou \n",
    "    \n",
    "    return x"
   ]
  },
  {
   "cell_type": "code",
   "execution_count": 20,
   "metadata": {},
   "outputs": [],
   "source": [
    "\n",
    "\n",
    "# 2 = Posunutý Okres, Kraj... ################################################################################################################################\n",
    "# Přidá kontrolní slpupec indikující, jestli je Kraj vyplněný slovem okres nebo ne\n",
    "\n",
    "def kraj_check(x):\n",
    "    x = x.split()[0]\n",
    "    return x\n",
    "\n",
    "# Podle kontrolního sloupce ověří  a případně posune hodnoty adres \"doleva\"\n",
    "def uprav_adresy(x):\n",
    "\n",
    "    x[\"kraj_check\"] = x[\"kraj\"].apply(kraj_check)\n",
    "\n",
    "    # U těch řádků, kde byl okres v názvu kraje posuň všechny tři hodnoty \"doleva\"\n",
    "    x.oblast[x[\"kraj_check\"] == \"okres\"] = x.město[x[\"kraj_check\"] == \"okres\"].copy()\n",
    "    x.město[x[\"kraj_check\"] == \"okres\"] = x.okres[x[\"kraj_check\"] == \"okres\"].copy()\n",
    "    x.okres[x[\"kraj_check\"] == \"okres\"] = x.kraj[x[\"kraj_check\"] == \"okres\"].copy()\n",
    "    x.kraj[x[\"kraj_check\"] == \"okres\"] = -1\n",
    "\n",
    "    # Oříznutý dataset OBCE - externí\n",
    "    obce = pd.read_excel(r\"obce_okresy_kraje.xlsx\")\n",
    "    obce_kus = obce[[\"okres\", \"kraj\"]].copy()\n",
    "\n",
    "    # LEFT Merge by měl přiřadit okresům správné Kraje z df obcí\n",
    "    data = pd.merge(x, obce_kus, on=['okres'], how = \"left\")\n",
    "\n",
    "    # Smazání případných duplikátů\n",
    "    data.drop_duplicates(keep = \"first\", inplace = True)\n",
    "\n",
    "    # Přiřazení nového sloupečku na starý\n",
    "    data.kraj_x[data[\"kraj_check\"] == \"okres\"] = data.kraj_y[data[\"kraj_check\"] == \"okres\"].copy()\n",
    "\n",
    "    # Přejmenování a získání lepších sloupců\n",
    "    data = data.rename(columns={'kraj_x': 'kraj'})\n",
    "    data = data[[\"popis\", \"prodej\", \"dům\", \"pokoje\", \"plocha\", \"oblast\", \"město\", \"okres\", \"kraj\", \"cena\", \"url\", \"url_id\", \"coords\", \"short_coords\", \"lat\", \"lon\"]]  #Doplněno LAT a LON nově\n",
    "\n",
    "    data.reset_index(inplace = True, drop = True)\n",
    "\n",
    "    return data\n",
    "# 3 = Počet obyvatel ###############################################################################################################################\n",
    "# Z externího excelu, namapování počtu obyvatel podle města a okreuu a kraje (existují duplicitní města)\n",
    "\n",
    "def počet_obyvatel(x):\n",
    "\n",
    "    obce = pd.read_excel(\"obce_okresy_kraje.xlsx\")\n",
    "    obce_kus = obce[[\"město\", \"okres\", \"kraj\", \"obyvatelé\"]].copy()\n",
    "    data = pd.merge(x, obce_kus ,on = [\"město\", \"okres\", \"kraj\"], how = \"left\")\n",
    "    data.drop_duplicates(keep = \"first\", inplace = True)\n",
    "\n",
    "    return data\n"
   ]
  },
  {
   "cell_type": "markdown",
   "metadata": {},
   "source": [
    "-----------------------\n",
    "# 3) Update Adresáře\n",
    "-----------------------"
   ]
  },
  {
   "cell_type": "code",
   "execution_count": 34,
   "metadata": {},
   "outputs": [],
   "source": [
    "# 4 = Update databáze adres ###############################################################################################################################\n",
    "\n",
    "def update_databáze_adres(x):\n",
    "    \n",
    "    # Načtení Adresáře\n",
    "    adresy = pd.read_excel(\"Adresy.xlsx\")\n",
    "    len1 = len(adresy)\n",
    "    print(\"-- Původní délka adresáře: \" + str(len1))\n",
    "\n",
    "    # Oříznu si data na to, co chci uložit a přidám aktuální datum\n",
    "    data2 = x[[\"oblast\", \"město\", \"okres\", \"kraj\", \"url\", \"url_id\", \"short_coords\"]]  # Odebráno Coords, vznikaly duplikáty zbytečně\n",
    "    data2[\"Datum\"] = datetime.now().strftime(\"%Y-%m-%d\")\n",
    "\n",
    "    # Připojím nová data, dropnu duplikáty (mažu odzadu), resetnu indexy, změřím délku\n",
    "    # Přírůstek by měl odpovídat počtu řádků dohledaných přes Geopy minus duplikáty případně\n",
    "    adresy = pd.concat([adresy, data2])\n",
    "    adresy = adresy.drop_duplicates(subset = [ \"url_id\", \"short_coords\"], keep = \"first\", inplace = False)\n",
    "    \n",
    "    ### Nově vloženo: Odebrat shitty adresy - ty droppuju až dál, ale do Adresáře je tady poslat nechci\n",
    "    adresy = adresy[adresy.short_coords != \"(0.01, 0.01)\"]\n",
    "    \n",
    "    # Změněna logika, dropni všechno kde máš dvojí varianty pro kombinaci url_id + short_coords, protože přesně tohohle se to mapuje a dělá to pak rozdvojení různá. !!\n",
    "    # Jinak ponechává to možnost že mám jedno ID vícekrát s různými short_coords, ale to je možné, nebrání to zpětnému mapování\n",
    "    adresy.reset_index(inplace = True, drop = True)\n",
    "    len2 = len(adresy)\n",
    "    print( \"-- Nová délka adresáře: \" + str(len2) + \", přidáno \"+ str(len2-len1) + \" záznamů. Ukládám do Adresy.xlsx\")\n",
    "\n",
    "    return adresy"
   ]
  },
  {
   "cell_type": "markdown",
   "metadata": {},
   "source": [
    "-----------------------\n",
    "# 4) Cena za metr\n",
    "-----------------------"
   ]
  },
  {
   "cell_type": "code",
   "execution_count": 22,
   "metadata": {},
   "outputs": [],
   "source": [
    "def cena_metr(y):\n",
    "\n",
    "    y[\"cena_metr\"] = y[\"cena\"].astype(int)/y[\"plocha\"].astype(int)\n",
    "    y[\"cena_metr\"] = y[\"cena_metr\"].apply(lambda x: round(x, 1))\n",
    "    \n",
    "    return y"
   ]
  },
  {
   "cell_type": "markdown",
   "metadata": {},
   "source": [
    "-----------------------\n",
    "# 5) Missing values\n",
    "-----------------------"
   ]
  },
  {
   "cell_type": "code",
   "execution_count": 23,
   "metadata": {},
   "outputs": [],
   "source": [
    "def missing_values(x):\n",
    "    \n",
    "    data = x.copy()\n",
    "    \n",
    "    # Promazání:\n",
    "    ## Nulových cen\n",
    "    ## CHybějících ploch\n",
    "    ## Chybjících adres (souřadnice neznámé)\n",
    "    \n",
    "    print(\"-- Celkem záznamů bez ceny: \"+ str( len(data[data[\"cena\"] == 0]) )   )\n",
    "    print(\"-- Celkem záznamů bez popisu => plochy: \"+ str( len(data[data[\"plocha\"] == -1]) ) )\n",
    "    print(\"-- Celkem záznamů bez okresu a kraje (pouze starší data): \"+ str(len(data[data[\"kraj\"] == \"1\"]))) \n",
    "    # Pokoje by měly být OK\n",
    "    # Obyvatelé taky\n",
    "    # Cena_metr pak už taky\n",
    "    \n",
    "    data = data[data.cena != 0]\n",
    "    data = data[data.plocha != -1]\n",
    "    data = data[data.kraj != \"1\"]\n",
    "    \n",
    "    \n",
    "    return data"
   ]
  },
  {
   "cell_type": "markdown",
   "metadata": {},
   "source": [
    "-----------------------\n",
    "# 6) Extrémy\n",
    "-----------------------"
   ]
  },
  {
   "cell_type": "code",
   "execution_count": 24,
   "metadata": {},
   "outputs": [],
   "source": [
    "def extrémy(x):\n",
    "    \n",
    "    data = x.copy()     # Upraveno aby to korespondovalo s Tisíci, resp s původními cenami\n",
    "    \n",
    "    data = data[data.cena > 50000] # Zatím nikdy nebyl byt pod 100.000, resp za 90.000 půl byt\n",
    "    data = data[data.plocha > 10] # Zatím nikdy nebyla plocha pod 12, snad je to rozumný předpoklad\n",
    "    data = data[data.cena_metr < 450000]   # Zatím nikdy nebyla Víc než 360 za metr, jen v jednom chybném zadání rovnou 568 !!\n",
    "    data = data[data.cena_metr > 1000]   #Toto se občas vidí a je to očividná chyba v zadání inzerátu. Viz CHlumec - 376m !! 338.000\n",
    "\n",
    "    return data\n"
   ]
  },
  {
   "cell_type": "markdown",
   "metadata": {},
   "source": [
    "-----------------------\n",
    "# 7) Duplikáty\n",
    "-----------------------"
   ]
  },
  {
   "cell_type": "code",
   "execution_count": 25,
   "metadata": {},
   "outputs": [],
   "source": [
    "\n",
    "def duplikáty(x):\n",
    "    \n",
    "    #Po několika pokusech a hledání různých variant duplikátů,\n",
    "    # volím variantu smazat inzeráty, které jsou ve všem identické (krom url a url_id - ty jsou samé unikátní).\n",
    "    # Pár by se našlo podobných, asi zdvojných, co mají třeba jen odchylku v souřadnici nebo v ceně. ale jej jich málo, a byl oby to as ivíc práce než užitku.\n",
    "    \n",
    "    data =  x.copy()\n",
    "    a = len(data[data.duplicated([ \"popis\", \"prodej\", \"dům\", \"pokoje\", \"plocha\",\"oblast\", \"město\", \"okres\", \"kraj\", \"obyvatelé\", \"cena\", \"cena_metr\", \"coords\", \"short_coords\", \"lat\", \"lon\"],keep= \"first\")])\n",
    "    print(\"-- Počet řádků, které k sobě mají duplikáty (krom url a url_id): \" + str(a))                                                                                                         \n",
    "    data = data.drop_duplicates(subset =[ \"popis\", \"prodej\", \"dům\", \"pokoje\", \"plocha\",\"oblast\", \"město\", \"okres\", \"kraj\", \"obyvatelé\", \"cena\", \"cena_metr\", \"coords\", \"short_coords\", \"lat\", \"lon\" ],keep= \"first\", inplace = False) \n",
    "    #Z dat dropnu duplikáty podle všeho krom url a url_id, nechávám si první záznamy\n",
    "    \n",
    "    return data"
   ]
  },
  {
   "cell_type": "markdown",
   "metadata": {},
   "source": [
    "-----------------------\n",
    "# 8) Spuštění\n",
    "-----------------------"
   ]
  },
  {
   "cell_type": "code",
   "execution_count": 26,
   "metadata": {},
   "outputs": [],
   "source": [
    "\n",
    "################################################################################################################################\n",
    "##############################################   CLEANING    ###################################################################\n",
    "################################################################################################################################\n",
    "\n",
    "def clean_all(x):\n",
    "    \n",
    "    data = pd.read_excel(x)   # Pracovní verze s načítáním dat, jinak napojeno na Scrap\n",
    "    #data = x.copy()\n",
    "    \n",
    "    print(\"----------------\")\n",
    "    print(\"Počet záznamů před čištěním: \" + str(len(data)))\n",
    "    \n",
    "    \n",
    "    # 1 = Mezery u adres \n",
    "    data[\"oblast\"] = data[\"oblast\"].apply(smaž_mezery)\n",
    "    data[\"město\"] = data[\"město\"].apply(smaž_mezery)\n",
    "    data[\"okres\"] = data[\"okres\"].apply(smaž_mezery)\n",
    "    data[\"kraj\"] = data[\"kraj\"].apply(smaž_mezery)\n",
    "    print(\"1/6 Vymazány mezery před názvy, následuje posouvání rozbitých okresů a krajů\")\n",
    "    \n",
    "    # 2 = Posunutý Okres, Kraj...\n",
    "    data = uprav_adresy(data)\n",
    "    print(\"2/6 Posunuty rozbité okresy a kraje, následuje doplnění počtu obyvatel.\")\n",
    "     \n",
    "    # 3 = Počet obyvatel z Excelu\n",
    "    data = počet_obyvatel(data)\n",
    "    data.to_excel(\"a5_Adresy_a_obyvatele_data_prodej_byty.xlsx\")\n",
    "    print(\"-- Aktuální délka datasetu: \" + str(len(data)))\n",
    "    print(\"3/6 Doplněn počet obyvatel, updatuji databázi adres.\")\n",
    "    \n",
    "    # 4 = Update databáze adres \n",
    "    adresy = update_databáze_adres(data)\n",
    "    adresy.to_excel(r\"Adresy.xlsx\")\n",
    "    print(\"4/6 Databáze Adres updatována. Délka datasetu: \" + str(len(data)) + \" záznamů. Převádím ceny na tisíce\")    \n",
    "\n",
    "    # 5 Cena na tisíce - zatím vypínám kvůli POWER BI\n",
    "    #data = cena_tisíce(data)\n",
    "    print(\"5/6 Ceny NECHCI ABY BYLY převedeny na tisíce. Počítám ceny za metr.\")\n",
    "    \n",
    "    # 6 Cena za metr\n",
    "    data = cena_metr(data)\n",
    "    data[\"datum\"] = datetime.datetime.now().strftime(\"%d.%m.%Y\")   # Nově přidáno kvůli souhrnným datům\n",
    "    data = data[[\"popis\", \"prodej\", \"dům\", \"pokoje\", \"plocha\", \"oblast\", \"město\", \"okres\", \"kraj\", \"obyvatelé\", \"cena\", \"cena_metr\", \"url\", \"url_id\", \"coords\", \"short_coords\", \"lat\", \"lon\", \"datum\"]]\n",
    "    data.to_excel(\"a6_CLEANED_data_prodej_byty.xlsx\")\n",
    "    print(\"6/6 Spočítány ceny za metr. Celková délka datasetu: \"+ str(len(data)) + \". Konec Fáze 2.\")\n",
    "    \n",
    "          \n",
    "    return data\n"
   ]
  },
  {
   "cell_type": "code",
   "execution_count": 27,
   "metadata": {},
   "outputs": [],
   "source": [
    "\n",
    "################################################################################################################################\n",
    "##############################################   DROPPING    ###################################################################\n",
    "################################################################################################################################\n",
    "\n",
    "def drop_all(x):\n",
    "    \n",
    "    #data = pd.read_excel(x)   # Pracovní verze s načítáním dat, jinak napojeno na Cleaning\n",
    "    data = x.copy()\n",
    "    x = len(data)\n",
    "    print(\"----------------\")\n",
    "    print(\"Počet záznamů před čištěním: \" + str(x))\n",
    "    \n",
    "    \n",
    "    # 1 = Missing Values\n",
    "    data = missing_values(data)\n",
    "    y = len(data)\n",
    "    print(\"1/3 Vymazány chybějící hodnoty (Ceny, Plochy, (Kraje)), celkem \" + str(x-y) + \" řádků. Zbývá \" + str(y) + \" záznamů.\")\n",
    "\n",
    "    # 2 = Extrémy\n",
    "    data = extrémy(data)\n",
    "    z = len(data)\n",
    "    print(\"2/3 Vymazány extrémní hodnoty (Ceny, Plochy, Cena za metr, celkem \" + str(y-z) + \" řádků. Zbývá \" + str(z) + \" záznamů.\")\n",
    "    \n",
    "    # 3 = Duplikáty\n",
    "    data = duplikáty(data)\n",
    "    b = len(data)\n",
    "    data.to_excel(\"a7_DROPPED_data_prodej_byty.xlsx\")\n",
    "    print(\"3/3 Vymazány duplikáty, zbývá \" + str(b) + \" záznamů. Konec Fáze 3.\")\n",
    "    \n",
    "    display(data.head())\n",
    "    \n",
    "    return data"
   ]
  },
  {
   "cell_type": "code",
   "execution_count": null,
   "metadata": {},
   "outputs": [],
   "source": [
    "cleaned = clean_all(\"a4_SCRAPED_prodej_byty.xlsx\")"
   ]
  },
  {
   "cell_type": "code",
   "execution_count": null,
   "metadata": {},
   "outputs": [],
   "source": [
    "dropped = drop_all(cleaned)"
   ]
  }
 ],
 "metadata": {
  "kernelspec": {
   "display_name": "Python 3",
   "language": "python",
   "name": "python3"
  },
  "language_info": {
   "codemirror_mode": {
    "name": "ipython",
    "version": 3
   },
   "file_extension": ".py",
   "mimetype": "text/x-python",
   "name": "python",
   "nbconvert_exporter": "python",
   "pygments_lexer": "ipython3",
   "version": "3.6.5"
  }
 },
 "nbformat": 4,
 "nbformat_minor": 2
}

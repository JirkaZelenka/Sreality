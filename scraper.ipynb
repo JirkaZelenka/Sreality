{
 "cells": [
  {
   "cell_type": "markdown",
   "metadata": {},
   "source": [
    "-----------------------\n",
    "## 1) New way of scraping  11.4.2024\n",
    "-----------------------"
   ]
  },
  {
   "cell_type": "code",
   "execution_count": 1,
   "metadata": {},
   "outputs": [],
   "source": [
    "from datetime import datetime\n",
    "import pandas as pd\n",
    "from tqdm import tqdm  \n",
    "import requests \n",
    "\n",
    "import os\n",
    "os.chdir(\"c:\\\\Users\\\\jirka\\\\Documents\\\\MyProjects\\\\Sreality\")\n",
    "from scraper.scraper import SrealityScraper\n"
   ]
  },
  {
   "cell_type": "markdown",
   "metadata": {},
   "source": [
    "### My regular run"
   ]
  },
  {
   "cell_type": "code",
   "execution_count": 3,
   "metadata": {},
   "outputs": [
    {
     "name": "stdout",
     "output_type": "stream",
     "text": [
      "2024-04-18 00:45:37\n",
      "number of ALL estates (Byt, Dům, Pronájem, Prodej): 94461\n",
      "we will scrape max 95 pages with 999 results each\n"
     ]
    },
    {
     "name": "stderr",
     "output_type": "stream",
     "text": [
      "100%|██████████| 95/95 [00:00<00:00, 368261.44it/s]\n"
     ]
    },
    {
     "name": "stdout",
     "output_type": "stream",
     "text": [
      "['https://www.sreality.cz/api/cs/v2/estates?category_main_cb=1&category_type_cb=1&per_page=999&page=1', 'https://www.sreality.cz/api/cs/v2/estates?category_main_cb=1&category_type_cb=1&per_page=999&page=2', 'https://www.sreality.cz/api/cs/v2/estates?category_main_cb=1&category_type_cb=1&per_page=999&page=3', 'https://www.sreality.cz/api/cs/v2/estates?category_main_cb=1&category_type_cb=1&per_page=999&page=4', 'https://www.sreality.cz/api/cs/v2/estates?category_main_cb=1&category_type_cb=1&per_page=999&page=5', 'https://www.sreality.cz/api/cs/v2/estates?category_main_cb=1&category_type_cb=1&per_page=999&page=6', 'https://www.sreality.cz/api/cs/v2/estates?category_main_cb=1&category_type_cb=1&per_page=999&page=7', 'https://www.sreality.cz/api/cs/v2/estates?category_main_cb=1&category_type_cb=1&per_page=999&page=8', 'https://www.sreality.cz/api/cs/v2/estates?category_main_cb=1&category_type_cb=1&per_page=999&page=9', 'https://www.sreality.cz/api/cs/v2/estates?category_main_cb=1&category_type_cb=1&per_page=999&page=10', 'https://www.sreality.cz/api/cs/v2/estates?category_main_cb=1&category_type_cb=1&per_page=999&page=11', 'https://www.sreality.cz/api/cs/v2/estates?category_main_cb=1&category_type_cb=1&per_page=999&page=12', 'https://www.sreality.cz/api/cs/v2/estates?category_main_cb=1&category_type_cb=1&per_page=999&page=13', 'https://www.sreality.cz/api/cs/v2/estates?category_main_cb=1&category_type_cb=1&per_page=999&page=14', 'https://www.sreality.cz/api/cs/v2/estates?category_main_cb=1&category_type_cb=1&per_page=999&page=15', 'https://www.sreality.cz/api/cs/v2/estates?category_main_cb=1&category_type_cb=1&per_page=999&page=16', 'https://www.sreality.cz/api/cs/v2/estates?category_main_cb=1&category_type_cb=1&per_page=999&page=17', 'https://www.sreality.cz/api/cs/v2/estates?category_main_cb=1&category_type_cb=1&per_page=999&page=18', 'https://www.sreality.cz/api/cs/v2/estates?category_main_cb=1&category_type_cb=1&per_page=999&page=19', 'https://www.sreality.cz/api/cs/v2/estates?category_main_cb=1&category_type_cb=1&per_page=999&page=20', 'https://www.sreality.cz/api/cs/v2/estates?category_main_cb=1&category_type_cb=1&per_page=999&page=21', 'https://www.sreality.cz/api/cs/v2/estates?category_main_cb=1&category_type_cb=1&per_page=999&page=22', 'https://www.sreality.cz/api/cs/v2/estates?category_main_cb=1&category_type_cb=1&per_page=999&page=23', 'https://www.sreality.cz/api/cs/v2/estates?category_main_cb=1&category_type_cb=1&per_page=999&page=24', 'https://www.sreality.cz/api/cs/v2/estates?category_main_cb=1&category_type_cb=1&per_page=999&page=25', 'https://www.sreality.cz/api/cs/v2/estates?category_main_cb=1&category_type_cb=1&per_page=999&page=26', 'https://www.sreality.cz/api/cs/v2/estates?category_main_cb=1&category_type_cb=1&per_page=999&page=27', 'https://www.sreality.cz/api/cs/v2/estates?category_main_cb=1&category_type_cb=1&per_page=999&page=28', 'https://www.sreality.cz/api/cs/v2/estates?category_main_cb=1&category_type_cb=1&per_page=999&page=29', 'https://www.sreality.cz/api/cs/v2/estates?category_main_cb=1&category_type_cb=1&per_page=999&page=30', 'https://www.sreality.cz/api/cs/v2/estates?category_main_cb=1&category_type_cb=1&per_page=999&page=31', 'https://www.sreality.cz/api/cs/v2/estates?category_main_cb=1&category_type_cb=1&per_page=999&page=32', 'https://www.sreality.cz/api/cs/v2/estates?category_main_cb=1&category_type_cb=1&per_page=999&page=33', 'https://www.sreality.cz/api/cs/v2/estates?category_main_cb=1&category_type_cb=1&per_page=999&page=34', 'https://www.sreality.cz/api/cs/v2/estates?category_main_cb=1&category_type_cb=1&per_page=999&page=35', 'https://www.sreality.cz/api/cs/v2/estates?category_main_cb=1&category_type_cb=1&per_page=999&page=36', 'https://www.sreality.cz/api/cs/v2/estates?category_main_cb=1&category_type_cb=1&per_page=999&page=37', 'https://www.sreality.cz/api/cs/v2/estates?category_main_cb=1&category_type_cb=1&per_page=999&page=38', 'https://www.sreality.cz/api/cs/v2/estates?category_main_cb=1&category_type_cb=1&per_page=999&page=39', 'https://www.sreality.cz/api/cs/v2/estates?category_main_cb=1&category_type_cb=1&per_page=999&page=40', 'https://www.sreality.cz/api/cs/v2/estates?category_main_cb=1&category_type_cb=1&per_page=999&page=41', 'https://www.sreality.cz/api/cs/v2/estates?category_main_cb=1&category_type_cb=1&per_page=999&page=42', 'https://www.sreality.cz/api/cs/v2/estates?category_main_cb=1&category_type_cb=1&per_page=999&page=43', 'https://www.sreality.cz/api/cs/v2/estates?category_main_cb=1&category_type_cb=1&per_page=999&page=44', 'https://www.sreality.cz/api/cs/v2/estates?category_main_cb=1&category_type_cb=1&per_page=999&page=45', 'https://www.sreality.cz/api/cs/v2/estates?category_main_cb=1&category_type_cb=1&per_page=999&page=46', 'https://www.sreality.cz/api/cs/v2/estates?category_main_cb=1&category_type_cb=1&per_page=999&page=47', 'https://www.sreality.cz/api/cs/v2/estates?category_main_cb=1&category_type_cb=1&per_page=999&page=48', 'https://www.sreality.cz/api/cs/v2/estates?category_main_cb=1&category_type_cb=1&per_page=999&page=49', 'https://www.sreality.cz/api/cs/v2/estates?category_main_cb=1&category_type_cb=1&per_page=999&page=50', 'https://www.sreality.cz/api/cs/v2/estates?category_main_cb=1&category_type_cb=1&per_page=999&page=51', 'https://www.sreality.cz/api/cs/v2/estates?category_main_cb=1&category_type_cb=1&per_page=999&page=52', 'https://www.sreality.cz/api/cs/v2/estates?category_main_cb=1&category_type_cb=1&per_page=999&page=53', 'https://www.sreality.cz/api/cs/v2/estates?category_main_cb=1&category_type_cb=1&per_page=999&page=54', 'https://www.sreality.cz/api/cs/v2/estates?category_main_cb=1&category_type_cb=1&per_page=999&page=55', 'https://www.sreality.cz/api/cs/v2/estates?category_main_cb=1&category_type_cb=1&per_page=999&page=56', 'https://www.sreality.cz/api/cs/v2/estates?category_main_cb=1&category_type_cb=1&per_page=999&page=57', 'https://www.sreality.cz/api/cs/v2/estates?category_main_cb=1&category_type_cb=1&per_page=999&page=58', 'https://www.sreality.cz/api/cs/v2/estates?category_main_cb=1&category_type_cb=1&per_page=999&page=59', 'https://www.sreality.cz/api/cs/v2/estates?category_main_cb=1&category_type_cb=1&per_page=999&page=60', 'https://www.sreality.cz/api/cs/v2/estates?category_main_cb=1&category_type_cb=1&per_page=999&page=61', 'https://www.sreality.cz/api/cs/v2/estates?category_main_cb=1&category_type_cb=1&per_page=999&page=62', 'https://www.sreality.cz/api/cs/v2/estates?category_main_cb=1&category_type_cb=1&per_page=999&page=63', 'https://www.sreality.cz/api/cs/v2/estates?category_main_cb=1&category_type_cb=1&per_page=999&page=64', 'https://www.sreality.cz/api/cs/v2/estates?category_main_cb=1&category_type_cb=1&per_page=999&page=65', 'https://www.sreality.cz/api/cs/v2/estates?category_main_cb=1&category_type_cb=1&per_page=999&page=66', 'https://www.sreality.cz/api/cs/v2/estates?category_main_cb=1&category_type_cb=1&per_page=999&page=67', 'https://www.sreality.cz/api/cs/v2/estates?category_main_cb=1&category_type_cb=1&per_page=999&page=68', 'https://www.sreality.cz/api/cs/v2/estates?category_main_cb=1&category_type_cb=1&per_page=999&page=69', 'https://www.sreality.cz/api/cs/v2/estates?category_main_cb=1&category_type_cb=1&per_page=999&page=70', 'https://www.sreality.cz/api/cs/v2/estates?category_main_cb=1&category_type_cb=1&per_page=999&page=71', 'https://www.sreality.cz/api/cs/v2/estates?category_main_cb=1&category_type_cb=1&per_page=999&page=72', 'https://www.sreality.cz/api/cs/v2/estates?category_main_cb=1&category_type_cb=1&per_page=999&page=73', 'https://www.sreality.cz/api/cs/v2/estates?category_main_cb=1&category_type_cb=1&per_page=999&page=74', 'https://www.sreality.cz/api/cs/v2/estates?category_main_cb=1&category_type_cb=1&per_page=999&page=75', 'https://www.sreality.cz/api/cs/v2/estates?category_main_cb=1&category_type_cb=1&per_page=999&page=76', 'https://www.sreality.cz/api/cs/v2/estates?category_main_cb=1&category_type_cb=1&per_page=999&page=77', 'https://www.sreality.cz/api/cs/v2/estates?category_main_cb=1&category_type_cb=1&per_page=999&page=78', 'https://www.sreality.cz/api/cs/v2/estates?category_main_cb=1&category_type_cb=1&per_page=999&page=79', 'https://www.sreality.cz/api/cs/v2/estates?category_main_cb=1&category_type_cb=1&per_page=999&page=80', 'https://www.sreality.cz/api/cs/v2/estates?category_main_cb=1&category_type_cb=1&per_page=999&page=81', 'https://www.sreality.cz/api/cs/v2/estates?category_main_cb=1&category_type_cb=1&per_page=999&page=82', 'https://www.sreality.cz/api/cs/v2/estates?category_main_cb=1&category_type_cb=1&per_page=999&page=83', 'https://www.sreality.cz/api/cs/v2/estates?category_main_cb=1&category_type_cb=1&per_page=999&page=84', 'https://www.sreality.cz/api/cs/v2/estates?category_main_cb=1&category_type_cb=1&per_page=999&page=85', 'https://www.sreality.cz/api/cs/v2/estates?category_main_cb=1&category_type_cb=1&per_page=999&page=86', 'https://www.sreality.cz/api/cs/v2/estates?category_main_cb=1&category_type_cb=1&per_page=999&page=87', 'https://www.sreality.cz/api/cs/v2/estates?category_main_cb=1&category_type_cb=1&per_page=999&page=88', 'https://www.sreality.cz/api/cs/v2/estates?category_main_cb=1&category_type_cb=1&per_page=999&page=89', 'https://www.sreality.cz/api/cs/v2/estates?category_main_cb=1&category_type_cb=1&per_page=999&page=90', 'https://www.sreality.cz/api/cs/v2/estates?category_main_cb=1&category_type_cb=1&per_page=999&page=91', 'https://www.sreality.cz/api/cs/v2/estates?category_main_cb=1&category_type_cb=1&per_page=999&page=92', 'https://www.sreality.cz/api/cs/v2/estates?category_main_cb=1&category_type_cb=1&per_page=999&page=93', 'https://www.sreality.cz/api/cs/v2/estates?category_main_cb=1&category_type_cb=1&per_page=999&page=94', 'https://www.sreality.cz/api/cs/v2/estates?category_main_cb=1&category_type_cb=1&per_page=999&page=95']\n"
     ]
    },
    {
     "name": "stderr",
     "output_type": "stream",
     "text": [
      "100%|██████████| 95/95 [02:21<00:00,  1.49s/it]\n"
     ]
    },
    {
     "name": "stdout",
     "output_type": "stream",
     "text": [
      "16992\n",
      "Saving data_20240418_0045 to C:/Users/jirka/Documents/MyProjects/Sreality/data_2024/data_20240418_0045.csv\n",
      "2024-04-18 00:48:00\n",
      "number of ALL estates (Byt, Dům, Pronájem, Prodej): 93927\n",
      "we will scrape max 95 pages with 999 results each\n"
     ]
    },
    {
     "name": "stderr",
     "output_type": "stream",
     "text": [
      "100%|██████████| 95/95 [00:00<?, ?it/s]\n"
     ]
    },
    {
     "name": "stdout",
     "output_type": "stream",
     "text": [
      "['https://www.sreality.cz/api/cs/v2/estates?per_page=999&page=1', 'https://www.sreality.cz/api/cs/v2/estates?per_page=999&page=2', 'https://www.sreality.cz/api/cs/v2/estates?per_page=999&page=3', 'https://www.sreality.cz/api/cs/v2/estates?per_page=999&page=4', 'https://www.sreality.cz/api/cs/v2/estates?per_page=999&page=5', 'https://www.sreality.cz/api/cs/v2/estates?per_page=999&page=6', 'https://www.sreality.cz/api/cs/v2/estates?per_page=999&page=7', 'https://www.sreality.cz/api/cs/v2/estates?per_page=999&page=8', 'https://www.sreality.cz/api/cs/v2/estates?per_page=999&page=9', 'https://www.sreality.cz/api/cs/v2/estates?per_page=999&page=10', 'https://www.sreality.cz/api/cs/v2/estates?per_page=999&page=11', 'https://www.sreality.cz/api/cs/v2/estates?per_page=999&page=12', 'https://www.sreality.cz/api/cs/v2/estates?per_page=999&page=13', 'https://www.sreality.cz/api/cs/v2/estates?per_page=999&page=14', 'https://www.sreality.cz/api/cs/v2/estates?per_page=999&page=15', 'https://www.sreality.cz/api/cs/v2/estates?per_page=999&page=16', 'https://www.sreality.cz/api/cs/v2/estates?per_page=999&page=17', 'https://www.sreality.cz/api/cs/v2/estates?per_page=999&page=18', 'https://www.sreality.cz/api/cs/v2/estates?per_page=999&page=19', 'https://www.sreality.cz/api/cs/v2/estates?per_page=999&page=20', 'https://www.sreality.cz/api/cs/v2/estates?per_page=999&page=21', 'https://www.sreality.cz/api/cs/v2/estates?per_page=999&page=22', 'https://www.sreality.cz/api/cs/v2/estates?per_page=999&page=23', 'https://www.sreality.cz/api/cs/v2/estates?per_page=999&page=24', 'https://www.sreality.cz/api/cs/v2/estates?per_page=999&page=25', 'https://www.sreality.cz/api/cs/v2/estates?per_page=999&page=26', 'https://www.sreality.cz/api/cs/v2/estates?per_page=999&page=27', 'https://www.sreality.cz/api/cs/v2/estates?per_page=999&page=28', 'https://www.sreality.cz/api/cs/v2/estates?per_page=999&page=29', 'https://www.sreality.cz/api/cs/v2/estates?per_page=999&page=30', 'https://www.sreality.cz/api/cs/v2/estates?per_page=999&page=31', 'https://www.sreality.cz/api/cs/v2/estates?per_page=999&page=32', 'https://www.sreality.cz/api/cs/v2/estates?per_page=999&page=33', 'https://www.sreality.cz/api/cs/v2/estates?per_page=999&page=34', 'https://www.sreality.cz/api/cs/v2/estates?per_page=999&page=35', 'https://www.sreality.cz/api/cs/v2/estates?per_page=999&page=36', 'https://www.sreality.cz/api/cs/v2/estates?per_page=999&page=37', 'https://www.sreality.cz/api/cs/v2/estates?per_page=999&page=38', 'https://www.sreality.cz/api/cs/v2/estates?per_page=999&page=39', 'https://www.sreality.cz/api/cs/v2/estates?per_page=999&page=40', 'https://www.sreality.cz/api/cs/v2/estates?per_page=999&page=41', 'https://www.sreality.cz/api/cs/v2/estates?per_page=999&page=42', 'https://www.sreality.cz/api/cs/v2/estates?per_page=999&page=43', 'https://www.sreality.cz/api/cs/v2/estates?per_page=999&page=44', 'https://www.sreality.cz/api/cs/v2/estates?per_page=999&page=45', 'https://www.sreality.cz/api/cs/v2/estates?per_page=999&page=46', 'https://www.sreality.cz/api/cs/v2/estates?per_page=999&page=47', 'https://www.sreality.cz/api/cs/v2/estates?per_page=999&page=48', 'https://www.sreality.cz/api/cs/v2/estates?per_page=999&page=49', 'https://www.sreality.cz/api/cs/v2/estates?per_page=999&page=50', 'https://www.sreality.cz/api/cs/v2/estates?per_page=999&page=51', 'https://www.sreality.cz/api/cs/v2/estates?per_page=999&page=52', 'https://www.sreality.cz/api/cs/v2/estates?per_page=999&page=53', 'https://www.sreality.cz/api/cs/v2/estates?per_page=999&page=54', 'https://www.sreality.cz/api/cs/v2/estates?per_page=999&page=55', 'https://www.sreality.cz/api/cs/v2/estates?per_page=999&page=56', 'https://www.sreality.cz/api/cs/v2/estates?per_page=999&page=57', 'https://www.sreality.cz/api/cs/v2/estates?per_page=999&page=58', 'https://www.sreality.cz/api/cs/v2/estates?per_page=999&page=59', 'https://www.sreality.cz/api/cs/v2/estates?per_page=999&page=60', 'https://www.sreality.cz/api/cs/v2/estates?per_page=999&page=61', 'https://www.sreality.cz/api/cs/v2/estates?per_page=999&page=62', 'https://www.sreality.cz/api/cs/v2/estates?per_page=999&page=63', 'https://www.sreality.cz/api/cs/v2/estates?per_page=999&page=64', 'https://www.sreality.cz/api/cs/v2/estates?per_page=999&page=65', 'https://www.sreality.cz/api/cs/v2/estates?per_page=999&page=66', 'https://www.sreality.cz/api/cs/v2/estates?per_page=999&page=67', 'https://www.sreality.cz/api/cs/v2/estates?per_page=999&page=68', 'https://www.sreality.cz/api/cs/v2/estates?per_page=999&page=69', 'https://www.sreality.cz/api/cs/v2/estates?per_page=999&page=70', 'https://www.sreality.cz/api/cs/v2/estates?per_page=999&page=71', 'https://www.sreality.cz/api/cs/v2/estates?per_page=999&page=72', 'https://www.sreality.cz/api/cs/v2/estates?per_page=999&page=73', 'https://www.sreality.cz/api/cs/v2/estates?per_page=999&page=74', 'https://www.sreality.cz/api/cs/v2/estates?per_page=999&page=75', 'https://www.sreality.cz/api/cs/v2/estates?per_page=999&page=76', 'https://www.sreality.cz/api/cs/v2/estates?per_page=999&page=77', 'https://www.sreality.cz/api/cs/v2/estates?per_page=999&page=78', 'https://www.sreality.cz/api/cs/v2/estates?per_page=999&page=79', 'https://www.sreality.cz/api/cs/v2/estates?per_page=999&page=80', 'https://www.sreality.cz/api/cs/v2/estates?per_page=999&page=81', 'https://www.sreality.cz/api/cs/v2/estates?per_page=999&page=82', 'https://www.sreality.cz/api/cs/v2/estates?per_page=999&page=83', 'https://www.sreality.cz/api/cs/v2/estates?per_page=999&page=84', 'https://www.sreality.cz/api/cs/v2/estates?per_page=999&page=85', 'https://www.sreality.cz/api/cs/v2/estates?per_page=999&page=86', 'https://www.sreality.cz/api/cs/v2/estates?per_page=999&page=87', 'https://www.sreality.cz/api/cs/v2/estates?per_page=999&page=88', 'https://www.sreality.cz/api/cs/v2/estates?per_page=999&page=89', 'https://www.sreality.cz/api/cs/v2/estates?per_page=999&page=90', 'https://www.sreality.cz/api/cs/v2/estates?per_page=999&page=91', 'https://www.sreality.cz/api/cs/v2/estates?per_page=999&page=92', 'https://www.sreality.cz/api/cs/v2/estates?per_page=999&page=93', 'https://www.sreality.cz/api/cs/v2/estates?per_page=999&page=94', 'https://www.sreality.cz/api/cs/v2/estates?per_page=999&page=95']\n"
     ]
    },
    {
     "name": "stderr",
     "output_type": "stream",
     "text": [
      "100%|██████████| 95/95 [04:41<00:00,  2.96s/it]\n"
     ]
    },
    {
     "name": "stdout",
     "output_type": "stream",
     "text": [
      "59940\n",
      "Saving data_all_20240418_0045 to C:/Users/jirka/Documents/MyProjects/Sreality/data_2024/data_all_20240418_0045.csv\n"
     ]
    }
   ],
   "source": [
    "timestamp = \"20240418_0045\"\n",
    "scraper = SrealityScraper()\n",
    "\n",
    "data_prodej_byty = scraper.run_scraping(category_main_cb=1,category_type_cb=1)\n",
    "df_data_prodej_byty = pd.DataFrame(data_prodej_byty)\n",
    "scraper.safe_save_csv(df_data_prodej_byty, f\"data_{timestamp}\")\n",
    "\n",
    "data_all = scraper.run_scraping()\n",
    "df_data_all = pd.DataFrame(data_all)\n",
    "scraper.safe_save_csv(df_data_all, f\"data_all_{timestamp}\")"
   ]
  },
  {
   "cell_type": "code",
   "execution_count": null,
   "metadata": {},
   "outputs": [],
   "source": [
    "# Just testing count\n",
    "with requests.Session() as session:\n",
    "    result =  session.request(method=\"GET\", url=\"https://www.sreality.cz/api/cs/v2/estates/count\").json()\n",
    "result"
   ]
  },
  {
   "cell_type": "code",
   "execution_count": null,
   "metadata": {},
   "outputs": [],
   "source": [
    "# Just testing\n",
    "url_filter = f\"https://www.sreality.cz/api/cs/v2/estates?category_main_cb=1&category_type_cb=1&per_page=1&page=1\"\n",
    "with requests.Session() as session:\n",
    "    result =  session.request(method=\"GET\", url=url_filter).json()\n",
    "result"
   ]
  },
  {
   "cell_type": "markdown",
   "metadata": {},
   "source": [
    "## DF_ALL stats"
   ]
  },
  {
   "cell_type": "code",
   "execution_count": null,
   "metadata": {},
   "outputs": [],
   "source": [
    "df_data_all[\"category_main_cb\"].value_counts()"
   ]
  },
  {
   "cell_type": "code",
   "execution_count": null,
   "metadata": {},
   "outputs": [],
   "source": [
    "df_data_all[\"category_type_cb\"].value_counts()"
   ]
  },
  {
   "cell_type": "code",
   "execution_count": null,
   "metadata": {},
   "outputs": [],
   "source": [
    "df_data_all[\"category_sub_cb\"].value_counts()"
   ]
  },
  {
   "cell_type": "markdown",
   "metadata": {},
   "source": [
    "## Table managment test"
   ]
  },
  {
   "cell_type": "code",
   "execution_count": 1,
   "metadata": {},
   "outputs": [],
   "source": [
    "from db_managment.data_manager import DataManager\n",
    "import pandas as pd\n",
    "\n",
    "data_manager = DataManager()"
   ]
  },
  {
   "cell_type": "code",
   "execution_count": 5,
   "metadata": {},
   "outputs": [
    {
     "data": {
      "text/html": [
       "<div>\n",
       "<style scoped>\n",
       "    .dataframe tbody tr th:only-of-type {\n",
       "        vertical-align: middle;\n",
       "    }\n",
       "\n",
       "    .dataframe tbody tr th {\n",
       "        vertical-align: top;\n",
       "    }\n",
       "\n",
       "    .dataframe thead th {\n",
       "        text-align: right;\n",
       "    }\n",
       "</style>\n",
       "<table border=\"1\" class=\"dataframe\">\n",
       "  <thead>\n",
       "    <tr style=\"text-align: right;\">\n",
       "      <th></th>\n",
       "      <th>id</th>\n",
       "      <th>estate_id</th>\n",
       "      <th>batch_id</th>\n",
       "      <th>price</th>\n",
       "      <th>created_at</th>\n",
       "    </tr>\n",
       "  </thead>\n",
       "  <tbody>\n",
       "    <tr>\n",
       "      <th>0</th>\n",
       "      <td>1</td>\n",
       "      <td>1</td>\n",
       "      <td>1</td>\n",
       "      <td>12345000</td>\n",
       "      <td>2024-04-16 21:22:23</td>\n",
       "    </tr>\n",
       "  </tbody>\n",
       "</table>\n",
       "</div>"
      ],
      "text/plain": [
       "   id  estate_id  batch_id     price           created_at\n",
       "0   1          1         1  12345000  2024-04-16 21:22:23"
      ]
     },
     "execution_count": 5,
     "metadata": {},
     "output_type": "execute_result"
    }
   ],
   "source": [
    "data_manager.get_all_rows(\"scraped_prices\")"
   ]
  },
  {
   "cell_type": "code",
   "execution_count": null,
   "metadata": {},
   "outputs": [],
   "source": [
    "data_manager.clear_table(\"scraped_prices\")"
   ]
  },
  {
   "cell_type": "code",
   "execution_count": null,
   "metadata": {},
   "outputs": [],
   "source": [
    "data_manager.drop_table(\"scraped_prices\")"
   ]
  },
  {
   "cell_type": "code",
   "execution_count": null,
   "metadata": {},
   "outputs": [],
   "source": [
    "data_manager.create_table(\"scraped_prices\")"
   ]
  },
  {
   "cell_type": "code",
   "execution_count": null,
   "metadata": {},
   "outputs": [],
   "source": [
    "upload = pd.DataFrame(data = [[\"2024-15-04 12:00:01\"]],\n",
    "                      columns=[\"timestamp\"])\n",
    "data_manager.insert_new_batch(upload)"
   ]
  },
  {
   "cell_type": "code",
   "execution_count": 2,
   "metadata": {},
   "outputs": [],
   "source": [
    "\n",
    "upload = pd.DataFrame(data = [[\"2109527372\",\n",
    "                              \"Prodej bytu 3+1 69 m²\",\n",
    "                              \"1\",\n",
    "                              \"1\",\n",
    "                              \"7\",\n",
    "                              \"byt\",\n",
    "                              \"prodej\",\n",
    "                              \"3+1\",\n",
    "                              \"69.0\",\n",
    "                              \"brno-zabovresky-lucni\",\n",
    "                              \"jihomoravský kraj\",\n",
    "                              \"Brno\",\n",
    "                              \"49.208683\",\n",
    "                              \"16.58177716\",\n",
    "                              \"2024-04-13 10:34:53\",\n",
    "                              \"12345000\",\n",
    "                              \"2024-04-16 21:22:23\"\n",
    "                              ]],\n",
    "                      columns=[\"code\", \"name\", \n",
    "                               \"category_main_cb\", \"category_type_cb\", \"category_sub_cb\",\n",
    "                               \"type_of_building\", \"type_of_deal\", \"type_of_rooms\", \n",
    "                               \"size_meters\", \"locality\",\n",
    "                               \"region\", \"district\", \"latitude\",\n",
    "                               \"longitude\", \"timestamp\", \"price\", \"created_at\"])\n",
    "data_manager.insert_new_estate(upload)"
   ]
  },
  {
   "cell_type": "code",
   "execution_count": 4,
   "metadata": {},
   "outputs": [],
   "source": [
    "\n",
    "#TODO: how about unit test for this?\n",
    "#? should fail predictably as it breakes foreign key constraints i made:)\n",
    "#upload = pd.DataFrame(data = [[\"911\", \"4242\", \"12345000\"]],\n",
    "#                      columns=[\"estate_id\", \"batch_id\", \"price\"])\n",
    "\n",
    "upload = pd.DataFrame(data = [[\"1\", \"1\", \"12345000\", \"2024-04-16 21:22:23\"]],\n",
    "                      columns=[\"estate_id\", \"batch_id\", \"price\", \"created_at\"])\n",
    "data_manager.insert_new_price(upload)"
   ]
  },
  {
   "cell_type": "markdown",
   "metadata": {},
   "source": [
    "## Processing new offers"
   ]
  },
  {
   "cell_type": "code",
   "execution_count": null,
   "metadata": {},
   "outputs": [],
   "source": [
    "from db_managment.data_manager import DataManager\n",
    "import pandas as pd\n",
    "\n",
    "data_manager = DataManager()"
   ]
  },
  {
   "cell_type": "code",
   "execution_count": 5,
   "metadata": {},
   "outputs": [
    {
     "name": "stdout",
     "output_type": "stream",
     "text": [
      "16992\n"
     ]
    },
    {
     "data": {
      "text/html": [
       "<div>\n",
       "<style scoped>\n",
       "    .dataframe tbody tr th:only-of-type {\n",
       "        vertical-align: middle;\n",
       "    }\n",
       "\n",
       "    .dataframe tbody tr th {\n",
       "        vertical-align: top;\n",
       "    }\n",
       "\n",
       "    .dataframe thead th {\n",
       "        text-align: right;\n",
       "    }\n",
       "</style>\n",
       "<table border=\"1\" class=\"dataframe\">\n",
       "  <thead>\n",
       "    <tr style=\"text-align: right;\">\n",
       "      <th></th>\n",
       "      <th>Unnamed: 0</th>\n",
       "      <th>code</th>\n",
       "      <th>name</th>\n",
       "      <th>category_main_cb</th>\n",
       "      <th>category_type_cb</th>\n",
       "      <th>category_sub_cb</th>\n",
       "      <th>rooms</th>\n",
       "      <th>size_meters</th>\n",
       "      <th>locality</th>\n",
       "      <th>latitude</th>\n",
       "      <th>longitude</th>\n",
       "      <th>price</th>\n",
       "      <th>timestamp</th>\n",
       "    </tr>\n",
       "  </thead>\n",
       "  <tbody>\n",
       "    <tr>\n",
       "      <th>16990</th>\n",
       "      <td>16990</td>\n",
       "      <td>1653154140</td>\n",
       "      <td>Prodej bytu 4+kk 140 m²</td>\n",
       "      <td>1</td>\n",
       "      <td>1</td>\n",
       "      <td>8</td>\n",
       "      <td>4+kk</td>\n",
       "      <td>140.0</td>\n",
       "      <td>karlovy-vary-karlovy-vary-sadova</td>\n",
       "      <td>50.210766</td>\n",
       "      <td>12.892186</td>\n",
       "      <td>11963000</td>\n",
       "      <td>2024-04-18 00:45:37</td>\n",
       "    </tr>\n",
       "    <tr>\n",
       "      <th>16991</th>\n",
       "      <td>16991</td>\n",
       "      <td>1673015644</td>\n",
       "      <td>Prodej bytu atypické 92 m² (Podkrovní)</td>\n",
       "      <td>1</td>\n",
       "      <td>1</td>\n",
       "      <td>16</td>\n",
       "      <td>atypické</td>\n",
       "      <td>92.0</td>\n",
       "      <td>stachy-stachy-zadov</td>\n",
       "      <td>49.062504</td>\n",
       "      <td>13.649163</td>\n",
       "      <td>8983000</td>\n",
       "      <td>2024-04-18 00:45:37</td>\n",
       "    </tr>\n",
       "  </tbody>\n",
       "</table>\n",
       "</div>"
      ],
      "text/plain": [
       "       Unnamed: 0        code                                    name  \\\n",
       "16990       16990  1653154140                 Prodej bytu 4+kk 140 m²   \n",
       "16991       16991  1673015644  Prodej bytu atypické 92 m² (Podkrovní)   \n",
       "\n",
       "       category_main_cb  category_type_cb  category_sub_cb     rooms  \\\n",
       "16990                 1                 1                8      4+kk   \n",
       "16991                 1                 1               16  atypické   \n",
       "\n",
       "      size_meters                          locality   latitude  longitude  \\\n",
       "16990       140.0  karlovy-vary-karlovy-vary-sadova  50.210766  12.892186   \n",
       "16991        92.0               stachy-stachy-zadov  49.062504  13.649163   \n",
       "\n",
       "          price            timestamp  \n",
       "16990  11963000  2024-04-18 00:45:37  \n",
       "16991   8983000  2024-04-18 00:45:37  "
      ]
     },
     "metadata": {},
     "output_type": "display_data"
    }
   ],
   "source": [
    "df_new = pd.read_csv(\"data_2024/data_20240418_0045.csv\", sep=\";\", encoding=\"utf-8\")\n",
    "\n",
    "print(len(df_new))\n",
    "display(df_new.tail(2))"
   ]
  },
  {
   "cell_type": "code",
   "execution_count": 7,
   "metadata": {},
   "outputs": [
    {
     "name": "stdout",
     "output_type": "stream",
     "text": [
      "28659\n"
     ]
    },
    {
     "data": {
      "text/html": [
       "<div>\n",
       "<style scoped>\n",
       "    .dataframe tbody tr th:only-of-type {\n",
       "        vertical-align: middle;\n",
       "    }\n",
       "\n",
       "    .dataframe tbody tr th {\n",
       "        vertical-align: top;\n",
       "    }\n",
       "\n",
       "    .dataframe thead th {\n",
       "        text-align: right;\n",
       "    }\n",
       "</style>\n",
       "<table border=\"1\" class=\"dataframe\">\n",
       "  <thead>\n",
       "    <tr style=\"text-align: right;\">\n",
       "      <th></th>\n",
       "      <th>Unnamed: 0</th>\n",
       "      <th>hash_id</th>\n",
       "      <th>name</th>\n",
       "      <th>price</th>\n",
       "      <th>latitude</th>\n",
       "      <th>longitude</th>\n",
       "      <th>category_main_cb</th>\n",
       "      <th>category_type_cb</th>\n",
       "      <th>category_sub_cb</th>\n",
       "      <th>type_of_flat</th>\n",
       "      <th>size_m</th>\n",
       "    </tr>\n",
       "  </thead>\n",
       "  <tbody>\n",
       "    <tr>\n",
       "      <th>28657</th>\n",
       "      <td>28657</td>\n",
       "      <td>1653154140</td>\n",
       "      <td>Prodej bytu 4+kk 74 m²</td>\n",
       "      <td>6362000</td>\n",
       "      <td>50.217776</td>\n",
       "      <td>12.885176</td>\n",
       "      <td>1</td>\n",
       "      <td>1</td>\n",
       "      <td>8</td>\n",
       "      <td>4+kk</td>\n",
       "      <td>74.0</td>\n",
       "    </tr>\n",
       "    <tr>\n",
       "      <th>28658</th>\n",
       "      <td>28658</td>\n",
       "      <td>1673015644</td>\n",
       "      <td>Prodej bytu atypické 49 m² (Podkrovní)</td>\n",
       "      <td>4777000</td>\n",
       "      <td>49.069514</td>\n",
       "      <td>13.642153</td>\n",
       "      <td>1</td>\n",
       "      <td>1</td>\n",
       "      <td>16</td>\n",
       "      <td>atypické</td>\n",
       "      <td>49.0</td>\n",
       "    </tr>\n",
       "  </tbody>\n",
       "</table>\n",
       "</div>"
      ],
      "text/plain": [
       "       Unnamed: 0     hash_id                                    name  \\\n",
       "28657       28657  1653154140                  Prodej bytu 4+kk 74 m²   \n",
       "28658       28658  1673015644  Prodej bytu atypické 49 m² (Podkrovní)   \n",
       "\n",
       "         price   latitude  longitude  category_main_cb  category_type_cb  \\\n",
       "28657  6362000  50.217776  12.885176                 1                 1   \n",
       "28658  4777000  49.069514  13.642153                 1                 1   \n",
       "\n",
       "       category_sub_cb type_of_flat size_m  \n",
       "28657                8         4+kk   74.0  \n",
       "28658               16     atypické   49.0  "
      ]
     },
     "metadata": {},
     "output_type": "display_data"
    }
   ],
   "source": [
    "new_estates = data_manager.filter_new_estates(df_new)\n",
    "\n",
    "print(len(new_estates))\n",
    "display(new_estates.tail(2))"
   ]
  },
  {
   "cell_type": "code",
   "execution_count": 12,
   "metadata": {},
   "outputs": [
    {
     "name": "stdout",
     "output_type": "stream",
     "text": [
      "1\n",
      "byt\n",
      "1\n",
      "prodej\n",
      "4\n",
      "N/A\n"
     ]
    }
   ],
   "source": [
    "print(new_estates.loc[0, \"category_main_cb\"])\n",
    "print(data_manager.translate_type_of_building(new_estates.loc[0, \"category_main_cb\"]))\n",
    "\n",
    "print(new_estates.loc[0, \"category_type_cb\"])\n",
    "print(data_manager.translate_type_of_deal(new_estates.loc[0, \"category_main_cb\"]))\n",
    "\n",
    "print(new_estates.loc[0, \"category_sub_cb\"])\n",
    "print(data_manager.translate_type_of_rooms(new_estates.loc[0, \"category_main_cb\"]))"
   ]
  },
  {
   "cell_type": "code",
   "execution_count": null,
   "metadata": {},
   "outputs": [],
   "source": []
  },
  {
   "cell_type": "markdown",
   "metadata": {},
   "source": [
    "worfklow new price, pokud neexistuje Estate, resp batch\n",
    "- load csv s offers\n",
    "- filter_new_estates - najde mi ty, jejichž code ještě není v tabulce estate_details\n",
    "- přeloží to pro ně typ budovy, typ  dealu, počet pokojů - z dictionary\n",
    "- před zápisem do DB vygeneruje timestamp \n",
    "- insertuje se new_batch - pokud taky neexistuje !!\n",
    "- jinak se může insertovat new new_estate\n",
    "- a pak klidně rovnou i new price, navázané na tuto batch a price"
   ]
  },
  {
   "cell_type": "markdown",
   "metadata": {},
   "source": []
  },
  {
   "cell_type": "code",
   "execution_count": null,
   "metadata": {},
   "outputs": [],
   "source": []
  },
  {
   "cell_type": "code",
   "execution_count": null,
   "metadata": {},
   "outputs": [],
   "source": []
  }
 ],
 "metadata": {
  "kernelspec": {
   "display_name": "Sreality2024",
   "language": "python",
   "name": "python3"
  },
  "language_info": {
   "codemirror_mode": {
    "name": "ipython",
    "version": 3
   },
   "file_extension": ".py",
   "mimetype": "text/x-python",
   "name": "python",
   "nbconvert_exporter": "python",
   "pygments_lexer": "ipython3",
   "version": "3.11.7"
  }
 },
 "nbformat": 4,
 "nbformat_minor": 2
}

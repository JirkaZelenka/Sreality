{
 "cells": [
  {
   "cell_type": "markdown",
   "metadata": {},
   "source": [
    "-----------------------\n",
    "## 1) New way of scraping  11.4.2024\n",
    "-----------------------"
   ]
  },
  {
   "cell_type": "code",
   "execution_count": 1,
   "metadata": {},
   "outputs": [],
   "source": [
    "from datetime import datetime\n",
    "import pandas as pd\n",
    "from tqdm import tqdm  \n",
    "import requests \n",
    "\n",
    "import os\n",
    "os.chdir(\"c:\\\\Users\\\\jirka\\\\Documents\\\\MyProjects\\\\Sreality\")\n",
    "from scraper.scraper import SrealityScraper\n",
    "from db_managment.data_manager import DataManager\n",
    "from utils.utils import Utilities\n"
   ]
  },
  {
   "cell_type": "code",
   "execution_count": 2,
   "metadata": {},
   "outputs": [
    {
     "data": {
      "text/plain": [
       "'2024-04-18 09:59:44'"
      ]
     },
     "execution_count": 2,
     "metadata": {},
     "output_type": "execute_result"
    }
   ],
   "source": [
    "utils = Utilities()\n",
    "timestamp = utils.generate_timestamp()\n",
    "timestamp"
   ]
  },
  {
   "cell_type": "markdown",
   "metadata": {},
   "source": [
    "### My regular run"
   ]
  },
  {
   "cell_type": "code",
   "execution_count": null,
   "metadata": {},
   "outputs": [],
   "source": [
    "timestamp = \"20240418_0948\"\n",
    "scraper = SrealityScraper()\n",
    "\n",
    "data_prodej_byty = scraper.run_scraping(category_main_cb=1,category_type_cb=1)\n",
    "df_data_prodej_byty = pd.DataFrame(data_prodej_byty)\n",
    "scraper.safe_save_csv(df_data_prodej_byty, f\"data_{timestamp}\")\n",
    "\n",
    "data_all = scraper.run_scraping()\n",
    "df_data_all = pd.DataFrame(data_all)\n",
    "scraper.safe_save_csv(df_data_all, f\"data_all_{timestamp}\")"
   ]
  },
  {
   "cell_type": "code",
   "execution_count": null,
   "metadata": {},
   "outputs": [],
   "source": [
    "# Just testing count\n",
    "with requests.Session() as session:\n",
    "    result =  session.request(method=\"GET\", url=\"https://www.sreality.cz/api/cs/v2/estates/count\").json()\n",
    "result"
   ]
  },
  {
   "cell_type": "code",
   "execution_count": null,
   "metadata": {},
   "outputs": [],
   "source": [
    "# Just testing\n",
    "url_filter = f\"https://www.sreality.cz/api/cs/v2/estates?category_main_cb=1&category_type_cb=1&per_page=1&page=1\"\n",
    "with requests.Session() as session:\n",
    "    result =  session.request(method=\"GET\", url=url_filter).json()\n",
    "result"
   ]
  },
  {
   "cell_type": "markdown",
   "metadata": {},
   "source": [
    "## Table managment test"
   ]
  },
  {
   "cell_type": "code",
   "execution_count": null,
   "metadata": {},
   "outputs": [],
   "source": [
    "from db_managment.data_manager import DataManager\n",
    "import pandas as pd\n",
    "\n",
    "data_manager = DataManager()"
   ]
  },
  {
   "cell_type": "code",
   "execution_count": null,
   "metadata": {},
   "outputs": [],
   "source": [
    "data_manager.get_all_rows(\"scraped_prices\")"
   ]
  },
  {
   "cell_type": "code",
   "execution_count": null,
   "metadata": {},
   "outputs": [],
   "source": [
    "data_manager.clear_table(\"scraped_prices\")"
   ]
  },
  {
   "cell_type": "code",
   "execution_count": null,
   "metadata": {},
   "outputs": [],
   "source": [
    "data_manager.drop_table(\"scraped_prices\")"
   ]
  },
  {
   "cell_type": "code",
   "execution_count": null,
   "metadata": {},
   "outputs": [],
   "source": [
    "data_manager.create_table(\"scraped_prices\")"
   ]
  },
  {
   "cell_type": "code",
   "execution_count": null,
   "metadata": {},
   "outputs": [],
   "source": [
    "upload = pd.DataFrame(data = [[\"2024-15-04 12:00:01\"]],\n",
    "                      columns=[\"timestamp\"])\n",
    "data_manager.insert_new_batch(upload)"
   ]
  },
  {
   "cell_type": "code",
   "execution_count": null,
   "metadata": {},
   "outputs": [],
   "source": [
    "\n",
    "upload = pd.DataFrame(data = [[\"2109527372\",\n",
    "                              \"Prodej bytu 3+1 69 m²\",\n",
    "                              \"1\",\n",
    "                              \"1\",\n",
    "                              \"7\",\n",
    "                              \"byt\",\n",
    "                              \"prodej\",\n",
    "                              \"3+1\",\n",
    "                              \"69.0\",\n",
    "                              \"brno-zabovresky-lucni\",\n",
    "                              \"jihomoravský kraj\",\n",
    "                              \"Brno\",\n",
    "                              \"49.208683\",\n",
    "                              \"16.58177716\",\n",
    "                              \"2024-04-13 10:34:53\",\n",
    "                              \"12345000\",\n",
    "                              \"2024-04-16 21:22:23\"\n",
    "                              ]],\n",
    "                      columns=[\"code\", \"name\", \n",
    "                               \"category_main_cb\", \"category_type_cb\", \"category_sub_cb\",\n",
    "                               \"type_of_building\", \"type_of_deal\", \"type_of_rooms\", \n",
    "                               \"size_meters\", \"locality\",\n",
    "                               \"region\", \"district\", \"latitude\",\n",
    "                               \"longitude\", \"timestamp\", \"price\", \"created_at\"])\n",
    "data_manager.insert_new_estate(upload)"
   ]
  },
  {
   "cell_type": "code",
   "execution_count": null,
   "metadata": {},
   "outputs": [],
   "source": [
    "\n",
    "#TODO: how about unit test for this?\n",
    "#? should fail predictably as it breakes foreign key constraints i made:)\n",
    "#upload = pd.DataFrame(data = [[\"911\", \"4242\", \"12345000\"]],\n",
    "#                      columns=[\"estate_id\", \"batch_id\", \"price\"])\n",
    "\n",
    "upload = pd.DataFrame(data = [[\"1\", \"1\", \"12345000\", \"2024-04-16 21:22:23\"]],\n",
    "                      columns=[\"estate_id\", \"batch_id\", \"price\", \"created_at\"])\n",
    "data_manager.insert_new_price(upload)"
   ]
  },
  {
   "cell_type": "markdown",
   "metadata": {},
   "source": [
    "## Processing new offers"
   ]
  },
  {
   "cell_type": "code",
   "execution_count": null,
   "metadata": {},
   "outputs": [],
   "source": [
    "from db_managment.data_manager import DataManager\n",
    "import pandas as pd\n",
    "\n",
    "data_manager = DataManager()"
   ]
  },
  {
   "cell_type": "code",
   "execution_count": null,
   "metadata": {},
   "outputs": [],
   "source": [
    "df_new = pd.read_csv(\"data_2024/data_20240418_0045.csv\", sep=\";\", encoding=\"utf-8\")\n",
    "if 'Unnamed: 0' in df_new.columns:\n",
    "    df_new.drop('Unnamed: 0', axis=1, inplace=True)\n",
    "\n",
    "print(len(df_new))\n",
    "display(df_new.tail(2))"
   ]
  },
  {
   "cell_type": "code",
   "execution_count": null,
   "metadata": {},
   "outputs": [],
   "source": [
    "new_estates = data_manager.filter_new_estates(df_new)\n",
    "\n",
    "print(len(new_estates))\n",
    "display(new_estates.tail(2))"
   ]
  },
  {
   "cell_type": "code",
   "execution_count": null,
   "metadata": {},
   "outputs": [],
   "source": [
    "print(new_estates.loc[0, \"category_main_cb\"])\n",
    "print(data_manager.translate_type_of_building(new_estates.loc[0, \"category_main_cb\"]))\n",
    "\n",
    "print(new_estates.loc[0, \"category_type_cb\"])\n",
    "print(data_manager.translate_type_of_deal(new_estates.loc[0, \"category_main_cb\"]))\n",
    "\n",
    "print(new_estates.loc[0, \"category_sub_cb\"])\n",
    "print(data_manager.translate_type_of_rooms(new_estates.loc[0, \"category_main_cb\"]))"
   ]
  },
  {
   "cell_type": "code",
   "execution_count": null,
   "metadata": {},
   "outputs": [],
   "source": []
  },
  {
   "cell_type": "markdown",
   "metadata": {},
   "source": [
    "worfklow new price, pokud neexistuje Estate, resp batch\n",
    "- load csv s offers\n",
    "- filter_new_estates - najde mi ty, jejichž code ještě není v tabulce estate_details\n",
    "- přeloží to pro ně typ budovy, typ  dealu, počet pokojů - z dictionary\n",
    "- před zápisem do DB vygeneruje timestamp \n",
    "- insertuje se new_batch - pokud taky neexistuje !!\n",
    "- jinak se může insertovat new new_estate\n",
    "- a pak klidně rovnou i new price, navázané na tuto batch a price"
   ]
  },
  {
   "cell_type": "markdown",
   "metadata": {},
   "source": []
  },
  {
   "cell_type": "code",
   "execution_count": null,
   "metadata": {},
   "outputs": [],
   "source": []
  },
  {
   "cell_type": "code",
   "execution_count": null,
   "metadata": {},
   "outputs": [],
   "source": []
  }
 ],
 "metadata": {
  "kernelspec": {
   "display_name": "Sreality2024",
   "language": "python",
   "name": "python3"
  },
  "language_info": {
   "codemirror_mode": {
    "name": "ipython",
    "version": 3
   },
   "file_extension": ".py",
   "mimetype": "text/x-python",
   "name": "python",
   "nbconvert_exporter": "python",
   "pygments_lexer": "ipython3",
   "version": "3.11.5"
  }
 },
 "nbformat": 4,
 "nbformat_minor": 2
}

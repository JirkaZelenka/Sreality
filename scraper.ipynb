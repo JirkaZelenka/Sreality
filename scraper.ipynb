{
 "cells": [
  {
   "cell_type": "markdown",
   "metadata": {},
   "source": [
    "-----------------------\n",
    "## 1) New way of scraping  11.4.2024\n",
    "-----------------------"
   ]
  },
  {
   "cell_type": "code",
   "execution_count": null,
   "metadata": {},
   "outputs": [],
   "source": [
    "from datetime import datetime\n",
    "import pandas as pd\n",
    "from tqdm import tqdm  \n",
    "import requests \n",
    "\n",
    "import os\n",
    "os.chdir(\"c:\\\\Users\\\\jirka\\\\Documents\\\\MyProjects\\\\Sreality\")\n",
    "from scraper.scraper import SrealityScraper\n"
   ]
  },
  {
   "cell_type": "markdown",
   "metadata": {},
   "source": [
    "### My regular run"
   ]
  },
  {
   "cell_type": "code",
   "execution_count": null,
   "metadata": {},
   "outputs": [],
   "source": [
    "timestamp = \"20240417_1731\"\n",
    "scraper = SrealityScraper()\n",
    "\n",
    "data_prodej_byty = scraper.run_scraping(category_main_cb=1,category_type_cb=1)\n",
    "df_data_prodej_byty = pd.DataFrame(data_prodej_byty)\n",
    "scraper.safe_save_csv(df_data_prodej_byty, f\"data_{timestamp}\")\n",
    "\n",
    "data_all = scraper.run_scraping()\n",
    "df_data_all = pd.DataFrame(data_all)\n",
    "scraper.safe_save_csv(df_data_all, f\"data_all_{timestamp}\")"
   ]
  },
  {
   "cell_type": "code",
   "execution_count": null,
   "metadata": {},
   "outputs": [],
   "source": [
    "# Just testing count\n",
    "with requests.Session() as session:\n",
    "    result =  session.request(method=\"GET\", url=\"https://www.sreality.cz/api/cs/v2/estates/count\").json()\n",
    "result"
   ]
  },
  {
   "cell_type": "code",
   "execution_count": null,
   "metadata": {},
   "outputs": [],
   "source": [
    "# Just testing\n",
    "url_filter = f\"https://www.sreality.cz/api/cs/v2/estates?category_main_cb=1&category_type_cb=1&per_page=1&page=1\"\n",
    "with requests.Session() as session:\n",
    "    result =  session.request(method=\"GET\", url=url_filter).json()\n",
    "result"
   ]
  },
  {
   "cell_type": "markdown",
   "metadata": {},
   "source": [
    "## DF_ALL stats"
   ]
  },
  {
   "cell_type": "code",
   "execution_count": null,
   "metadata": {},
   "outputs": [],
   "source": [
    "df_data_all[\"category_main_cb\"].value_counts()"
   ]
  },
  {
   "cell_type": "code",
   "execution_count": null,
   "metadata": {},
   "outputs": [],
   "source": [
    "df_data_all[\"category_type_cb\"].value_counts()"
   ]
  },
  {
   "cell_type": "code",
   "execution_count": null,
   "metadata": {},
   "outputs": [],
   "source": [
    "df_data_all[\"category_sub_cb\"].value_counts()"
   ]
  },
  {
   "cell_type": "markdown",
   "metadata": {},
   "source": [
    "## Table managment test"
   ]
  },
  {
   "cell_type": "code",
   "execution_count": 1,
   "metadata": {},
   "outputs": [],
   "source": [
    "from db_managment.data_manager import DataManager\n",
    "import pandas as pd\n",
    "\n",
    "data_manager = DataManager()"
   ]
  },
  {
   "cell_type": "code",
   "execution_count": 5,
   "metadata": {},
   "outputs": [
    {
     "data": {
      "text/html": [
       "<div>\n",
       "<style scoped>\n",
       "    .dataframe tbody tr th:only-of-type {\n",
       "        vertical-align: middle;\n",
       "    }\n",
       "\n",
       "    .dataframe tbody tr th {\n",
       "        vertical-align: top;\n",
       "    }\n",
       "\n",
       "    .dataframe thead th {\n",
       "        text-align: right;\n",
       "    }\n",
       "</style>\n",
       "<table border=\"1\" class=\"dataframe\">\n",
       "  <thead>\n",
       "    <tr style=\"text-align: right;\">\n",
       "      <th></th>\n",
       "      <th>id</th>\n",
       "      <th>estate_id</th>\n",
       "      <th>batch_id</th>\n",
       "      <th>price</th>\n",
       "      <th>created_at</th>\n",
       "    </tr>\n",
       "  </thead>\n",
       "  <tbody>\n",
       "    <tr>\n",
       "      <th>0</th>\n",
       "      <td>1</td>\n",
       "      <td>1</td>\n",
       "      <td>1</td>\n",
       "      <td>12345000</td>\n",
       "      <td>2024-04-16 21:22:23</td>\n",
       "    </tr>\n",
       "  </tbody>\n",
       "</table>\n",
       "</div>"
      ],
      "text/plain": [
       "   id  estate_id  batch_id     price           created_at\n",
       "0   1          1         1  12345000  2024-04-16 21:22:23"
      ]
     },
     "execution_count": 5,
     "metadata": {},
     "output_type": "execute_result"
    }
   ],
   "source": [
    "data_manager.get_all_rows(\"scraped_prices\")"
   ]
  },
  {
   "cell_type": "code",
   "execution_count": null,
   "metadata": {},
   "outputs": [],
   "source": [
    "data_manager.clear_table(\"scraped_prices\")"
   ]
  },
  {
   "cell_type": "code",
   "execution_count": null,
   "metadata": {},
   "outputs": [],
   "source": [
    "data_manager.drop_table(\"scraped_prices\")"
   ]
  },
  {
   "cell_type": "code",
   "execution_count": null,
   "metadata": {},
   "outputs": [],
   "source": [
    "data_manager.create_table(\"scraped_prices\")"
   ]
  },
  {
   "cell_type": "code",
   "execution_count": null,
   "metadata": {},
   "outputs": [],
   "source": [
    "upload = pd.DataFrame(data = [[\"2024-15-04 12:00:01\", \"2024-04-16 21:22:23\"]],\n",
    "                      columns=[\"timestamp\", \"created_at\"])\n",
    "data_manager.insert_new_batch(upload)"
   ]
  },
  {
   "cell_type": "code",
   "execution_count": 2,
   "metadata": {},
   "outputs": [],
   "source": [
    "\n",
    "upload = pd.DataFrame(data = [[\"2109527372\",\n",
    "                              \"Prodej bytu 3+1 69 m²\",\n",
    "                              \"1\",\n",
    "                              \"1\",\n",
    "                              \"7\",\n",
    "                              \"byt\",\n",
    "                              \"prodej\",\n",
    "                              \"3+1\",\n",
    "                              \"69.0\",\n",
    "                              \"brno-zabovresky-lucni\",\n",
    "                              \"jihomoravský kraj\",\n",
    "                              \"Brno\",\n",
    "                              \"49.208683\",\n",
    "                              \"16.58177716\",\n",
    "                              \"2024-04-13 10:34:53\",\n",
    "                              \"12345000\",\n",
    "                              \"2024-04-16 21:22:23\"\n",
    "                              ]],\n",
    "                      columns=[\"code\", \"name\", \n",
    "                               \"category_main_cb\", \"category_type_cb\", \"category_sub_cb\",\n",
    "                               \"type_of_building\", \"type_of_deal\", \"type_of_rooms\", \n",
    "                               \"size_meters\", \"locality\",\n",
    "                               \"region\", \"district\", \"latitude\",\n",
    "                               \"longitude\", \"timestamp\", \"price\", \"created_at\"])\n",
    "data_manager.insert_new_estate(upload)"
   ]
  },
  {
   "cell_type": "code",
   "execution_count": 4,
   "metadata": {},
   "outputs": [],
   "source": [
    "\n",
    "#TODO: how about unit test for this?\n",
    "#? should fail predictably as it breakes foreign key constraints i made:)\n",
    "#upload = pd.DataFrame(data = [[\"911\", \"4242\", \"12345000\"]],\n",
    "#                      columns=[\"estate_id\", \"batch_id\", \"price\"])\n",
    "\n",
    "upload = pd.DataFrame(data = [[\"1\", \"1\", \"12345000\", \"2024-04-16 21:22:23\"]],\n",
    "                      columns=[\"estate_id\", \"batch_id\", \"price\", \"created_at\"])\n",
    "data_manager.insert_new_price(upload)"
   ]
  },
  {
   "cell_type": "markdown",
   "metadata": {},
   "source": [
    "## Processing new offers"
   ]
  },
  {
   "cell_type": "code",
   "execution_count": null,
   "metadata": {},
   "outputs": [],
   "source": [
    "from db_managment.data_manager import DataManager\n",
    "import pandas as pd\n",
    "\n",
    "data_manager = DataManager()"
   ]
  },
  {
   "cell_type": "code",
   "execution_count": 6,
   "metadata": {},
   "outputs": [
    {
     "name": "stdout",
     "output_type": "stream",
     "text": [
      "28659\n"
     ]
    },
    {
     "data": {
      "text/html": [
       "<div>\n",
       "<style scoped>\n",
       "    .dataframe tbody tr th:only-of-type {\n",
       "        vertical-align: middle;\n",
       "    }\n",
       "\n",
       "    .dataframe tbody tr th {\n",
       "        vertical-align: top;\n",
       "    }\n",
       "\n",
       "    .dataframe thead th {\n",
       "        text-align: right;\n",
       "    }\n",
       "</style>\n",
       "<table border=\"1\" class=\"dataframe\">\n",
       "  <thead>\n",
       "    <tr style=\"text-align: right;\">\n",
       "      <th></th>\n",
       "      <th>Unnamed: 0</th>\n",
       "      <th>hash_id</th>\n",
       "      <th>name</th>\n",
       "      <th>price</th>\n",
       "      <th>latitude</th>\n",
       "      <th>longitude</th>\n",
       "      <th>category_main_cb</th>\n",
       "      <th>category_type_cb</th>\n",
       "      <th>category_sub_cb</th>\n",
       "      <th>type_of_flat</th>\n",
       "      <th>size_m</th>\n",
       "    </tr>\n",
       "  </thead>\n",
       "  <tbody>\n",
       "    <tr>\n",
       "      <th>28657</th>\n",
       "      <td>28657</td>\n",
       "      <td>1653154140</td>\n",
       "      <td>Prodej bytu 4+kk 74 m²</td>\n",
       "      <td>6362000</td>\n",
       "      <td>50.217776</td>\n",
       "      <td>12.885176</td>\n",
       "      <td>1</td>\n",
       "      <td>1</td>\n",
       "      <td>8</td>\n",
       "      <td>4+kk</td>\n",
       "      <td>74.0</td>\n",
       "    </tr>\n",
       "    <tr>\n",
       "      <th>28658</th>\n",
       "      <td>28658</td>\n",
       "      <td>1673015644</td>\n",
       "      <td>Prodej bytu atypické 49 m² (Podkrovní)</td>\n",
       "      <td>4777000</td>\n",
       "      <td>49.069514</td>\n",
       "      <td>13.642153</td>\n",
       "      <td>1</td>\n",
       "      <td>1</td>\n",
       "      <td>16</td>\n",
       "      <td>atypické</td>\n",
       "      <td>49.0</td>\n",
       "    </tr>\n",
       "  </tbody>\n",
       "</table>\n",
       "</div>"
      ],
      "text/plain": [
       "       Unnamed: 0     hash_id                                    name  \\\n",
       "28657       28657  1653154140                  Prodej bytu 4+kk 74 m²   \n",
       "28658       28658  1673015644  Prodej bytu atypické 49 m² (Podkrovní)   \n",
       "\n",
       "         price   latitude  longitude  category_main_cb  category_type_cb  \\\n",
       "28657  6362000  50.217776  12.885176                 1                 1   \n",
       "28658  4777000  49.069514  13.642153                 1                 1   \n",
       "\n",
       "       category_sub_cb type_of_flat size_m  \n",
       "28657                8         4+kk   74.0  \n",
       "28658               16     atypické   49.0  "
      ]
     },
     "metadata": {},
     "output_type": "display_data"
    }
   ],
   "source": [
    "df_new = pd.read_csv(\"data_2024/data_20240412_0105.csv\", sep=\";\", encoding=\"utf-8\")\n",
    "\n",
    "print(len(df_new))\n",
    "display(df_new.tail(2))"
   ]
  },
  {
   "cell_type": "code",
   "execution_count": 7,
   "metadata": {},
   "outputs": [
    {
     "name": "stdout",
     "output_type": "stream",
     "text": [
      "28659\n"
     ]
    },
    {
     "data": {
      "text/html": [
       "<div>\n",
       "<style scoped>\n",
       "    .dataframe tbody tr th:only-of-type {\n",
       "        vertical-align: middle;\n",
       "    }\n",
       "\n",
       "    .dataframe tbody tr th {\n",
       "        vertical-align: top;\n",
       "    }\n",
       "\n",
       "    .dataframe thead th {\n",
       "        text-align: right;\n",
       "    }\n",
       "</style>\n",
       "<table border=\"1\" class=\"dataframe\">\n",
       "  <thead>\n",
       "    <tr style=\"text-align: right;\">\n",
       "      <th></th>\n",
       "      <th>Unnamed: 0</th>\n",
       "      <th>hash_id</th>\n",
       "      <th>name</th>\n",
       "      <th>price</th>\n",
       "      <th>latitude</th>\n",
       "      <th>longitude</th>\n",
       "      <th>category_main_cb</th>\n",
       "      <th>category_type_cb</th>\n",
       "      <th>category_sub_cb</th>\n",
       "      <th>type_of_flat</th>\n",
       "      <th>size_m</th>\n",
       "    </tr>\n",
       "  </thead>\n",
       "  <tbody>\n",
       "    <tr>\n",
       "      <th>28657</th>\n",
       "      <td>28657</td>\n",
       "      <td>1653154140</td>\n",
       "      <td>Prodej bytu 4+kk 74 m²</td>\n",
       "      <td>6362000</td>\n",
       "      <td>50.217776</td>\n",
       "      <td>12.885176</td>\n",
       "      <td>1</td>\n",
       "      <td>1</td>\n",
       "      <td>8</td>\n",
       "      <td>4+kk</td>\n",
       "      <td>74.0</td>\n",
       "    </tr>\n",
       "    <tr>\n",
       "      <th>28658</th>\n",
       "      <td>28658</td>\n",
       "      <td>1673015644</td>\n",
       "      <td>Prodej bytu atypické 49 m² (Podkrovní)</td>\n",
       "      <td>4777000</td>\n",
       "      <td>49.069514</td>\n",
       "      <td>13.642153</td>\n",
       "      <td>1</td>\n",
       "      <td>1</td>\n",
       "      <td>16</td>\n",
       "      <td>atypické</td>\n",
       "      <td>49.0</td>\n",
       "    </tr>\n",
       "  </tbody>\n",
       "</table>\n",
       "</div>"
      ],
      "text/plain": [
       "       Unnamed: 0     hash_id                                    name  \\\n",
       "28657       28657  1653154140                  Prodej bytu 4+kk 74 m²   \n",
       "28658       28658  1673015644  Prodej bytu atypické 49 m² (Podkrovní)   \n",
       "\n",
       "         price   latitude  longitude  category_main_cb  category_type_cb  \\\n",
       "28657  6362000  50.217776  12.885176                 1                 1   \n",
       "28658  4777000  49.069514  13.642153                 1                 1   \n",
       "\n",
       "       category_sub_cb type_of_flat size_m  \n",
       "28657                8         4+kk   74.0  \n",
       "28658               16     atypické   49.0  "
      ]
     },
     "metadata": {},
     "output_type": "display_data"
    }
   ],
   "source": [
    "new_estates = data_manager.filter_new_estates(df_new)\n",
    "\n",
    "print(len(new_estates))\n",
    "display(new_estates.tail(2))"
   ]
  },
  {
   "cell_type": "code",
   "execution_count": 12,
   "metadata": {},
   "outputs": [
    {
     "name": "stdout",
     "output_type": "stream",
     "text": [
      "1\n",
      "byt\n",
      "1\n",
      "prodej\n",
      "4\n",
      "N/A\n"
     ]
    }
   ],
   "source": [
    "print(new_estates.loc[0, \"category_main_cb\"])\n",
    "print(data_manager.translate_type_of_building(new_estates.loc[0, \"category_main_cb\"]))\n",
    "\n",
    "print(new_estates.loc[0, \"category_type_cb\"])\n",
    "print(data_manager.translate_type_of_deal(new_estates.loc[0, \"category_main_cb\"]))\n",
    "\n",
    "print(new_estates.loc[0, \"category_sub_cb\"])\n",
    "print(data_manager.translate_type_of_rooms(new_estates.loc[0, \"category_main_cb\"]))"
   ]
  },
  {
   "cell_type": "code",
   "execution_count": null,
   "metadata": {},
   "outputs": [],
   "source": []
  },
  {
   "cell_type": "markdown",
   "metadata": {},
   "source": [
    "worfklow new price, pokud neexistuje Estate, resp batch\n",
    "- load csv s offers\n",
    "- filter_new_estates - najde mi ty, jejichž code ještě není v tabulce estate_details\n",
    "- přeloží to pro ně typ budovy, typ  dealu, počet pokojů - z dictionary\n",
    "- před zápisem do DB vygeneruje timestamp - možná ne do DF? ale uvnitř té insertovací fce ?\n",
    "- vše je jinak v jednom DF\n",
    "- insertuje se new_batch - pokud taky neexistuje !!\n",
    "- jinak se může insertovat new new_estate\n",
    "- a pak klidně rovnou i new price, navázané na tuto batch a price"
   ]
  },
  {
   "cell_type": "markdown",
   "metadata": {},
   "source": [
    "- jde mi jen jeden loadin dat ze 3 - potřbeuju větší monitor\n",
    "- při error loadingu musím vzníst větší nápadnější error !!\n",
    "- Když mi nějaka Offer se jednou nechytne, a příště se zas objeví, není problém. \n",
    "- Pokud chci fresh data, tak najdu v estate list nejnovější Datumy kdy co bylo pozorováno  A aplikuju to na všechny offers a ty vytáhnu. \n",
    "- Chceme znát current state vždy? Nebo spíš tracking? Nebo remindery? Nebo trendy?\n",
    "- Pořešit cleaning a nové zápisy + updaty\n",
    "-  dopočet regionu a okresu, \n",
    "- vizualizace mapy, \n",
    "- výpočet délky zobrazení (intervaly platnosti ceny?)\n",
    "- scheduler vždy v noci ale klidně každou hodinu..protože přírůstky jsou maličké.\n",
    "-triggery v DB? nebo statistiky, min max price, a price range napočítat viz GPT pomoc?"
   ]
  },
  {
   "cell_type": "code",
   "execution_count": null,
   "metadata": {},
   "outputs": [],
   "source": []
  },
  {
   "cell_type": "code",
   "execution_count": null,
   "metadata": {},
   "outputs": [],
   "source": []
  }
 ],
 "metadata": {
  "kernelspec": {
   "display_name": "Sreality2024",
   "language": "python",
   "name": "python3"
  },
  "language_info": {
   "codemirror_mode": {
    "name": "ipython",
    "version": 3
   },
   "file_extension": ".py",
   "mimetype": "text/x-python",
   "name": "python",
   "nbconvert_exporter": "python",
   "pygments_lexer": "ipython3",
   "version": "3.11.7"
  }
 },
 "nbformat": 4,
 "nbformat_minor": 2
}

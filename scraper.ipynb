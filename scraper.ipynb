{
 "cells": [
  {
   "cell_type": "markdown",
   "metadata": {},
   "source": [
    "-----------------------\n",
    "## 1) New way of scraping  11.4.2024\n",
    "-----------------------"
   ]
  },
  {
   "cell_type": "code",
   "execution_count": 1,
   "metadata": {},
   "outputs": [],
   "source": [
    "from datetime import datetime\n",
    "import pandas as pd\n",
    "from tqdm import tqdm  \n",
    "import requests \n",
    "\n",
    "import os\n",
    "os.chdir(\"c:\\\\Users\\\\jirka\\\\Documents\\\\MyProjects\\\\Sreality\")\n",
    "from scraper.scraper import SrealityScraper\n"
   ]
  },
  {
   "cell_type": "code",
   "execution_count": 2,
   "metadata": {},
   "outputs": [
    {
     "data": {
      "text/plain": [
       "{'meta_description': '17031 realit v nabídce prodej bytů. Vyberte si novou nemovitost na sreality.cz s hledáním na mapě a velkými náhledy fotografií nabízených bytů.',\n",
       " 'result_size': 17031,\n",
       " '_embedded': {'estates': [{'labelsReleased': [[], ['train', 'restaurant']],\n",
       "    'has_panorama': 0,\n",
       "    'labels': ['Vlak 3 min. pěšky', 'Restaurace 4 min. pěšky'],\n",
       "    'is_auction': False,\n",
       "    'labelsAll': [['collective', 'panel', 'cellar', 'partly_furnished'],\n",
       "     ['small_shop',\n",
       "      'playground',\n",
       "      'tavern',\n",
       "      'vet',\n",
       "      'movies',\n",
       "      'train',\n",
       "      'sports',\n",
       "      'bus_public_transport',\n",
       "      'post_office',\n",
       "      'school',\n",
       "      'kindergarten',\n",
       "      'drugstore',\n",
       "      'restaurant']],\n",
       "    'seo': {'category_main_cb': 1,\n",
       "     'category_sub_cb': 3,\n",
       "     'category_type_cb': 1,\n",
       "     'locality': 'horni-berkovice-horni-berkovice-v-sidlisti'},\n",
       "    'exclusively_at_rk': 0,\n",
       "    'category': 1,\n",
       "    'has_floor_plan': 1,\n",
       "    '_embedded': {'favourite': {'is_favourite': False,\n",
       "      '_links': {'self': {'profile': '/favourite/doc',\n",
       "        'href': '/cs/v2/favourite/1525138764',\n",
       "        'title': 'Oblibene inzeraty'}}},\n",
       "     'note': {'note': '',\n",
       "      '_links': {'self': {'profile': '/note/doc',\n",
       "        'href': '/cs/v2/note/1525138764',\n",
       "        'title': 'Poznamky inzeratu'}},\n",
       "      'has_note': False},\n",
       "     'company': {'url': 'Reality-Samal-s-r-o-Praha-Smichov',\n",
       "      'id': 59429,\n",
       "      'name': 'Reality Šámal s.r.o.',\n",
       "      'logo_small': 'https://d48-a.sdn.cz/d_48/c_img_QL_u/VRkeZ0.png?fl=res,140,140,3,ffffff'}},\n",
       "    'paid_logo': 1,\n",
       "    'locality': 'Horní Beřkovice, okres Litoměřice',\n",
       "    'has_video': False,\n",
       "    'advert_images_count': 29,\n",
       "    'new': False,\n",
       "    'auctionPrice': 0.0,\n",
       "    'type': 1,\n",
       "    'hash_id': 1525138764,\n",
       "    'attractive_offer': 0,\n",
       "    'price': 2688000,\n",
       "    'price_czk': {'value_raw': 2688000, 'unit': '', 'name': 'Celková cena'},\n",
       "    '_links': {'dynamicDown': [{'href': 'https://d18-a.sdn.cz/d_18/c_img_QL_KA/HyWBaj.jpeg?fl=res,{width},{height},3|shr,,20|jpg,90'}],\n",
       "     'dynamicUp': [{'href': 'https://d18-a.sdn.cz/d_18/c_img_QL_KA/HyWBaj.jpeg?fl=res,{width},{height},3|wrm,/watermark/sreality.png,10|shr,,20|jpg,90'}],\n",
       "     'iterator': {'href': '/cs/v2/estate-iterator/0?category_main_cb=1&suggested_regionId=-1&suggested_districtId=-1&category_type_cb=1'},\n",
       "     'self': {'href': '/cs/v2/estates/1525138764'},\n",
       "     'images': [{'href': 'https://d18-a.sdn.cz/d_18/c_img_QL_KA/HyWBaj.jpeg?fl=res,400,300,3|shr,,20|jpg,90'},\n",
       "      {'href': 'https://d18-a.sdn.cz/d_18/c_img_QO_K8/x7xBNL.jpeg?fl=res,400,300,3|shr,,20|jpg,90'},\n",
       "      {'href': 'https://d18-a.sdn.cz/d_18/c_img_QJ_Ju/fKsBOR.jpeg?fl=res,400,300,3|shr,,20|jpg,90'},\n",
       "      {'href': 'https://d18-a.sdn.cz/d_18/c_img_QO_K8/gZsBNM.jpeg?fl=res,400,300,3|shr,,20|jpg,90'},\n",
       "      {'href': 'https://d18-a.sdn.cz/d_18/c_img_QK_Jt/eSFBeh.jpeg?fl=res,400,300,3|shr,,20|jpg,90'},\n",
       "      {'href': 'https://d18-a.sdn.cz/d_18/c_img_QL_KA/2KPBak.jpeg?fl=res,400,300,3|shr,,20|jpg,90'}],\n",
       "     'image_middle2': [{'href': 'https://d18-a.sdn.cz/d_18/c_img_QL_KA/HyWBaj.jpeg?fl=res,400,300,3|shr,,20|jpg,90'}]},\n",
       "    'rus': False,\n",
       "    'name': 'Prodej bytu 1+1\\xa049\\xa0m²',\n",
       "    'region_tip': 0,\n",
       "    'gps': {'lat': 50.343832770087396, 'lon': 14.371808229912602},\n",
       "    'has_matterport_url': True}],\n",
       "  'is_saved': {'email_notification': False,\n",
       "   'notification_advert_count': 0,\n",
       "   'stack_id': 0,\n",
       "   'push_notification': False,\n",
       "   '_links': {'self': {'href': '/cs/v2/stacks'}},\n",
       "   'removed': False,\n",
       "   'saved': False},\n",
       "  'not_precise_location_count': {'result_size_auction': 0,\n",
       "   'result_size': 5378,\n",
       "   '_links': {'self': {'profile': '/estates/count/doc',\n",
       "     'href': '/cs/v2/estates/count?category_main_cb=1&category_type_cb=3',\n",
       "     'title': 'Estate count'}}}},\n",
       " 'filterLabels': [],\n",
       " 'title': 'Byty na prodej',\n",
       " 'filter': {'category_main_cb': '1',\n",
       "  'suggested_districtId': -1,\n",
       "  'category_type_cb': '1',\n",
       "  'suggested_regionId': -1},\n",
       " '_links': {'self': {'href': '/cs/v2/estates?category_main_cb=1&category_type_cb=1&page=1'},\n",
       "  'clusters_with_bounding_box_of_first_10': {'href': '/cs/v2/clusters?category_main_cb=1&category_type_cb=1&per_page=1&leftBottomBounding=14.3718082299|50.3438327701&page=1&rightTopBounding=14.3718082299|50.3438327701'},\n",
       "  'rss': {'href': '/api/cs/v2/estates/rss?category_main_cb=1&category_type_cb=1&suggested_regionId=-1&suggested_districtId=-1'}},\n",
       " 'locality': 'okres Litoměřice',\n",
       " 'locality_dativ': 'na Litoměřicku',\n",
       " 'logged_in': False,\n",
       " 'per_page': 1,\n",
       " 'category_instrumental': 'výběrem či prodejem bytu',\n",
       " 'page': 1,\n",
       " 'filterLabels2': {'something_more3_3310': 'elevator',\n",
       "  'something_more1_3120': 'cellar',\n",
       "  'something_more1_3100': 'loggia',\n",
       "  'furnished_1': 'furnished',\n",
       "  'furnished_2': 'partly_furnished',\n",
       "  'furnished_3': 'not_furnished',\n",
       "  'building_condition_9': 'after_reconstruction',\n",
       "  'something_more2_3150': 'garage',\n",
       "  'something_more2_3130': 'basin',\n",
       "  'ownership_1': 'personal',\n",
       "  'ownership_3': 'state',\n",
       "  'ownership_2': 'collective',\n",
       "  'something_more3_1820': 'easy_access',\n",
       "  'energy_efficiency_rating_search_7': 'energy_rating_g',\n",
       "  'energy_efficiency_rating_search_6': 'energy_rating_f',\n",
       "  'energy_efficiency_rating_search_5': 'energy_rating_e',\n",
       "  'energy_efficiency_rating_search_4': 'energy_rating_d',\n",
       "  'energy_efficiency_rating_search_3': 'energy_rating_c',\n",
       "  'energy_efficiency_rating_search_2': 'energy_rating_b',\n",
       "  'energy_efficiency_rating_search_1': 'energy_rating_a',\n",
       "  'something_more1_3110': 'terrace',\n",
       "  'building_condition_6': 'new_building',\n",
       "  'something_more1_3090': 'balcony',\n",
       "  'building_condition_4': 'in_construction',\n",
       "  'building_type_search_3': 'other_sigular',\n",
       "  'something_more2_3120': 'cellar',\n",
       "  'building_type_search_1': 'panel',\n",
       "  'something_more2_3140': 'parking_lots',\n",
       "  'something_more1_200222': 'garden',\n",
       "  'building_type_search_2': 'brick'}}"
      ]
     },
     "execution_count": 2,
     "metadata": {},
     "output_type": "execute_result"
    }
   ],
   "source": [
    "# Just testing\n",
    "url_filter = f\"https://www.sreality.cz/api/cs/v2/estates?category_main_cb=1&category_type_cb=1&per_page=1&page=1\"\n",
    "result = requests.get(url_filter).json()\n",
    "result"
   ]
  },
  {
   "cell_type": "code",
   "execution_count": 3,
   "metadata": {},
   "outputs": [],
   "source": [
    "scraper = SrealityScraper()"
   ]
  },
  {
   "cell_type": "code",
   "execution_count": 4,
   "metadata": {},
   "outputs": [
    {
     "name": "stdout",
     "output_type": "stream",
     "text": [
      "2024-04-12 22:30:10\n",
      "number of ALL estates (Byt, Dům, Pronájem, Prodej): 94711\n",
      "we will scrape max 95 pages with 999 results each\n"
     ]
    },
    {
     "name": "stderr",
     "output_type": "stream",
     "text": [
      "100%|██████████| 95/95 [00:00<?, ?it/s]\n"
     ]
    },
    {
     "name": "stdout",
     "output_type": "stream",
     "text": [
      "['https://www.sreality.cz/api/cs/v2/estates?per_page=999&page=1', 'https://www.sreality.cz/api/cs/v2/estates?per_page=999&page=2', 'https://www.sreality.cz/api/cs/v2/estates?per_page=999&page=3', 'https://www.sreality.cz/api/cs/v2/estates?per_page=999&page=4', 'https://www.sreality.cz/api/cs/v2/estates?per_page=999&page=5', 'https://www.sreality.cz/api/cs/v2/estates?per_page=999&page=6', 'https://www.sreality.cz/api/cs/v2/estates?per_page=999&page=7', 'https://www.sreality.cz/api/cs/v2/estates?per_page=999&page=8', 'https://www.sreality.cz/api/cs/v2/estates?per_page=999&page=9', 'https://www.sreality.cz/api/cs/v2/estates?per_page=999&page=10', 'https://www.sreality.cz/api/cs/v2/estates?per_page=999&page=11', 'https://www.sreality.cz/api/cs/v2/estates?per_page=999&page=12', 'https://www.sreality.cz/api/cs/v2/estates?per_page=999&page=13', 'https://www.sreality.cz/api/cs/v2/estates?per_page=999&page=14', 'https://www.sreality.cz/api/cs/v2/estates?per_page=999&page=15', 'https://www.sreality.cz/api/cs/v2/estates?per_page=999&page=16', 'https://www.sreality.cz/api/cs/v2/estates?per_page=999&page=17', 'https://www.sreality.cz/api/cs/v2/estates?per_page=999&page=18', 'https://www.sreality.cz/api/cs/v2/estates?per_page=999&page=19', 'https://www.sreality.cz/api/cs/v2/estates?per_page=999&page=20', 'https://www.sreality.cz/api/cs/v2/estates?per_page=999&page=21', 'https://www.sreality.cz/api/cs/v2/estates?per_page=999&page=22', 'https://www.sreality.cz/api/cs/v2/estates?per_page=999&page=23', 'https://www.sreality.cz/api/cs/v2/estates?per_page=999&page=24', 'https://www.sreality.cz/api/cs/v2/estates?per_page=999&page=25', 'https://www.sreality.cz/api/cs/v2/estates?per_page=999&page=26', 'https://www.sreality.cz/api/cs/v2/estates?per_page=999&page=27', 'https://www.sreality.cz/api/cs/v2/estates?per_page=999&page=28', 'https://www.sreality.cz/api/cs/v2/estates?per_page=999&page=29', 'https://www.sreality.cz/api/cs/v2/estates?per_page=999&page=30', 'https://www.sreality.cz/api/cs/v2/estates?per_page=999&page=31', 'https://www.sreality.cz/api/cs/v2/estates?per_page=999&page=32', 'https://www.sreality.cz/api/cs/v2/estates?per_page=999&page=33', 'https://www.sreality.cz/api/cs/v2/estates?per_page=999&page=34', 'https://www.sreality.cz/api/cs/v2/estates?per_page=999&page=35', 'https://www.sreality.cz/api/cs/v2/estates?per_page=999&page=36', 'https://www.sreality.cz/api/cs/v2/estates?per_page=999&page=37', 'https://www.sreality.cz/api/cs/v2/estates?per_page=999&page=38', 'https://www.sreality.cz/api/cs/v2/estates?per_page=999&page=39', 'https://www.sreality.cz/api/cs/v2/estates?per_page=999&page=40', 'https://www.sreality.cz/api/cs/v2/estates?per_page=999&page=41', 'https://www.sreality.cz/api/cs/v2/estates?per_page=999&page=42', 'https://www.sreality.cz/api/cs/v2/estates?per_page=999&page=43', 'https://www.sreality.cz/api/cs/v2/estates?per_page=999&page=44', 'https://www.sreality.cz/api/cs/v2/estates?per_page=999&page=45', 'https://www.sreality.cz/api/cs/v2/estates?per_page=999&page=46', 'https://www.sreality.cz/api/cs/v2/estates?per_page=999&page=47', 'https://www.sreality.cz/api/cs/v2/estates?per_page=999&page=48', 'https://www.sreality.cz/api/cs/v2/estates?per_page=999&page=49', 'https://www.sreality.cz/api/cs/v2/estates?per_page=999&page=50', 'https://www.sreality.cz/api/cs/v2/estates?per_page=999&page=51', 'https://www.sreality.cz/api/cs/v2/estates?per_page=999&page=52', 'https://www.sreality.cz/api/cs/v2/estates?per_page=999&page=53', 'https://www.sreality.cz/api/cs/v2/estates?per_page=999&page=54', 'https://www.sreality.cz/api/cs/v2/estates?per_page=999&page=55', 'https://www.sreality.cz/api/cs/v2/estates?per_page=999&page=56', 'https://www.sreality.cz/api/cs/v2/estates?per_page=999&page=57', 'https://www.sreality.cz/api/cs/v2/estates?per_page=999&page=58', 'https://www.sreality.cz/api/cs/v2/estates?per_page=999&page=59', 'https://www.sreality.cz/api/cs/v2/estates?per_page=999&page=60', 'https://www.sreality.cz/api/cs/v2/estates?per_page=999&page=61', 'https://www.sreality.cz/api/cs/v2/estates?per_page=999&page=62', 'https://www.sreality.cz/api/cs/v2/estates?per_page=999&page=63', 'https://www.sreality.cz/api/cs/v2/estates?per_page=999&page=64', 'https://www.sreality.cz/api/cs/v2/estates?per_page=999&page=65', 'https://www.sreality.cz/api/cs/v2/estates?per_page=999&page=66', 'https://www.sreality.cz/api/cs/v2/estates?per_page=999&page=67', 'https://www.sreality.cz/api/cs/v2/estates?per_page=999&page=68', 'https://www.sreality.cz/api/cs/v2/estates?per_page=999&page=69', 'https://www.sreality.cz/api/cs/v2/estates?per_page=999&page=70', 'https://www.sreality.cz/api/cs/v2/estates?per_page=999&page=71', 'https://www.sreality.cz/api/cs/v2/estates?per_page=999&page=72', 'https://www.sreality.cz/api/cs/v2/estates?per_page=999&page=73', 'https://www.sreality.cz/api/cs/v2/estates?per_page=999&page=74', 'https://www.sreality.cz/api/cs/v2/estates?per_page=999&page=75', 'https://www.sreality.cz/api/cs/v2/estates?per_page=999&page=76', 'https://www.sreality.cz/api/cs/v2/estates?per_page=999&page=77', 'https://www.sreality.cz/api/cs/v2/estates?per_page=999&page=78', 'https://www.sreality.cz/api/cs/v2/estates?per_page=999&page=79', 'https://www.sreality.cz/api/cs/v2/estates?per_page=999&page=80', 'https://www.sreality.cz/api/cs/v2/estates?per_page=999&page=81', 'https://www.sreality.cz/api/cs/v2/estates?per_page=999&page=82', 'https://www.sreality.cz/api/cs/v2/estates?per_page=999&page=83', 'https://www.sreality.cz/api/cs/v2/estates?per_page=999&page=84', 'https://www.sreality.cz/api/cs/v2/estates?per_page=999&page=85', 'https://www.sreality.cz/api/cs/v2/estates?per_page=999&page=86', 'https://www.sreality.cz/api/cs/v2/estates?per_page=999&page=87', 'https://www.sreality.cz/api/cs/v2/estates?per_page=999&page=88', 'https://www.sreality.cz/api/cs/v2/estates?per_page=999&page=89', 'https://www.sreality.cz/api/cs/v2/estates?per_page=999&page=90', 'https://www.sreality.cz/api/cs/v2/estates?per_page=999&page=91', 'https://www.sreality.cz/api/cs/v2/estates?per_page=999&page=92', 'https://www.sreality.cz/api/cs/v2/estates?per_page=999&page=93', 'https://www.sreality.cz/api/cs/v2/estates?per_page=999&page=94', 'https://www.sreality.cz/api/cs/v2/estates?per_page=999&page=95']\n"
     ]
    },
    {
     "name": "stderr",
     "output_type": "stream",
     "text": [
      "100%|██████████| 95/95 [04:33<00:00,  2.88s/it]"
     ]
    },
    {
     "name": "stdout",
     "output_type": "stream",
     "text": [
      "59940\n"
     ]
    },
    {
     "name": "stderr",
     "output_type": "stream",
     "text": [
      "\n"
     ]
    }
   ],
   "source": [
    "data_all = scraper.run_scraping()"
   ]
  },
  {
   "cell_type": "code",
   "execution_count": 8,
   "metadata": {},
   "outputs": [
    {
     "name": "stdout",
     "output_type": "stream",
     "text": [
      "59940\n"
     ]
    },
    {
     "data": {
      "text/html": [
       "<div>\n",
       "<style scoped>\n",
       "    .dataframe tbody tr th:only-of-type {\n",
       "        vertical-align: middle;\n",
       "    }\n",
       "\n",
       "    .dataframe tbody tr th {\n",
       "        vertical-align: top;\n",
       "    }\n",
       "\n",
       "    .dataframe thead th {\n",
       "        text-align: right;\n",
       "    }\n",
       "</style>\n",
       "<table border=\"1\" class=\"dataframe\">\n",
       "  <thead>\n",
       "    <tr style=\"text-align: right;\">\n",
       "      <th></th>\n",
       "      <th>code</th>\n",
       "      <th>name</th>\n",
       "      <th>category_main_cb</th>\n",
       "      <th>category_type_cb</th>\n",
       "      <th>category_sub_cb</th>\n",
       "      <th>rooms</th>\n",
       "      <th>size_meters</th>\n",
       "      <th>locality</th>\n",
       "      <th>latitude</th>\n",
       "      <th>longitude</th>\n",
       "      <th>price</th>\n",
       "      <th>timestamp</th>\n",
       "    </tr>\n",
       "  </thead>\n",
       "  <tbody>\n",
       "    <tr>\n",
       "      <th>59938</th>\n",
       "      <td>3727271244</td>\n",
       "      <td>Prodej komerční nemovitosti 341 m²</td>\n",
       "      <td>4</td>\n",
       "      <td>1</td>\n",
       "      <td>32</td>\n",
       "      <td>-</td>\n",
       "      <td>-</td>\n",
       "      <td>prerov-prerov-ii-predmosti-</td>\n",
       "      <td>49.453303</td>\n",
       "      <td>17.451581</td>\n",
       "      <td>2489000</td>\n",
       "      <td>2024-04-12 22:30:10</td>\n",
       "    </tr>\n",
       "    <tr>\n",
       "      <th>59939</th>\n",
       "      <td>3580376396</td>\n",
       "      <td>Prodej  lesa 1 424 m²</td>\n",
       "      <td>3</td>\n",
       "      <td>1</td>\n",
       "      <td>21</td>\n",
       "      <td>-</td>\n",
       "      <td>-</td>\n",
       "      <td>orlova--</td>\n",
       "      <td>49.831046</td>\n",
       "      <td>18.444337</td>\n",
       "      <td>85000</td>\n",
       "      <td>2024-04-12 22:30:10</td>\n",
       "    </tr>\n",
       "  </tbody>\n",
       "</table>\n",
       "</div>"
      ],
      "text/plain": [
       "             code                                name  category_main_cb  \\\n",
       "59938  3727271244  Prodej komerční nemovitosti 341 m²                 4   \n",
       "59939  3580376396               Prodej  lesa 1 424 m²                 3   \n",
       "\n",
       "       category_type_cb  category_sub_cb rooms size_meters  \\\n",
       "59938                 1               32     -           -   \n",
       "59939                 1               21     -           -   \n",
       "\n",
       "                          locality   latitude  longitude    price  \\\n",
       "59938  prerov-prerov-ii-predmosti-  49.453303  17.451581  2489000   \n",
       "59939                     orlova--  49.831046  18.444337    85000   \n",
       "\n",
       "                 timestamp  \n",
       "59938  2024-04-12 22:30:10  \n",
       "59939  2024-04-12 22:30:10  "
      ]
     },
     "metadata": {},
     "output_type": "display_data"
    }
   ],
   "source": [
    "df_data_all = pd.DataFrame(data_all)\n",
    "print(len(df_data_all))\n",
    "display(df_data_all.tail(2))\n",
    "#df_data_all.to_csv(\"data_2024/data_all_2024MMDD_HHMM.csv\", sep=\";\", encoding=\"utf-8\")"
   ]
  },
  {
   "cell_type": "code",
   "execution_count": 6,
   "metadata": {},
   "outputs": [
    {
     "name": "stdout",
     "output_type": "stream",
     "text": [
      "2024-04-12 22:34:45\n",
      "number of ALL estates (Byt, Dům, Pronájem, Prodej): 94721\n",
      "we will scrape max 95 pages with 999 results each\n"
     ]
    },
    {
     "name": "stderr",
     "output_type": "stream",
     "text": [
      "100%|██████████| 95/95 [00:00<?, ?it/s]\n"
     ]
    },
    {
     "name": "stdout",
     "output_type": "stream",
     "text": [
      "['https://www.sreality.cz/api/cs/v2/estates?category_main_cb=1&category_type_cb=1&per_page=999&page=1', 'https://www.sreality.cz/api/cs/v2/estates?category_main_cb=1&category_type_cb=1&per_page=999&page=2', 'https://www.sreality.cz/api/cs/v2/estates?category_main_cb=1&category_type_cb=1&per_page=999&page=3', 'https://www.sreality.cz/api/cs/v2/estates?category_main_cb=1&category_type_cb=1&per_page=999&page=4', 'https://www.sreality.cz/api/cs/v2/estates?category_main_cb=1&category_type_cb=1&per_page=999&page=5', 'https://www.sreality.cz/api/cs/v2/estates?category_main_cb=1&category_type_cb=1&per_page=999&page=6', 'https://www.sreality.cz/api/cs/v2/estates?category_main_cb=1&category_type_cb=1&per_page=999&page=7', 'https://www.sreality.cz/api/cs/v2/estates?category_main_cb=1&category_type_cb=1&per_page=999&page=8', 'https://www.sreality.cz/api/cs/v2/estates?category_main_cb=1&category_type_cb=1&per_page=999&page=9', 'https://www.sreality.cz/api/cs/v2/estates?category_main_cb=1&category_type_cb=1&per_page=999&page=10', 'https://www.sreality.cz/api/cs/v2/estates?category_main_cb=1&category_type_cb=1&per_page=999&page=11', 'https://www.sreality.cz/api/cs/v2/estates?category_main_cb=1&category_type_cb=1&per_page=999&page=12', 'https://www.sreality.cz/api/cs/v2/estates?category_main_cb=1&category_type_cb=1&per_page=999&page=13', 'https://www.sreality.cz/api/cs/v2/estates?category_main_cb=1&category_type_cb=1&per_page=999&page=14', 'https://www.sreality.cz/api/cs/v2/estates?category_main_cb=1&category_type_cb=1&per_page=999&page=15', 'https://www.sreality.cz/api/cs/v2/estates?category_main_cb=1&category_type_cb=1&per_page=999&page=16', 'https://www.sreality.cz/api/cs/v2/estates?category_main_cb=1&category_type_cb=1&per_page=999&page=17', 'https://www.sreality.cz/api/cs/v2/estates?category_main_cb=1&category_type_cb=1&per_page=999&page=18', 'https://www.sreality.cz/api/cs/v2/estates?category_main_cb=1&category_type_cb=1&per_page=999&page=19', 'https://www.sreality.cz/api/cs/v2/estates?category_main_cb=1&category_type_cb=1&per_page=999&page=20', 'https://www.sreality.cz/api/cs/v2/estates?category_main_cb=1&category_type_cb=1&per_page=999&page=21', 'https://www.sreality.cz/api/cs/v2/estates?category_main_cb=1&category_type_cb=1&per_page=999&page=22', 'https://www.sreality.cz/api/cs/v2/estates?category_main_cb=1&category_type_cb=1&per_page=999&page=23', 'https://www.sreality.cz/api/cs/v2/estates?category_main_cb=1&category_type_cb=1&per_page=999&page=24', 'https://www.sreality.cz/api/cs/v2/estates?category_main_cb=1&category_type_cb=1&per_page=999&page=25', 'https://www.sreality.cz/api/cs/v2/estates?category_main_cb=1&category_type_cb=1&per_page=999&page=26', 'https://www.sreality.cz/api/cs/v2/estates?category_main_cb=1&category_type_cb=1&per_page=999&page=27', 'https://www.sreality.cz/api/cs/v2/estates?category_main_cb=1&category_type_cb=1&per_page=999&page=28', 'https://www.sreality.cz/api/cs/v2/estates?category_main_cb=1&category_type_cb=1&per_page=999&page=29', 'https://www.sreality.cz/api/cs/v2/estates?category_main_cb=1&category_type_cb=1&per_page=999&page=30', 'https://www.sreality.cz/api/cs/v2/estates?category_main_cb=1&category_type_cb=1&per_page=999&page=31', 'https://www.sreality.cz/api/cs/v2/estates?category_main_cb=1&category_type_cb=1&per_page=999&page=32', 'https://www.sreality.cz/api/cs/v2/estates?category_main_cb=1&category_type_cb=1&per_page=999&page=33', 'https://www.sreality.cz/api/cs/v2/estates?category_main_cb=1&category_type_cb=1&per_page=999&page=34', 'https://www.sreality.cz/api/cs/v2/estates?category_main_cb=1&category_type_cb=1&per_page=999&page=35', 'https://www.sreality.cz/api/cs/v2/estates?category_main_cb=1&category_type_cb=1&per_page=999&page=36', 'https://www.sreality.cz/api/cs/v2/estates?category_main_cb=1&category_type_cb=1&per_page=999&page=37', 'https://www.sreality.cz/api/cs/v2/estates?category_main_cb=1&category_type_cb=1&per_page=999&page=38', 'https://www.sreality.cz/api/cs/v2/estates?category_main_cb=1&category_type_cb=1&per_page=999&page=39', 'https://www.sreality.cz/api/cs/v2/estates?category_main_cb=1&category_type_cb=1&per_page=999&page=40', 'https://www.sreality.cz/api/cs/v2/estates?category_main_cb=1&category_type_cb=1&per_page=999&page=41', 'https://www.sreality.cz/api/cs/v2/estates?category_main_cb=1&category_type_cb=1&per_page=999&page=42', 'https://www.sreality.cz/api/cs/v2/estates?category_main_cb=1&category_type_cb=1&per_page=999&page=43', 'https://www.sreality.cz/api/cs/v2/estates?category_main_cb=1&category_type_cb=1&per_page=999&page=44', 'https://www.sreality.cz/api/cs/v2/estates?category_main_cb=1&category_type_cb=1&per_page=999&page=45', 'https://www.sreality.cz/api/cs/v2/estates?category_main_cb=1&category_type_cb=1&per_page=999&page=46', 'https://www.sreality.cz/api/cs/v2/estates?category_main_cb=1&category_type_cb=1&per_page=999&page=47', 'https://www.sreality.cz/api/cs/v2/estates?category_main_cb=1&category_type_cb=1&per_page=999&page=48', 'https://www.sreality.cz/api/cs/v2/estates?category_main_cb=1&category_type_cb=1&per_page=999&page=49', 'https://www.sreality.cz/api/cs/v2/estates?category_main_cb=1&category_type_cb=1&per_page=999&page=50', 'https://www.sreality.cz/api/cs/v2/estates?category_main_cb=1&category_type_cb=1&per_page=999&page=51', 'https://www.sreality.cz/api/cs/v2/estates?category_main_cb=1&category_type_cb=1&per_page=999&page=52', 'https://www.sreality.cz/api/cs/v2/estates?category_main_cb=1&category_type_cb=1&per_page=999&page=53', 'https://www.sreality.cz/api/cs/v2/estates?category_main_cb=1&category_type_cb=1&per_page=999&page=54', 'https://www.sreality.cz/api/cs/v2/estates?category_main_cb=1&category_type_cb=1&per_page=999&page=55', 'https://www.sreality.cz/api/cs/v2/estates?category_main_cb=1&category_type_cb=1&per_page=999&page=56', 'https://www.sreality.cz/api/cs/v2/estates?category_main_cb=1&category_type_cb=1&per_page=999&page=57', 'https://www.sreality.cz/api/cs/v2/estates?category_main_cb=1&category_type_cb=1&per_page=999&page=58', 'https://www.sreality.cz/api/cs/v2/estates?category_main_cb=1&category_type_cb=1&per_page=999&page=59', 'https://www.sreality.cz/api/cs/v2/estates?category_main_cb=1&category_type_cb=1&per_page=999&page=60', 'https://www.sreality.cz/api/cs/v2/estates?category_main_cb=1&category_type_cb=1&per_page=999&page=61', 'https://www.sreality.cz/api/cs/v2/estates?category_main_cb=1&category_type_cb=1&per_page=999&page=62', 'https://www.sreality.cz/api/cs/v2/estates?category_main_cb=1&category_type_cb=1&per_page=999&page=63', 'https://www.sreality.cz/api/cs/v2/estates?category_main_cb=1&category_type_cb=1&per_page=999&page=64', 'https://www.sreality.cz/api/cs/v2/estates?category_main_cb=1&category_type_cb=1&per_page=999&page=65', 'https://www.sreality.cz/api/cs/v2/estates?category_main_cb=1&category_type_cb=1&per_page=999&page=66', 'https://www.sreality.cz/api/cs/v2/estates?category_main_cb=1&category_type_cb=1&per_page=999&page=67', 'https://www.sreality.cz/api/cs/v2/estates?category_main_cb=1&category_type_cb=1&per_page=999&page=68', 'https://www.sreality.cz/api/cs/v2/estates?category_main_cb=1&category_type_cb=1&per_page=999&page=69', 'https://www.sreality.cz/api/cs/v2/estates?category_main_cb=1&category_type_cb=1&per_page=999&page=70', 'https://www.sreality.cz/api/cs/v2/estates?category_main_cb=1&category_type_cb=1&per_page=999&page=71', 'https://www.sreality.cz/api/cs/v2/estates?category_main_cb=1&category_type_cb=1&per_page=999&page=72', 'https://www.sreality.cz/api/cs/v2/estates?category_main_cb=1&category_type_cb=1&per_page=999&page=73', 'https://www.sreality.cz/api/cs/v2/estates?category_main_cb=1&category_type_cb=1&per_page=999&page=74', 'https://www.sreality.cz/api/cs/v2/estates?category_main_cb=1&category_type_cb=1&per_page=999&page=75', 'https://www.sreality.cz/api/cs/v2/estates?category_main_cb=1&category_type_cb=1&per_page=999&page=76', 'https://www.sreality.cz/api/cs/v2/estates?category_main_cb=1&category_type_cb=1&per_page=999&page=77', 'https://www.sreality.cz/api/cs/v2/estates?category_main_cb=1&category_type_cb=1&per_page=999&page=78', 'https://www.sreality.cz/api/cs/v2/estates?category_main_cb=1&category_type_cb=1&per_page=999&page=79', 'https://www.sreality.cz/api/cs/v2/estates?category_main_cb=1&category_type_cb=1&per_page=999&page=80', 'https://www.sreality.cz/api/cs/v2/estates?category_main_cb=1&category_type_cb=1&per_page=999&page=81', 'https://www.sreality.cz/api/cs/v2/estates?category_main_cb=1&category_type_cb=1&per_page=999&page=82', 'https://www.sreality.cz/api/cs/v2/estates?category_main_cb=1&category_type_cb=1&per_page=999&page=83', 'https://www.sreality.cz/api/cs/v2/estates?category_main_cb=1&category_type_cb=1&per_page=999&page=84', 'https://www.sreality.cz/api/cs/v2/estates?category_main_cb=1&category_type_cb=1&per_page=999&page=85', 'https://www.sreality.cz/api/cs/v2/estates?category_main_cb=1&category_type_cb=1&per_page=999&page=86', 'https://www.sreality.cz/api/cs/v2/estates?category_main_cb=1&category_type_cb=1&per_page=999&page=87', 'https://www.sreality.cz/api/cs/v2/estates?category_main_cb=1&category_type_cb=1&per_page=999&page=88', 'https://www.sreality.cz/api/cs/v2/estates?category_main_cb=1&category_type_cb=1&per_page=999&page=89', 'https://www.sreality.cz/api/cs/v2/estates?category_main_cb=1&category_type_cb=1&per_page=999&page=90', 'https://www.sreality.cz/api/cs/v2/estates?category_main_cb=1&category_type_cb=1&per_page=999&page=91', 'https://www.sreality.cz/api/cs/v2/estates?category_main_cb=1&category_type_cb=1&per_page=999&page=92', 'https://www.sreality.cz/api/cs/v2/estates?category_main_cb=1&category_type_cb=1&per_page=999&page=93', 'https://www.sreality.cz/api/cs/v2/estates?category_main_cb=1&category_type_cb=1&per_page=999&page=94', 'https://www.sreality.cz/api/cs/v2/estates?category_main_cb=1&category_type_cb=1&per_page=999&page=95']\n"
     ]
    },
    {
     "name": "stderr",
     "output_type": "stream",
     "text": [
      "100%|██████████| 95/95 [02:13<00:00,  1.41s/it]"
     ]
    },
    {
     "name": "stdout",
     "output_type": "stream",
     "text": [
      "17035\n"
     ]
    },
    {
     "name": "stderr",
     "output_type": "stream",
     "text": [
      "\n"
     ]
    }
   ],
   "source": [
    "data_prodej_byty = scraper.run_scraping(\n",
    "    category_main_cb=1,\n",
    "    category_type_cb=1)"
   ]
  },
  {
   "cell_type": "code",
   "execution_count": 9,
   "metadata": {},
   "outputs": [
    {
     "name": "stdout",
     "output_type": "stream",
     "text": [
      "17035\n"
     ]
    },
    {
     "data": {
      "text/html": [
       "<div>\n",
       "<style scoped>\n",
       "    .dataframe tbody tr th:only-of-type {\n",
       "        vertical-align: middle;\n",
       "    }\n",
       "\n",
       "    .dataframe tbody tr th {\n",
       "        vertical-align: top;\n",
       "    }\n",
       "\n",
       "    .dataframe thead th {\n",
       "        text-align: right;\n",
       "    }\n",
       "</style>\n",
       "<table border=\"1\" class=\"dataframe\">\n",
       "  <thead>\n",
       "    <tr style=\"text-align: right;\">\n",
       "      <th></th>\n",
       "      <th>code</th>\n",
       "      <th>name</th>\n",
       "      <th>category_main_cb</th>\n",
       "      <th>category_type_cb</th>\n",
       "      <th>category_sub_cb</th>\n",
       "      <th>rooms</th>\n",
       "      <th>size_meters</th>\n",
       "      <th>locality</th>\n",
       "      <th>latitude</th>\n",
       "      <th>longitude</th>\n",
       "      <th>price</th>\n",
       "      <th>timestamp</th>\n",
       "    </tr>\n",
       "  </thead>\n",
       "  <tbody>\n",
       "    <tr>\n",
       "      <th>17033</th>\n",
       "      <td>1653154140</td>\n",
       "      <td>Prodej bytu 4+kk 133 m²</td>\n",
       "      <td>1</td>\n",
       "      <td>1</td>\n",
       "      <td>8</td>\n",
       "      <td>4+kk</td>\n",
       "      <td>133.0</td>\n",
       "      <td>karlovy-vary-karlovy-vary-sadova</td>\n",
       "      <td>50.211513</td>\n",
       "      <td>12.891439</td>\n",
       "      <td>11366000</td>\n",
       "      <td>2024-04-12 22:34:45</td>\n",
       "    </tr>\n",
       "    <tr>\n",
       "      <th>17034</th>\n",
       "      <td>1673015644</td>\n",
       "      <td>Prodej bytu atypické 88 m² (Podkrovní)</td>\n",
       "      <td>1</td>\n",
       "      <td>1</td>\n",
       "      <td>16</td>\n",
       "      <td>atypické</td>\n",
       "      <td>88.0</td>\n",
       "      <td>stachy-stachy-zadov</td>\n",
       "      <td>49.063251</td>\n",
       "      <td>13.648416</td>\n",
       "      <td>8535000</td>\n",
       "      <td>2024-04-12 22:34:45</td>\n",
       "    </tr>\n",
       "  </tbody>\n",
       "</table>\n",
       "</div>"
      ],
      "text/plain": [
       "             code                                    name  category_main_cb  \\\n",
       "17033  1653154140                 Prodej bytu 4+kk 133 m²                 1   \n",
       "17034  1673015644  Prodej bytu atypické 88 m² (Podkrovní)                 1   \n",
       "\n",
       "       category_type_cb  category_sub_cb     rooms size_meters  \\\n",
       "17033                 1                8      4+kk       133.0   \n",
       "17034                 1               16  atypické        88.0   \n",
       "\n",
       "                               locality   latitude  longitude     price  \\\n",
       "17033  karlovy-vary-karlovy-vary-sadova  50.211513  12.891439  11366000   \n",
       "17034               stachy-stachy-zadov  49.063251  13.648416   8535000   \n",
       "\n",
       "                 timestamp  \n",
       "17033  2024-04-12 22:34:45  \n",
       "17034  2024-04-12 22:34:45  "
      ]
     },
     "metadata": {},
     "output_type": "display_data"
    }
   ],
   "source": [
    "df_data_prodej_byty = pd.DataFrame(data_prodej_byty)\n",
    "print(len(df_data_prodej_byty))\n",
    "display(df_data_prodej_byty.tail(2))\n",
    "#df_data_prodej_byty.to_csv(\"data_2024/data_2024MMDD_HHMM.csv\", sep=\";\", encoding=\"utf-8\")\n"
   ]
  },
  {
   "cell_type": "markdown",
   "metadata": {},
   "source": [
    "### DF_ALL stats"
   ]
  },
  {
   "cell_type": "code",
   "execution_count": null,
   "metadata": {},
   "outputs": [],
   "source": [
    "df_data_all[\"category_main_cb\"].value_counts()"
   ]
  },
  {
   "cell_type": "code",
   "execution_count": null,
   "metadata": {},
   "outputs": [],
   "source": [
    "df_data_all[\"category_type_cb\"].value_counts()"
   ]
  },
  {
   "cell_type": "code",
   "execution_count": null,
   "metadata": {},
   "outputs": [],
   "source": [
    "df_data_all[\"category_sub_cb\"].value_counts()"
   ]
  },
  {
   "cell_type": "markdown",
   "metadata": {},
   "source": [
    "## TO DO - DB"
   ]
  },
  {
   "cell_type": "code",
   "execution_count": null,
   "metadata": {},
   "outputs": [],
   "source": [
    "source_file = f'./all_data.db'\n",
    "conn = sqlite3.connect(source_file)\n",
    "query = \"SELECT * FROM scraped_offers\"\n",
    "df = pd.read_sql_query(query, conn)\n",
    "display(df)\n",
    "conn.close()"
   ]
  },
  {
   "cell_type": "code",
   "execution_count": null,
   "metadata": {},
   "outputs": [],
   "source": []
  }
 ],
 "metadata": {
  "kernelspec": {
   "display_name": "Sreality2024",
   "language": "python",
   "name": "python3"
  },
  "language_info": {
   "codemirror_mode": {
    "name": "ipython",
    "version": 3
   },
   "file_extension": ".py",
   "mimetype": "text/x-python",
   "name": "python",
   "nbconvert_exporter": "python",
   "pygments_lexer": "ipython3",
   "version": "3.11.7"
  }
 },
 "nbformat": 4,
 "nbformat_minor": 2
}

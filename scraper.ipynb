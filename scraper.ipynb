{
 "cells": [
  {
   "cell_type": "markdown",
   "metadata": {},
   "source": [
    "-----------------------\n",
    "## 1) New way of scraping  11.4.2024\n",
    "-----------------------"
   ]
  },
  {
   "cell_type": "code",
   "execution_count": 1,
   "metadata": {},
   "outputs": [],
   "source": [
    "from datetime import datetime\n",
    "import pandas as pd\n",
    "from tqdm import tqdm  \n",
    "import requests \n",
    "\n",
    "import os\n",
    "os.chdir(\"c:\\\\Users\\\\jirka\\\\Documents\\\\MyProjects\\\\Sreality\")\n",
    "from scraper.scraper import SrealityScraper\n",
    "from etl.data_manager import DataManager\n"
   ]
  },
  {
   "cell_type": "code",
   "execution_count": 32,
   "metadata": {},
   "outputs": [
    {
     "data": {
      "text/plain": [
       "{'logged_in': False,\n",
       " 'result_size': 93926,\n",
       " '_links': {'self': {'profile': '/estates/count/doc',\n",
       "   'href': '/cs/v2/estates/count',\n",
       "   'title': 'Estate count'}}}"
      ]
     },
     "execution_count": 32,
     "metadata": {},
     "output_type": "execute_result"
    }
   ],
   "source": [
    "with requests.Session() as session:\n",
    "    result =  session.request(method=\"GET\", url=\"https://www.sreality.cz/api/cs/v2/estates/count\").json()\n",
    "result"
   ]
  },
  {
   "cell_type": "code",
   "execution_count": null,
   "metadata": {},
   "outputs": [],
   "source": [
    "# Just testing\n",
    "url_filter = f\"https://www.sreality.cz/api/cs/v2/estates?category_main_cb=1&category_type_cb=1&per_page=1&page=1\"\n",
    "with requests.Session() as session:\n",
    "    result =  session.request(method=\"GET\", url=url_filter).json()\n",
    "result"
   ]
  },
  {
   "cell_type": "code",
   "execution_count": 33,
   "metadata": {},
   "outputs": [],
   "source": [
    "scraper = SrealityScraper()"
   ]
  },
  {
   "cell_type": "code",
   "execution_count": 35,
   "metadata": {},
   "outputs": [
    {
     "name": "stdout",
     "output_type": "stream",
     "text": [
      "2024-04-16 01:12:05\n",
      "number of ALL estates (Byt, Dům, Pronájem, Prodej): 93926\n",
      "we will scrape max 95 pages with 999 results each\n"
     ]
    },
    {
     "name": "stderr",
     "output_type": "stream",
     "text": [
      "100%|██████████| 95/95 [00:00<?, ?it/s]\n"
     ]
    },
    {
     "name": "stdout",
     "output_type": "stream",
     "text": [
      "['https://www.sreality.cz/api/cs/v2/estates?per_page=999&page=1', 'https://www.sreality.cz/api/cs/v2/estates?per_page=999&page=2', 'https://www.sreality.cz/api/cs/v2/estates?per_page=999&page=3', 'https://www.sreality.cz/api/cs/v2/estates?per_page=999&page=4', 'https://www.sreality.cz/api/cs/v2/estates?per_page=999&page=5', 'https://www.sreality.cz/api/cs/v2/estates?per_page=999&page=6', 'https://www.sreality.cz/api/cs/v2/estates?per_page=999&page=7', 'https://www.sreality.cz/api/cs/v2/estates?per_page=999&page=8', 'https://www.sreality.cz/api/cs/v2/estates?per_page=999&page=9', 'https://www.sreality.cz/api/cs/v2/estates?per_page=999&page=10', 'https://www.sreality.cz/api/cs/v2/estates?per_page=999&page=11', 'https://www.sreality.cz/api/cs/v2/estates?per_page=999&page=12', 'https://www.sreality.cz/api/cs/v2/estates?per_page=999&page=13', 'https://www.sreality.cz/api/cs/v2/estates?per_page=999&page=14', 'https://www.sreality.cz/api/cs/v2/estates?per_page=999&page=15', 'https://www.sreality.cz/api/cs/v2/estates?per_page=999&page=16', 'https://www.sreality.cz/api/cs/v2/estates?per_page=999&page=17', 'https://www.sreality.cz/api/cs/v2/estates?per_page=999&page=18', 'https://www.sreality.cz/api/cs/v2/estates?per_page=999&page=19', 'https://www.sreality.cz/api/cs/v2/estates?per_page=999&page=20', 'https://www.sreality.cz/api/cs/v2/estates?per_page=999&page=21', 'https://www.sreality.cz/api/cs/v2/estates?per_page=999&page=22', 'https://www.sreality.cz/api/cs/v2/estates?per_page=999&page=23', 'https://www.sreality.cz/api/cs/v2/estates?per_page=999&page=24', 'https://www.sreality.cz/api/cs/v2/estates?per_page=999&page=25', 'https://www.sreality.cz/api/cs/v2/estates?per_page=999&page=26', 'https://www.sreality.cz/api/cs/v2/estates?per_page=999&page=27', 'https://www.sreality.cz/api/cs/v2/estates?per_page=999&page=28', 'https://www.sreality.cz/api/cs/v2/estates?per_page=999&page=29', 'https://www.sreality.cz/api/cs/v2/estates?per_page=999&page=30', 'https://www.sreality.cz/api/cs/v2/estates?per_page=999&page=31', 'https://www.sreality.cz/api/cs/v2/estates?per_page=999&page=32', 'https://www.sreality.cz/api/cs/v2/estates?per_page=999&page=33', 'https://www.sreality.cz/api/cs/v2/estates?per_page=999&page=34', 'https://www.sreality.cz/api/cs/v2/estates?per_page=999&page=35', 'https://www.sreality.cz/api/cs/v2/estates?per_page=999&page=36', 'https://www.sreality.cz/api/cs/v2/estates?per_page=999&page=37', 'https://www.sreality.cz/api/cs/v2/estates?per_page=999&page=38', 'https://www.sreality.cz/api/cs/v2/estates?per_page=999&page=39', 'https://www.sreality.cz/api/cs/v2/estates?per_page=999&page=40', 'https://www.sreality.cz/api/cs/v2/estates?per_page=999&page=41', 'https://www.sreality.cz/api/cs/v2/estates?per_page=999&page=42', 'https://www.sreality.cz/api/cs/v2/estates?per_page=999&page=43', 'https://www.sreality.cz/api/cs/v2/estates?per_page=999&page=44', 'https://www.sreality.cz/api/cs/v2/estates?per_page=999&page=45', 'https://www.sreality.cz/api/cs/v2/estates?per_page=999&page=46', 'https://www.sreality.cz/api/cs/v2/estates?per_page=999&page=47', 'https://www.sreality.cz/api/cs/v2/estates?per_page=999&page=48', 'https://www.sreality.cz/api/cs/v2/estates?per_page=999&page=49', 'https://www.sreality.cz/api/cs/v2/estates?per_page=999&page=50', 'https://www.sreality.cz/api/cs/v2/estates?per_page=999&page=51', 'https://www.sreality.cz/api/cs/v2/estates?per_page=999&page=52', 'https://www.sreality.cz/api/cs/v2/estates?per_page=999&page=53', 'https://www.sreality.cz/api/cs/v2/estates?per_page=999&page=54', 'https://www.sreality.cz/api/cs/v2/estates?per_page=999&page=55', 'https://www.sreality.cz/api/cs/v2/estates?per_page=999&page=56', 'https://www.sreality.cz/api/cs/v2/estates?per_page=999&page=57', 'https://www.sreality.cz/api/cs/v2/estates?per_page=999&page=58', 'https://www.sreality.cz/api/cs/v2/estates?per_page=999&page=59', 'https://www.sreality.cz/api/cs/v2/estates?per_page=999&page=60', 'https://www.sreality.cz/api/cs/v2/estates?per_page=999&page=61', 'https://www.sreality.cz/api/cs/v2/estates?per_page=999&page=62', 'https://www.sreality.cz/api/cs/v2/estates?per_page=999&page=63', 'https://www.sreality.cz/api/cs/v2/estates?per_page=999&page=64', 'https://www.sreality.cz/api/cs/v2/estates?per_page=999&page=65', 'https://www.sreality.cz/api/cs/v2/estates?per_page=999&page=66', 'https://www.sreality.cz/api/cs/v2/estates?per_page=999&page=67', 'https://www.sreality.cz/api/cs/v2/estates?per_page=999&page=68', 'https://www.sreality.cz/api/cs/v2/estates?per_page=999&page=69', 'https://www.sreality.cz/api/cs/v2/estates?per_page=999&page=70', 'https://www.sreality.cz/api/cs/v2/estates?per_page=999&page=71', 'https://www.sreality.cz/api/cs/v2/estates?per_page=999&page=72', 'https://www.sreality.cz/api/cs/v2/estates?per_page=999&page=73', 'https://www.sreality.cz/api/cs/v2/estates?per_page=999&page=74', 'https://www.sreality.cz/api/cs/v2/estates?per_page=999&page=75', 'https://www.sreality.cz/api/cs/v2/estates?per_page=999&page=76', 'https://www.sreality.cz/api/cs/v2/estates?per_page=999&page=77', 'https://www.sreality.cz/api/cs/v2/estates?per_page=999&page=78', 'https://www.sreality.cz/api/cs/v2/estates?per_page=999&page=79', 'https://www.sreality.cz/api/cs/v2/estates?per_page=999&page=80', 'https://www.sreality.cz/api/cs/v2/estates?per_page=999&page=81', 'https://www.sreality.cz/api/cs/v2/estates?per_page=999&page=82', 'https://www.sreality.cz/api/cs/v2/estates?per_page=999&page=83', 'https://www.sreality.cz/api/cs/v2/estates?per_page=999&page=84', 'https://www.sreality.cz/api/cs/v2/estates?per_page=999&page=85', 'https://www.sreality.cz/api/cs/v2/estates?per_page=999&page=86', 'https://www.sreality.cz/api/cs/v2/estates?per_page=999&page=87', 'https://www.sreality.cz/api/cs/v2/estates?per_page=999&page=88', 'https://www.sreality.cz/api/cs/v2/estates?per_page=999&page=89', 'https://www.sreality.cz/api/cs/v2/estates?per_page=999&page=90', 'https://www.sreality.cz/api/cs/v2/estates?per_page=999&page=91', 'https://www.sreality.cz/api/cs/v2/estates?per_page=999&page=92', 'https://www.sreality.cz/api/cs/v2/estates?per_page=999&page=93', 'https://www.sreality.cz/api/cs/v2/estates?per_page=999&page=94', 'https://www.sreality.cz/api/cs/v2/estates?per_page=999&page=95']\n"
     ]
    },
    {
     "name": "stderr",
     "output_type": "stream",
     "text": [
      "100%|██████████| 95/95 [04:29<00:00,  2.83s/it]"
     ]
    },
    {
     "name": "stdout",
     "output_type": "stream",
     "text": [
      "59940\n"
     ]
    },
    {
     "name": "stderr",
     "output_type": "stream",
     "text": [
      "\n"
     ]
    }
   ],
   "source": [
    "data_all = scraper.run_scraping()"
   ]
  },
  {
   "cell_type": "code",
   "execution_count": 36,
   "metadata": {},
   "outputs": [
    {
     "name": "stdout",
     "output_type": "stream",
     "text": [
      "59940\n"
     ]
    },
    {
     "data": {
      "text/html": [
       "<div>\n",
       "<style scoped>\n",
       "    .dataframe tbody tr th:only-of-type {\n",
       "        vertical-align: middle;\n",
       "    }\n",
       "\n",
       "    .dataframe tbody tr th {\n",
       "        vertical-align: top;\n",
       "    }\n",
       "\n",
       "    .dataframe thead th {\n",
       "        text-align: right;\n",
       "    }\n",
       "</style>\n",
       "<table border=\"1\" class=\"dataframe\">\n",
       "  <thead>\n",
       "    <tr style=\"text-align: right;\">\n",
       "      <th></th>\n",
       "      <th>code</th>\n",
       "      <th>name</th>\n",
       "      <th>category_main_cb</th>\n",
       "      <th>category_type_cb</th>\n",
       "      <th>category_sub_cb</th>\n",
       "      <th>rooms</th>\n",
       "      <th>size_meters</th>\n",
       "      <th>locality</th>\n",
       "      <th>latitude</th>\n",
       "      <th>longitude</th>\n",
       "      <th>price</th>\n",
       "      <th>timestamp</th>\n",
       "    </tr>\n",
       "  </thead>\n",
       "  <tbody>\n",
       "    <tr>\n",
       "      <th>59938</th>\n",
       "      <td>3703125324</td>\n",
       "      <td>Prodej  rodinného domu 31 m², pozemek 1 002 m²</td>\n",
       "      <td>2</td>\n",
       "      <td>1</td>\n",
       "      <td>37</td>\n",
       "      <td>-</td>\n",
       "      <td>-</td>\n",
       "      <td>vyskytna-nad-jihlavou--</td>\n",
       "      <td>49.410813</td>\n",
       "      <td>15.516595</td>\n",
       "      <td>3140000</td>\n",
       "      <td>2024-04-16 01:12:05</td>\n",
       "    </tr>\n",
       "    <tr>\n",
       "      <th>59939</th>\n",
       "      <td>2646160716</td>\n",
       "      <td>Prodej zemědělského objektu 645 m²</td>\n",
       "      <td>4</td>\n",
       "      <td>1</td>\n",
       "      <td>31</td>\n",
       "      <td>-</td>\n",
       "      <td>-</td>\n",
       "      <td>vidice--</td>\n",
       "      <td>49.908124</td>\n",
       "      <td>15.173978</td>\n",
       "      <td>26309000</td>\n",
       "      <td>2024-04-16 01:12:05</td>\n",
       "    </tr>\n",
       "  </tbody>\n",
       "</table>\n",
       "</div>"
      ],
      "text/plain": [
       "             code                                            name  \\\n",
       "59938  3703125324  Prodej  rodinného domu 31 m², pozemek 1 002 m²   \n",
       "59939  2646160716              Prodej zemědělského objektu 645 m²   \n",
       "\n",
       "       category_main_cb  category_type_cb  category_sub_cb rooms size_meters  \\\n",
       "59938                 2                 1               37     -           -   \n",
       "59939                 4                 1               31     -           -   \n",
       "\n",
       "                      locality   latitude  longitude     price  \\\n",
       "59938  vyskytna-nad-jihlavou--  49.410813  15.516595   3140000   \n",
       "59939                 vidice--  49.908124  15.173978  26309000   \n",
       "\n",
       "                 timestamp  \n",
       "59938  2024-04-16 01:12:05  \n",
       "59939  2024-04-16 01:12:05  "
      ]
     },
     "metadata": {},
     "output_type": "display_data"
    }
   ],
   "source": [
    "df_data_all = pd.DataFrame(data_all)\n",
    "print(len(df_data_all))\n",
    "display(df_data_all.tail(2))\n",
    "df_data_all.to_csv(\"data_2024/data_all_20240416_HHMM.csv\", sep=\";\", encoding=\"utf-8\")"
   ]
  },
  {
   "cell_type": "code",
   "execution_count": 37,
   "metadata": {},
   "outputs": [
    {
     "name": "stdout",
     "output_type": "stream",
     "text": [
      "2024-04-16 01:16:37\n",
      "number of ALL estates (Byt, Dům, Pronájem, Prodej): 93926\n",
      "we will scrape max 95 pages with 999 results each\n"
     ]
    },
    {
     "name": "stderr",
     "output_type": "stream",
     "text": [
      "100%|██████████| 95/95 [00:00<?, ?it/s]\n"
     ]
    },
    {
     "name": "stdout",
     "output_type": "stream",
     "text": [
      "['https://www.sreality.cz/api/cs/v2/estates?category_main_cb=1&category_type_cb=1&per_page=999&page=1', 'https://www.sreality.cz/api/cs/v2/estates?category_main_cb=1&category_type_cb=1&per_page=999&page=2', 'https://www.sreality.cz/api/cs/v2/estates?category_main_cb=1&category_type_cb=1&per_page=999&page=3', 'https://www.sreality.cz/api/cs/v2/estates?category_main_cb=1&category_type_cb=1&per_page=999&page=4', 'https://www.sreality.cz/api/cs/v2/estates?category_main_cb=1&category_type_cb=1&per_page=999&page=5', 'https://www.sreality.cz/api/cs/v2/estates?category_main_cb=1&category_type_cb=1&per_page=999&page=6', 'https://www.sreality.cz/api/cs/v2/estates?category_main_cb=1&category_type_cb=1&per_page=999&page=7', 'https://www.sreality.cz/api/cs/v2/estates?category_main_cb=1&category_type_cb=1&per_page=999&page=8', 'https://www.sreality.cz/api/cs/v2/estates?category_main_cb=1&category_type_cb=1&per_page=999&page=9', 'https://www.sreality.cz/api/cs/v2/estates?category_main_cb=1&category_type_cb=1&per_page=999&page=10', 'https://www.sreality.cz/api/cs/v2/estates?category_main_cb=1&category_type_cb=1&per_page=999&page=11', 'https://www.sreality.cz/api/cs/v2/estates?category_main_cb=1&category_type_cb=1&per_page=999&page=12', 'https://www.sreality.cz/api/cs/v2/estates?category_main_cb=1&category_type_cb=1&per_page=999&page=13', 'https://www.sreality.cz/api/cs/v2/estates?category_main_cb=1&category_type_cb=1&per_page=999&page=14', 'https://www.sreality.cz/api/cs/v2/estates?category_main_cb=1&category_type_cb=1&per_page=999&page=15', 'https://www.sreality.cz/api/cs/v2/estates?category_main_cb=1&category_type_cb=1&per_page=999&page=16', 'https://www.sreality.cz/api/cs/v2/estates?category_main_cb=1&category_type_cb=1&per_page=999&page=17', 'https://www.sreality.cz/api/cs/v2/estates?category_main_cb=1&category_type_cb=1&per_page=999&page=18', 'https://www.sreality.cz/api/cs/v2/estates?category_main_cb=1&category_type_cb=1&per_page=999&page=19', 'https://www.sreality.cz/api/cs/v2/estates?category_main_cb=1&category_type_cb=1&per_page=999&page=20', 'https://www.sreality.cz/api/cs/v2/estates?category_main_cb=1&category_type_cb=1&per_page=999&page=21', 'https://www.sreality.cz/api/cs/v2/estates?category_main_cb=1&category_type_cb=1&per_page=999&page=22', 'https://www.sreality.cz/api/cs/v2/estates?category_main_cb=1&category_type_cb=1&per_page=999&page=23', 'https://www.sreality.cz/api/cs/v2/estates?category_main_cb=1&category_type_cb=1&per_page=999&page=24', 'https://www.sreality.cz/api/cs/v2/estates?category_main_cb=1&category_type_cb=1&per_page=999&page=25', 'https://www.sreality.cz/api/cs/v2/estates?category_main_cb=1&category_type_cb=1&per_page=999&page=26', 'https://www.sreality.cz/api/cs/v2/estates?category_main_cb=1&category_type_cb=1&per_page=999&page=27', 'https://www.sreality.cz/api/cs/v2/estates?category_main_cb=1&category_type_cb=1&per_page=999&page=28', 'https://www.sreality.cz/api/cs/v2/estates?category_main_cb=1&category_type_cb=1&per_page=999&page=29', 'https://www.sreality.cz/api/cs/v2/estates?category_main_cb=1&category_type_cb=1&per_page=999&page=30', 'https://www.sreality.cz/api/cs/v2/estates?category_main_cb=1&category_type_cb=1&per_page=999&page=31', 'https://www.sreality.cz/api/cs/v2/estates?category_main_cb=1&category_type_cb=1&per_page=999&page=32', 'https://www.sreality.cz/api/cs/v2/estates?category_main_cb=1&category_type_cb=1&per_page=999&page=33', 'https://www.sreality.cz/api/cs/v2/estates?category_main_cb=1&category_type_cb=1&per_page=999&page=34', 'https://www.sreality.cz/api/cs/v2/estates?category_main_cb=1&category_type_cb=1&per_page=999&page=35', 'https://www.sreality.cz/api/cs/v2/estates?category_main_cb=1&category_type_cb=1&per_page=999&page=36', 'https://www.sreality.cz/api/cs/v2/estates?category_main_cb=1&category_type_cb=1&per_page=999&page=37', 'https://www.sreality.cz/api/cs/v2/estates?category_main_cb=1&category_type_cb=1&per_page=999&page=38', 'https://www.sreality.cz/api/cs/v2/estates?category_main_cb=1&category_type_cb=1&per_page=999&page=39', 'https://www.sreality.cz/api/cs/v2/estates?category_main_cb=1&category_type_cb=1&per_page=999&page=40', 'https://www.sreality.cz/api/cs/v2/estates?category_main_cb=1&category_type_cb=1&per_page=999&page=41', 'https://www.sreality.cz/api/cs/v2/estates?category_main_cb=1&category_type_cb=1&per_page=999&page=42', 'https://www.sreality.cz/api/cs/v2/estates?category_main_cb=1&category_type_cb=1&per_page=999&page=43', 'https://www.sreality.cz/api/cs/v2/estates?category_main_cb=1&category_type_cb=1&per_page=999&page=44', 'https://www.sreality.cz/api/cs/v2/estates?category_main_cb=1&category_type_cb=1&per_page=999&page=45', 'https://www.sreality.cz/api/cs/v2/estates?category_main_cb=1&category_type_cb=1&per_page=999&page=46', 'https://www.sreality.cz/api/cs/v2/estates?category_main_cb=1&category_type_cb=1&per_page=999&page=47', 'https://www.sreality.cz/api/cs/v2/estates?category_main_cb=1&category_type_cb=1&per_page=999&page=48', 'https://www.sreality.cz/api/cs/v2/estates?category_main_cb=1&category_type_cb=1&per_page=999&page=49', 'https://www.sreality.cz/api/cs/v2/estates?category_main_cb=1&category_type_cb=1&per_page=999&page=50', 'https://www.sreality.cz/api/cs/v2/estates?category_main_cb=1&category_type_cb=1&per_page=999&page=51', 'https://www.sreality.cz/api/cs/v2/estates?category_main_cb=1&category_type_cb=1&per_page=999&page=52', 'https://www.sreality.cz/api/cs/v2/estates?category_main_cb=1&category_type_cb=1&per_page=999&page=53', 'https://www.sreality.cz/api/cs/v2/estates?category_main_cb=1&category_type_cb=1&per_page=999&page=54', 'https://www.sreality.cz/api/cs/v2/estates?category_main_cb=1&category_type_cb=1&per_page=999&page=55', 'https://www.sreality.cz/api/cs/v2/estates?category_main_cb=1&category_type_cb=1&per_page=999&page=56', 'https://www.sreality.cz/api/cs/v2/estates?category_main_cb=1&category_type_cb=1&per_page=999&page=57', 'https://www.sreality.cz/api/cs/v2/estates?category_main_cb=1&category_type_cb=1&per_page=999&page=58', 'https://www.sreality.cz/api/cs/v2/estates?category_main_cb=1&category_type_cb=1&per_page=999&page=59', 'https://www.sreality.cz/api/cs/v2/estates?category_main_cb=1&category_type_cb=1&per_page=999&page=60', 'https://www.sreality.cz/api/cs/v2/estates?category_main_cb=1&category_type_cb=1&per_page=999&page=61', 'https://www.sreality.cz/api/cs/v2/estates?category_main_cb=1&category_type_cb=1&per_page=999&page=62', 'https://www.sreality.cz/api/cs/v2/estates?category_main_cb=1&category_type_cb=1&per_page=999&page=63', 'https://www.sreality.cz/api/cs/v2/estates?category_main_cb=1&category_type_cb=1&per_page=999&page=64', 'https://www.sreality.cz/api/cs/v2/estates?category_main_cb=1&category_type_cb=1&per_page=999&page=65', 'https://www.sreality.cz/api/cs/v2/estates?category_main_cb=1&category_type_cb=1&per_page=999&page=66', 'https://www.sreality.cz/api/cs/v2/estates?category_main_cb=1&category_type_cb=1&per_page=999&page=67', 'https://www.sreality.cz/api/cs/v2/estates?category_main_cb=1&category_type_cb=1&per_page=999&page=68', 'https://www.sreality.cz/api/cs/v2/estates?category_main_cb=1&category_type_cb=1&per_page=999&page=69', 'https://www.sreality.cz/api/cs/v2/estates?category_main_cb=1&category_type_cb=1&per_page=999&page=70', 'https://www.sreality.cz/api/cs/v2/estates?category_main_cb=1&category_type_cb=1&per_page=999&page=71', 'https://www.sreality.cz/api/cs/v2/estates?category_main_cb=1&category_type_cb=1&per_page=999&page=72', 'https://www.sreality.cz/api/cs/v2/estates?category_main_cb=1&category_type_cb=1&per_page=999&page=73', 'https://www.sreality.cz/api/cs/v2/estates?category_main_cb=1&category_type_cb=1&per_page=999&page=74', 'https://www.sreality.cz/api/cs/v2/estates?category_main_cb=1&category_type_cb=1&per_page=999&page=75', 'https://www.sreality.cz/api/cs/v2/estates?category_main_cb=1&category_type_cb=1&per_page=999&page=76', 'https://www.sreality.cz/api/cs/v2/estates?category_main_cb=1&category_type_cb=1&per_page=999&page=77', 'https://www.sreality.cz/api/cs/v2/estates?category_main_cb=1&category_type_cb=1&per_page=999&page=78', 'https://www.sreality.cz/api/cs/v2/estates?category_main_cb=1&category_type_cb=1&per_page=999&page=79', 'https://www.sreality.cz/api/cs/v2/estates?category_main_cb=1&category_type_cb=1&per_page=999&page=80', 'https://www.sreality.cz/api/cs/v2/estates?category_main_cb=1&category_type_cb=1&per_page=999&page=81', 'https://www.sreality.cz/api/cs/v2/estates?category_main_cb=1&category_type_cb=1&per_page=999&page=82', 'https://www.sreality.cz/api/cs/v2/estates?category_main_cb=1&category_type_cb=1&per_page=999&page=83', 'https://www.sreality.cz/api/cs/v2/estates?category_main_cb=1&category_type_cb=1&per_page=999&page=84', 'https://www.sreality.cz/api/cs/v2/estates?category_main_cb=1&category_type_cb=1&per_page=999&page=85', 'https://www.sreality.cz/api/cs/v2/estates?category_main_cb=1&category_type_cb=1&per_page=999&page=86', 'https://www.sreality.cz/api/cs/v2/estates?category_main_cb=1&category_type_cb=1&per_page=999&page=87', 'https://www.sreality.cz/api/cs/v2/estates?category_main_cb=1&category_type_cb=1&per_page=999&page=88', 'https://www.sreality.cz/api/cs/v2/estates?category_main_cb=1&category_type_cb=1&per_page=999&page=89', 'https://www.sreality.cz/api/cs/v2/estates?category_main_cb=1&category_type_cb=1&per_page=999&page=90', 'https://www.sreality.cz/api/cs/v2/estates?category_main_cb=1&category_type_cb=1&per_page=999&page=91', 'https://www.sreality.cz/api/cs/v2/estates?category_main_cb=1&category_type_cb=1&per_page=999&page=92', 'https://www.sreality.cz/api/cs/v2/estates?category_main_cb=1&category_type_cb=1&per_page=999&page=93', 'https://www.sreality.cz/api/cs/v2/estates?category_main_cb=1&category_type_cb=1&per_page=999&page=94', 'https://www.sreality.cz/api/cs/v2/estates?category_main_cb=1&category_type_cb=1&per_page=999&page=95']\n"
     ]
    },
    {
     "name": "stderr",
     "output_type": "stream",
     "text": [
      "100%|██████████| 95/95 [02:17<00:00,  1.44s/it]"
     ]
    },
    {
     "name": "stdout",
     "output_type": "stream",
     "text": [
      "16936\n"
     ]
    },
    {
     "name": "stderr",
     "output_type": "stream",
     "text": [
      "\n"
     ]
    }
   ],
   "source": [
    "data_prodej_byty = scraper.run_scraping(\n",
    "    category_main_cb=1,\n",
    "    category_type_cb=1)"
   ]
  },
  {
   "cell_type": "code",
   "execution_count": 38,
   "metadata": {},
   "outputs": [
    {
     "name": "stdout",
     "output_type": "stream",
     "text": [
      "16936\n"
     ]
    },
    {
     "data": {
      "text/html": [
       "<div>\n",
       "<style scoped>\n",
       "    .dataframe tbody tr th:only-of-type {\n",
       "        vertical-align: middle;\n",
       "    }\n",
       "\n",
       "    .dataframe tbody tr th {\n",
       "        vertical-align: top;\n",
       "    }\n",
       "\n",
       "    .dataframe thead th {\n",
       "        text-align: right;\n",
       "    }\n",
       "</style>\n",
       "<table border=\"1\" class=\"dataframe\">\n",
       "  <thead>\n",
       "    <tr style=\"text-align: right;\">\n",
       "      <th></th>\n",
       "      <th>code</th>\n",
       "      <th>name</th>\n",
       "      <th>category_main_cb</th>\n",
       "      <th>category_type_cb</th>\n",
       "      <th>category_sub_cb</th>\n",
       "      <th>rooms</th>\n",
       "      <th>size_meters</th>\n",
       "      <th>locality</th>\n",
       "      <th>latitude</th>\n",
       "      <th>longitude</th>\n",
       "      <th>price</th>\n",
       "      <th>timestamp</th>\n",
       "    </tr>\n",
       "  </thead>\n",
       "  <tbody>\n",
       "    <tr>\n",
       "      <th>16934</th>\n",
       "      <td>1653154140</td>\n",
       "      <td>Prodej bytu 4+kk 79 m²</td>\n",
       "      <td>1</td>\n",
       "      <td>1</td>\n",
       "      <td>8</td>\n",
       "      <td>4+kk</td>\n",
       "      <td>79.0</td>\n",
       "      <td>karlovy-vary-karlovy-vary-sadova</td>\n",
       "      <td>50.217252</td>\n",
       "      <td>12.885700</td>\n",
       "      <td>6781000</td>\n",
       "      <td>2024-04-16 01:16:37</td>\n",
       "    </tr>\n",
       "    <tr>\n",
       "      <th>16935</th>\n",
       "      <td>1673015644</td>\n",
       "      <td>Prodej bytu atypické 52 m² (Podkrovní)</td>\n",
       "      <td>1</td>\n",
       "      <td>1</td>\n",
       "      <td>16</td>\n",
       "      <td>atypické</td>\n",
       "      <td>52.0</td>\n",
       "      <td>stachy-stachy-zadov</td>\n",
       "      <td>49.068990</td>\n",
       "      <td>13.642677</td>\n",
       "      <td>5092000</td>\n",
       "      <td>2024-04-16 01:16:37</td>\n",
       "    </tr>\n",
       "  </tbody>\n",
       "</table>\n",
       "</div>"
      ],
      "text/plain": [
       "             code                                    name  category_main_cb  \\\n",
       "16934  1653154140                  Prodej bytu 4+kk 79 m²                 1   \n",
       "16935  1673015644  Prodej bytu atypické 52 m² (Podkrovní)                 1   \n",
       "\n",
       "       category_type_cb  category_sub_cb     rooms size_meters  \\\n",
       "16934                 1                8      4+kk        79.0   \n",
       "16935                 1               16  atypické        52.0   \n",
       "\n",
       "                               locality   latitude  longitude    price  \\\n",
       "16934  karlovy-vary-karlovy-vary-sadova  50.217252  12.885700  6781000   \n",
       "16935               stachy-stachy-zadov  49.068990  13.642677  5092000   \n",
       "\n",
       "                 timestamp  \n",
       "16934  2024-04-16 01:16:37  \n",
       "16935  2024-04-16 01:16:37  "
      ]
     },
     "metadata": {},
     "output_type": "display_data"
    }
   ],
   "source": [
    "df_data_prodej_byty = pd.DataFrame(data_prodej_byty)\n",
    "print(len(df_data_prodej_byty))\n",
    "display(df_data_prodej_byty.tail(2))\n",
    "df_data_prodej_byty.to_csv(\"data_2024/data_20240415_HHMM.csv\", sep=\";\", encoding=\"utf-8\")\n"
   ]
  },
  {
   "cell_type": "markdown",
   "metadata": {},
   "source": [
    "## DF_ALL stats"
   ]
  },
  {
   "cell_type": "code",
   "execution_count": null,
   "metadata": {},
   "outputs": [],
   "source": [
    "df_data_all[\"category_main_cb\"].value_counts()"
   ]
  },
  {
   "cell_type": "code",
   "execution_count": null,
   "metadata": {},
   "outputs": [],
   "source": [
    "df_data_all[\"category_type_cb\"].value_counts()"
   ]
  },
  {
   "cell_type": "code",
   "execution_count": null,
   "metadata": {},
   "outputs": [],
   "source": [
    "df_data_all[\"category_sub_cb\"].value_counts()"
   ]
  },
  {
   "cell_type": "markdown",
   "metadata": {},
   "source": [
    "## Batch_detail - table managment test"
   ]
  },
  {
   "cell_type": "code",
   "execution_count": 2,
   "metadata": {},
   "outputs": [],
   "source": [
    "from etl.data_manager import DataManager\n",
    "import pandas as pd\n",
    "\n",
    "data_manager = DataManager()"
   ]
  },
  {
   "cell_type": "code",
   "execution_count": 9,
   "metadata": {},
   "outputs": [
    {
     "data": {
      "text/html": [
       "<div>\n",
       "<style scoped>\n",
       "    .dataframe tbody tr th:only-of-type {\n",
       "        vertical-align: middle;\n",
       "    }\n",
       "\n",
       "    .dataframe tbody tr th {\n",
       "        vertical-align: top;\n",
       "    }\n",
       "\n",
       "    .dataframe thead th {\n",
       "        text-align: right;\n",
       "    }\n",
       "</style>\n",
       "<table border=\"1\" class=\"dataframe\">\n",
       "  <thead>\n",
       "    <tr style=\"text-align: right;\">\n",
       "      <th></th>\n",
       "      <th>id</th>\n",
       "      <th>code</th>\n",
       "      <th>name</th>\n",
       "      <th>category_main_cb</th>\n",
       "      <th>category_type_cb</th>\n",
       "      <th>category_sub_cb</th>\n",
       "      <th>rooms</th>\n",
       "      <th>size_meters</th>\n",
       "      <th>locality</th>\n",
       "      <th>region</th>\n",
       "      <th>district</th>\n",
       "      <th>latitude</th>\n",
       "      <th>longitude</th>\n",
       "      <th>first_date</th>\n",
       "      <th>last_date</th>\n",
       "      <th>first_price</th>\n",
       "      <th>last_price</th>\n",
       "      <th>max_price</th>\n",
       "      <th>min_price</th>\n",
       "    </tr>\n",
       "  </thead>\n",
       "  <tbody>\n",
       "    <tr>\n",
       "      <th>0</th>\n",
       "      <td>1</td>\n",
       "      <td>b'L\\xd5\\xbc}\\x00\\x00\\x00\\x00'</td>\n",
       "      <td>Prodej bytu 3+1 69 m²</td>\n",
       "      <td>b'\\x01\\x00\\x00\\x00\\x00\\x00\\x00\\x00'</td>\n",
       "      <td>b'\\x01\\x00\\x00\\x00\\x00\\x00\\x00\\x00'</td>\n",
       "      <td>b'\\x07\\x00\\x00\\x00\\x00\\x00\\x00\\x00'</td>\n",
       "      <td>3+1</td>\n",
       "      <td>69.0</td>\n",
       "      <td>brno-zabovresky-lucni</td>\n",
       "      <td>region</td>\n",
       "      <td>district</td>\n",
       "      <td>49.208683</td>\n",
       "      <td>16.581777</td>\n",
       "      <td>2024-04-13 10:34:53</td>\n",
       "      <td>2024-04-13 10:34:53</td>\n",
       "      <td>b'\\xe8\\xdbY\\x00\\x00\\x00\\x00\\x00'</td>\n",
       "      <td>b'\\xe8\\xdbY\\x00\\x00\\x00\\x00\\x00'</td>\n",
       "      <td>b'\\xe8\\xdbY\\x00\\x00\\x00\\x00\\x00'</td>\n",
       "      <td>b'\\xe8\\xdbY\\x00\\x00\\x00\\x00\\x00'</td>\n",
       "    </tr>\n",
       "    <tr>\n",
       "      <th>1</th>\n",
       "      <td>2</td>\n",
       "      <td>b'L%\\xa52\\x00\\x00\\x00\\x00'</td>\n",
       "      <td>Prodej bytu 3+1 50 m²</td>\n",
       "      <td>b'\\x01\\x00\\x00\\x00\\x00\\x00\\x00\\x00'</td>\n",
       "      <td>b'\\x01\\x00\\x00\\x00\\x00\\x00\\x00\\x00'</td>\n",
       "      <td>b'\\x07\\x00\\x00\\x00\\x00\\x00\\x00\\x00'</td>\n",
       "      <td>3+1</td>\n",
       "      <td>50.0</td>\n",
       "      <td>brno-bohunice-pod-nemocnici</td>\n",
       "      <td>region</td>\n",
       "      <td>district</td>\n",
       "      <td>49.165905</td>\n",
       "      <td>16.581920</td>\n",
       "      <td>2024-04-13 10:34:53</td>\n",
       "      <td>2024-04-13 10:34:53</td>\n",
       "      <td>b'\\xd8DB\\x00\\x00\\x00\\x00\\x00'</td>\n",
       "      <td>b'\\xd8DB\\x00\\x00\\x00\\x00\\x00'</td>\n",
       "      <td>b'\\xd8DB\\x00\\x00\\x00\\x00\\x00'</td>\n",
       "      <td>b'\\xd8DB\\x00\\x00\\x00\\x00\\x00'</td>\n",
       "    </tr>\n",
       "    <tr>\n",
       "      <th>2</th>\n",
       "      <td>3</td>\n",
       "      <td>b'L\\xe4{\\xf6\\x00\\x00\\x00\\x00'</td>\n",
       "      <td>Prodej bytu 2+kk 50 m²</td>\n",
       "      <td>b'\\x01\\x00\\x00\\x00\\x00\\x00\\x00\\x00'</td>\n",
       "      <td>b'\\x01\\x00\\x00\\x00\\x00\\x00\\x00\\x00'</td>\n",
       "      <td>b'\\x04\\x00\\x00\\x00\\x00\\x00\\x00\\x00'</td>\n",
       "      <td>2+kk</td>\n",
       "      <td>50.0</td>\n",
       "      <td>unanov-unanov-</td>\n",
       "      <td>region</td>\n",
       "      <td>district</td>\n",
       "      <td>48.893010</td>\n",
       "      <td>16.076942</td>\n",
       "      <td>2024-04-13 10:34:53</td>\n",
       "      <td>2024-04-13 10:34:53</td>\n",
       "      <td>b\"(3'\\x00\\x00\\x00\\x00\\x00\"</td>\n",
       "      <td>b\"(3'\\x00\\x00\\x00\\x00\\x00\"</td>\n",
       "      <td>b\"(3'\\x00\\x00\\x00\\x00\\x00\"</td>\n",
       "      <td>b\"(3'\\x00\\x00\\x00\\x00\\x00\"</td>\n",
       "    </tr>\n",
       "    <tr>\n",
       "      <th>3</th>\n",
       "      <td>4</td>\n",
       "      <td>b'L5\\xb6s\\x00\\x00\\x00\\x00'</td>\n",
       "      <td>Prodej bytu 2+kk 32 m²</td>\n",
       "      <td>b'\\x01\\x00\\x00\\x00\\x00\\x00\\x00\\x00'</td>\n",
       "      <td>b'\\x01\\x00\\x00\\x00\\x00\\x00\\x00\\x00'</td>\n",
       "      <td>b'\\x04\\x00\\x00\\x00\\x00\\x00\\x00\\x00'</td>\n",
       "      <td>2+kk</td>\n",
       "      <td>32.0</td>\n",
       "      <td>rakovnik-rakovnik-ii-luzenska</td>\n",
       "      <td>region</td>\n",
       "      <td>district</td>\n",
       "      <td>50.097008</td>\n",
       "      <td>13.751763</td>\n",
       "      <td>2024-04-13 10:34:53</td>\n",
       "      <td>2024-04-13 10:34:53</td>\n",
       "      <td>b'\\x90\\x04%\\x00\\x00\\x00\\x00\\x00'</td>\n",
       "      <td>b'\\x90\\x04%\\x00\\x00\\x00\\x00\\x00'</td>\n",
       "      <td>b'\\x90\\x04%\\x00\\x00\\x00\\x00\\x00'</td>\n",
       "      <td>b'\\x90\\x04%\\x00\\x00\\x00\\x00\\x00'</td>\n",
       "    </tr>\n",
       "    <tr>\n",
       "      <th>4</th>\n",
       "      <td>5</td>\n",
       "      <td>b'L%\\xa0\\xf2\\x00\\x00\\x00\\x00'</td>\n",
       "      <td>Prodej bytu 3+kk 61 m²</td>\n",
       "      <td>b'\\x01\\x00\\x00\\x00\\x00\\x00\\x00\\x00'</td>\n",
       "      <td>b'\\x01\\x00\\x00\\x00\\x00\\x00\\x00\\x00'</td>\n",
       "      <td>b'\\x06\\x00\\x00\\x00\\x00\\x00\\x00\\x00'</td>\n",
       "      <td>3+kk</td>\n",
       "      <td>61.0</td>\n",
       "      <td>praha-praha-cakovice-belomlynska</td>\n",
       "      <td>region</td>\n",
       "      <td>district</td>\n",
       "      <td>50.150525</td>\n",
       "      <td>14.534147</td>\n",
       "      <td>2024-04-13 10:34:53</td>\n",
       "      <td>2024-04-13 10:34:53</td>\n",
       "      <td>b'\\xc0\\xc9k\\x00\\x00\\x00\\x00\\x00'</td>\n",
       "      <td>b'\\xc0\\xc9k\\x00\\x00\\x00\\x00\\x00'</td>\n",
       "      <td>b'\\xc0\\xc9k\\x00\\x00\\x00\\x00\\x00'</td>\n",
       "      <td>b'\\xc0\\xc9k\\x00\\x00\\x00\\x00\\x00'</td>\n",
       "    </tr>\n",
       "    <tr>\n",
       "      <th>5</th>\n",
       "      <td>6</td>\n",
       "      <td>b'L\\xf5Dn\\x00\\x00\\x00\\x00'</td>\n",
       "      <td>Prodej bytu 4+kk 134 m²</td>\n",
       "      <td>b'\\x01\\x00\\x00\\x00\\x00\\x00\\x00\\x00'</td>\n",
       "      <td>b'\\x01\\x00\\x00\\x00\\x00\\x00\\x00\\x00'</td>\n",
       "      <td>b'\\x08\\x00\\x00\\x00\\x00\\x00\\x00\\x00'</td>\n",
       "      <td>4+kk</td>\n",
       "      <td>134.0</td>\n",
       "      <td>praha-kosire-namesti-josefa-machka</td>\n",
       "      <td>region</td>\n",
       "      <td>district</td>\n",
       "      <td>50.058079</td>\n",
       "      <td>14.391188</td>\n",
       "      <td>2024-04-13 10:34:53</td>\n",
       "      <td>2024-04-13 10:34:53</td>\n",
       "      <td>b'\\xb8X\\x02\\x01\\x00\\x00\\x00\\x00'</td>\n",
       "      <td>b'\\xb8X\\x02\\x01\\x00\\x00\\x00\\x00'</td>\n",
       "      <td>b'\\xb8X\\x02\\x01\\x00\\x00\\x00\\x00'</td>\n",
       "      <td>b'\\xb8X\\x02\\x01\\x00\\x00\\x00\\x00'</td>\n",
       "    </tr>\n",
       "    <tr>\n",
       "      <th>6</th>\n",
       "      <td>7</td>\n",
       "      <td>b'L\\xd5d\\x8b\\x00\\x00\\x00\\x00'</td>\n",
       "      <td>Prodej bytu 4+1 57 m²</td>\n",
       "      <td>b'\\x01\\x00\\x00\\x00\\x00\\x00\\x00\\x00'</td>\n",
       "      <td>b'\\x01\\x00\\x00\\x00\\x00\\x00\\x00\\x00'</td>\n",
       "      <td>b'\\t\\x00\\x00\\x00\\x00\\x00\\x00\\x00'</td>\n",
       "      <td>4+1</td>\n",
       "      <td>57.0</td>\n",
       "      <td>most-most-ceska</td>\n",
       "      <td>region</td>\n",
       "      <td>district</td>\n",
       "      <td>50.481724</td>\n",
       "      <td>13.655833</td>\n",
       "      <td>2024-04-13 10:34:53</td>\n",
       "      <td>2024-04-13 10:34:53</td>\n",
       "      <td>b'`\\xfb\\x12\\x00\\x00\\x00\\x00\\x00'</td>\n",
       "      <td>b'`\\xfb\\x12\\x00\\x00\\x00\\x00\\x00'</td>\n",
       "      <td>b'`\\xfb\\x12\\x00\\x00\\x00\\x00\\x00'</td>\n",
       "      <td>b'`\\xfb\\x12\\x00\\x00\\x00\\x00\\x00'</td>\n",
       "    </tr>\n",
       "    <tr>\n",
       "      <th>7</th>\n",
       "      <td>8</td>\n",
       "      <td>b'L\\xf5\\x16\\xe4\\x00\\x00\\x00\\x00'</td>\n",
       "      <td>Prodej bytu 1+kk 30 m²</td>\n",
       "      <td>b'\\x01\\x00\\x00\\x00\\x00\\x00\\x00\\x00'</td>\n",
       "      <td>b'\\x01\\x00\\x00\\x00\\x00\\x00\\x00\\x00'</td>\n",
       "      <td>b'\\x02\\x00\\x00\\x00\\x00\\x00\\x00\\x00'</td>\n",
       "      <td>1+kk</td>\n",
       "      <td>30.0</td>\n",
       "      <td>otvovice-otvovice-</td>\n",
       "      <td>region</td>\n",
       "      <td>district</td>\n",
       "      <td>50.204758</td>\n",
       "      <td>14.277930</td>\n",
       "      <td>2024-04-13 10:34:53</td>\n",
       "      <td>2024-04-13 10:34:53</td>\n",
       "      <td>b'\\xf0\\x8f \\x00\\x00\\x00\\x00\\x00'</td>\n",
       "      <td>b'\\xf0\\x8f \\x00\\x00\\x00\\x00\\x00'</td>\n",
       "      <td>b'\\xf0\\x8f \\x00\\x00\\x00\\x00\\x00'</td>\n",
       "      <td>b'\\xf0\\x8f \\x00\\x00\\x00\\x00\\x00'</td>\n",
       "    </tr>\n",
       "    <tr>\n",
       "      <th>8</th>\n",
       "      <td>9</td>\n",
       "      <td>b'L\\x15F\\xd8\\x00\\x00\\x00\\x00'</td>\n",
       "      <td>Prodej bytu 2+kk 40 m²</td>\n",
       "      <td>b'\\x01\\x00\\x00\\x00\\x00\\x00\\x00\\x00'</td>\n",
       "      <td>b'\\x01\\x00\\x00\\x00\\x00\\x00\\x00\\x00'</td>\n",
       "      <td>b'\\x04\\x00\\x00\\x00\\x00\\x00\\x00\\x00'</td>\n",
       "      <td>2+kk</td>\n",
       "      <td>40.0</td>\n",
       "      <td>ostrava-poruba-hlavni-trida</td>\n",
       "      <td>region</td>\n",
       "      <td>district</td>\n",
       "      <td>49.819649</td>\n",
       "      <td>18.186090</td>\n",
       "      <td>2024-04-13 10:34:53</td>\n",
       "      <td>2024-04-13 10:34:53</td>\n",
       "      <td>b'p-&amp;\\x00\\x00\\x00\\x00\\x00'</td>\n",
       "      <td>b'p-&amp;\\x00\\x00\\x00\\x00\\x00'</td>\n",
       "      <td>b'p-&amp;\\x00\\x00\\x00\\x00\\x00'</td>\n",
       "      <td>b'p-&amp;\\x00\\x00\\x00\\x00\\x00'</td>\n",
       "    </tr>\n",
       "    <tr>\n",
       "      <th>9</th>\n",
       "      <td>10</td>\n",
       "      <td>b'L\\xf7\\xa2Y\\x00\\x00\\x00\\x00'</td>\n",
       "      <td>Prodej bytu 1+kk 19 m²</td>\n",
       "      <td>b'\\x01\\x00\\x00\\x00\\x00\\x00\\x00\\x00'</td>\n",
       "      <td>b'\\x01\\x00\\x00\\x00\\x00\\x00\\x00\\x00'</td>\n",
       "      <td>b'\\x02\\x00\\x00\\x00\\x00\\x00\\x00\\x00'</td>\n",
       "      <td>1+kk</td>\n",
       "      <td>19.0</td>\n",
       "      <td>praha-liben-konselska</td>\n",
       "      <td>region</td>\n",
       "      <td>district</td>\n",
       "      <td>50.105835</td>\n",
       "      <td>14.480679</td>\n",
       "      <td>2024-04-13 10:34:53</td>\n",
       "      <td>2024-04-13 10:34:53</td>\n",
       "      <td>b'\\x18\\x88&lt;\\x00\\x00\\x00\\x00\\x00'</td>\n",
       "      <td>b'\\x18\\x88&lt;\\x00\\x00\\x00\\x00\\x00'</td>\n",
       "      <td>b'\\x18\\x88&lt;\\x00\\x00\\x00\\x00\\x00'</td>\n",
       "      <td>b'\\x18\\x88&lt;\\x00\\x00\\x00\\x00\\x00'</td>\n",
       "    </tr>\n",
       "  </tbody>\n",
       "</table>\n",
       "</div>"
      ],
      "text/plain": [
       "   id                              code                     name  \\\n",
       "0   1     b'L\\xd5\\xbc}\\x00\\x00\\x00\\x00'    Prodej bytu 3+1 69 m²   \n",
       "1   2        b'L%\\xa52\\x00\\x00\\x00\\x00'    Prodej bytu 3+1 50 m²   \n",
       "2   3     b'L\\xe4{\\xf6\\x00\\x00\\x00\\x00'   Prodej bytu 2+kk 50 m²   \n",
       "3   4        b'L5\\xb6s\\x00\\x00\\x00\\x00'   Prodej bytu 2+kk 32 m²   \n",
       "4   5     b'L%\\xa0\\xf2\\x00\\x00\\x00\\x00'   Prodej bytu 3+kk 61 m²   \n",
       "5   6        b'L\\xf5Dn\\x00\\x00\\x00\\x00'  Prodej bytu 4+kk 134 m²   \n",
       "6   7     b'L\\xd5d\\x8b\\x00\\x00\\x00\\x00'    Prodej bytu 4+1 57 m²   \n",
       "7   8  b'L\\xf5\\x16\\xe4\\x00\\x00\\x00\\x00'   Prodej bytu 1+kk 30 m²   \n",
       "8   9     b'L\\x15F\\xd8\\x00\\x00\\x00\\x00'   Prodej bytu 2+kk 40 m²   \n",
       "9  10     b'L\\xf7\\xa2Y\\x00\\x00\\x00\\x00'   Prodej bytu 1+kk 19 m²   \n",
       "\n",
       "                      category_main_cb                     category_type_cb  \\\n",
       "0  b'\\x01\\x00\\x00\\x00\\x00\\x00\\x00\\x00'  b'\\x01\\x00\\x00\\x00\\x00\\x00\\x00\\x00'   \n",
       "1  b'\\x01\\x00\\x00\\x00\\x00\\x00\\x00\\x00'  b'\\x01\\x00\\x00\\x00\\x00\\x00\\x00\\x00'   \n",
       "2  b'\\x01\\x00\\x00\\x00\\x00\\x00\\x00\\x00'  b'\\x01\\x00\\x00\\x00\\x00\\x00\\x00\\x00'   \n",
       "3  b'\\x01\\x00\\x00\\x00\\x00\\x00\\x00\\x00'  b'\\x01\\x00\\x00\\x00\\x00\\x00\\x00\\x00'   \n",
       "4  b'\\x01\\x00\\x00\\x00\\x00\\x00\\x00\\x00'  b'\\x01\\x00\\x00\\x00\\x00\\x00\\x00\\x00'   \n",
       "5  b'\\x01\\x00\\x00\\x00\\x00\\x00\\x00\\x00'  b'\\x01\\x00\\x00\\x00\\x00\\x00\\x00\\x00'   \n",
       "6  b'\\x01\\x00\\x00\\x00\\x00\\x00\\x00\\x00'  b'\\x01\\x00\\x00\\x00\\x00\\x00\\x00\\x00'   \n",
       "7  b'\\x01\\x00\\x00\\x00\\x00\\x00\\x00\\x00'  b'\\x01\\x00\\x00\\x00\\x00\\x00\\x00\\x00'   \n",
       "8  b'\\x01\\x00\\x00\\x00\\x00\\x00\\x00\\x00'  b'\\x01\\x00\\x00\\x00\\x00\\x00\\x00\\x00'   \n",
       "9  b'\\x01\\x00\\x00\\x00\\x00\\x00\\x00\\x00'  b'\\x01\\x00\\x00\\x00\\x00\\x00\\x00\\x00'   \n",
       "\n",
       "                       category_sub_cb rooms  size_meters  \\\n",
       "0  b'\\x07\\x00\\x00\\x00\\x00\\x00\\x00\\x00'   3+1         69.0   \n",
       "1  b'\\x07\\x00\\x00\\x00\\x00\\x00\\x00\\x00'   3+1         50.0   \n",
       "2  b'\\x04\\x00\\x00\\x00\\x00\\x00\\x00\\x00'  2+kk         50.0   \n",
       "3  b'\\x04\\x00\\x00\\x00\\x00\\x00\\x00\\x00'  2+kk         32.0   \n",
       "4  b'\\x06\\x00\\x00\\x00\\x00\\x00\\x00\\x00'  3+kk         61.0   \n",
       "5  b'\\x08\\x00\\x00\\x00\\x00\\x00\\x00\\x00'  4+kk        134.0   \n",
       "6    b'\\t\\x00\\x00\\x00\\x00\\x00\\x00\\x00'   4+1         57.0   \n",
       "7  b'\\x02\\x00\\x00\\x00\\x00\\x00\\x00\\x00'  1+kk         30.0   \n",
       "8  b'\\x04\\x00\\x00\\x00\\x00\\x00\\x00\\x00'  2+kk         40.0   \n",
       "9  b'\\x02\\x00\\x00\\x00\\x00\\x00\\x00\\x00'  1+kk         19.0   \n",
       "\n",
       "                             locality  region  district   latitude  longitude  \\\n",
       "0               brno-zabovresky-lucni  region  district  49.208683  16.581777   \n",
       "1         brno-bohunice-pod-nemocnici  region  district  49.165905  16.581920   \n",
       "2                      unanov-unanov-  region  district  48.893010  16.076942   \n",
       "3       rakovnik-rakovnik-ii-luzenska  region  district  50.097008  13.751763   \n",
       "4    praha-praha-cakovice-belomlynska  region  district  50.150525  14.534147   \n",
       "5  praha-kosire-namesti-josefa-machka  region  district  50.058079  14.391188   \n",
       "6                     most-most-ceska  region  district  50.481724  13.655833   \n",
       "7                  otvovice-otvovice-  region  district  50.204758  14.277930   \n",
       "8         ostrava-poruba-hlavni-trida  region  district  49.819649  18.186090   \n",
       "9               praha-liben-konselska  region  district  50.105835  14.480679   \n",
       "\n",
       "            first_date            last_date                       first_price  \\\n",
       "0  2024-04-13 10:34:53  2024-04-13 10:34:53  b'\\xe8\\xdbY\\x00\\x00\\x00\\x00\\x00'   \n",
       "1  2024-04-13 10:34:53  2024-04-13 10:34:53     b'\\xd8DB\\x00\\x00\\x00\\x00\\x00'   \n",
       "2  2024-04-13 10:34:53  2024-04-13 10:34:53        b\"(3'\\x00\\x00\\x00\\x00\\x00\"   \n",
       "3  2024-04-13 10:34:53  2024-04-13 10:34:53  b'\\x90\\x04%\\x00\\x00\\x00\\x00\\x00'   \n",
       "4  2024-04-13 10:34:53  2024-04-13 10:34:53  b'\\xc0\\xc9k\\x00\\x00\\x00\\x00\\x00'   \n",
       "5  2024-04-13 10:34:53  2024-04-13 10:34:53  b'\\xb8X\\x02\\x01\\x00\\x00\\x00\\x00'   \n",
       "6  2024-04-13 10:34:53  2024-04-13 10:34:53  b'`\\xfb\\x12\\x00\\x00\\x00\\x00\\x00'   \n",
       "7  2024-04-13 10:34:53  2024-04-13 10:34:53  b'\\xf0\\x8f \\x00\\x00\\x00\\x00\\x00'   \n",
       "8  2024-04-13 10:34:53  2024-04-13 10:34:53        b'p-&\\x00\\x00\\x00\\x00\\x00'   \n",
       "9  2024-04-13 10:34:53  2024-04-13 10:34:53  b'\\x18\\x88<\\x00\\x00\\x00\\x00\\x00'   \n",
       "\n",
       "                         last_price                         max_price  \\\n",
       "0  b'\\xe8\\xdbY\\x00\\x00\\x00\\x00\\x00'  b'\\xe8\\xdbY\\x00\\x00\\x00\\x00\\x00'   \n",
       "1     b'\\xd8DB\\x00\\x00\\x00\\x00\\x00'     b'\\xd8DB\\x00\\x00\\x00\\x00\\x00'   \n",
       "2        b\"(3'\\x00\\x00\\x00\\x00\\x00\"        b\"(3'\\x00\\x00\\x00\\x00\\x00\"   \n",
       "3  b'\\x90\\x04%\\x00\\x00\\x00\\x00\\x00'  b'\\x90\\x04%\\x00\\x00\\x00\\x00\\x00'   \n",
       "4  b'\\xc0\\xc9k\\x00\\x00\\x00\\x00\\x00'  b'\\xc0\\xc9k\\x00\\x00\\x00\\x00\\x00'   \n",
       "5  b'\\xb8X\\x02\\x01\\x00\\x00\\x00\\x00'  b'\\xb8X\\x02\\x01\\x00\\x00\\x00\\x00'   \n",
       "6  b'`\\xfb\\x12\\x00\\x00\\x00\\x00\\x00'  b'`\\xfb\\x12\\x00\\x00\\x00\\x00\\x00'   \n",
       "7  b'\\xf0\\x8f \\x00\\x00\\x00\\x00\\x00'  b'\\xf0\\x8f \\x00\\x00\\x00\\x00\\x00'   \n",
       "8        b'p-&\\x00\\x00\\x00\\x00\\x00'        b'p-&\\x00\\x00\\x00\\x00\\x00'   \n",
       "9  b'\\x18\\x88<\\x00\\x00\\x00\\x00\\x00'  b'\\x18\\x88<\\x00\\x00\\x00\\x00\\x00'   \n",
       "\n",
       "                          min_price  \n",
       "0  b'\\xe8\\xdbY\\x00\\x00\\x00\\x00\\x00'  \n",
       "1     b'\\xd8DB\\x00\\x00\\x00\\x00\\x00'  \n",
       "2        b\"(3'\\x00\\x00\\x00\\x00\\x00\"  \n",
       "3  b'\\x90\\x04%\\x00\\x00\\x00\\x00\\x00'  \n",
       "4  b'\\xc0\\xc9k\\x00\\x00\\x00\\x00\\x00'  \n",
       "5  b'\\xb8X\\x02\\x01\\x00\\x00\\x00\\x00'  \n",
       "6  b'`\\xfb\\x12\\x00\\x00\\x00\\x00\\x00'  \n",
       "7  b'\\xf0\\x8f \\x00\\x00\\x00\\x00\\x00'  \n",
       "8        b'p-&\\x00\\x00\\x00\\x00\\x00'  \n",
       "9  b'\\x18\\x88<\\x00\\x00\\x00\\x00\\x00'  "
      ]
     },
     "execution_count": 9,
     "metadata": {},
     "output_type": "execute_result"
    }
   ],
   "source": [
    "data_manager.load_all_rows(\"estate_detail\")"
   ]
  },
  {
   "cell_type": "code",
   "execution_count": 15,
   "metadata": {},
   "outputs": [],
   "source": [
    "data_manager.clear_table(\"estate_detail\")"
   ]
  },
  {
   "cell_type": "code",
   "execution_count": 43,
   "metadata": {},
   "outputs": [],
   "source": [
    "data_manager.drop_table(\"estate_detail\")"
   ]
  },
  {
   "cell_type": "code",
   "execution_count": 4,
   "metadata": {},
   "outputs": [],
   "source": [
    "data_manager.create_table(\"estate_detail\")"
   ]
  },
  {
   "cell_type": "code",
   "execution_count": 28,
   "metadata": {},
   "outputs": [],
   "source": [
    "data_to_upload = [\n",
    "                \"2024-15-04 12:00:01\",\n",
    "                \"byt\",\n",
    "                \"prodej\",\n",
    "                200\n",
    "            ]\n",
    "data_manager.insert_new_batch(data_to_upload)"
   ]
  },
  {
   "cell_type": "code",
   "execution_count": null,
   "metadata": {},
   "outputs": [],
   "source": []
  },
  {
   "cell_type": "markdown",
   "metadata": {},
   "source": [
    "## Inserting new offers"
   ]
  },
  {
   "cell_type": "code",
   "execution_count": 6,
   "metadata": {},
   "outputs": [
    {
     "name": "stdout",
     "output_type": "stream",
     "text": [
      "16930\n"
     ]
    }
   ],
   "source": [
    "df_new = pd.read_csv(\"data_2024/data_20240413_1031.csv\", sep=\";\", encoding=\"utf-8\")\n",
    "\n",
    "print(len(df_new))\n",
    "#display(df_new.tail(2))"
   ]
  },
  {
   "cell_type": "code",
   "execution_count": 10,
   "metadata": {},
   "outputs": [
    {
     "name": "stdout",
     "output_type": "stream",
     "text": [
      "16930\n"
     ]
    },
    {
     "data": {
      "text/html": [
       "<div>\n",
       "<style scoped>\n",
       "    .dataframe tbody tr th:only-of-type {\n",
       "        vertical-align: middle;\n",
       "    }\n",
       "\n",
       "    .dataframe tbody tr th {\n",
       "        vertical-align: top;\n",
       "    }\n",
       "\n",
       "    .dataframe thead th {\n",
       "        text-align: right;\n",
       "    }\n",
       "</style>\n",
       "<table border=\"1\" class=\"dataframe\">\n",
       "  <thead>\n",
       "    <tr style=\"text-align: right;\">\n",
       "      <th></th>\n",
       "      <th>Unnamed: 0</th>\n",
       "      <th>code</th>\n",
       "      <th>name</th>\n",
       "      <th>category_main_cb</th>\n",
       "      <th>category_type_cb</th>\n",
       "      <th>category_sub_cb</th>\n",
       "      <th>rooms</th>\n",
       "      <th>size_meters</th>\n",
       "      <th>locality</th>\n",
       "      <th>latitude</th>\n",
       "      <th>longitude</th>\n",
       "      <th>price</th>\n",
       "      <th>timestamp</th>\n",
       "    </tr>\n",
       "  </thead>\n",
       "  <tbody>\n",
       "    <tr>\n",
       "      <th>16928</th>\n",
       "      <td>16928</td>\n",
       "      <td>1653154140</td>\n",
       "      <td>Prodej bytu 4+kk 69 m²</td>\n",
       "      <td>1</td>\n",
       "      <td>1</td>\n",
       "      <td>8</td>\n",
       "      <td>4+kk</td>\n",
       "      <td>69.0</td>\n",
       "      <td>karlovy-vary-karlovy-vary-sadova</td>\n",
       "      <td>50.218377</td>\n",
       "      <td>12.884575</td>\n",
       "      <td>5882000</td>\n",
       "      <td>2024-04-13 10:34:53</td>\n",
       "    </tr>\n",
       "    <tr>\n",
       "      <th>16929</th>\n",
       "      <td>16929</td>\n",
       "      <td>1673015644</td>\n",
       "      <td>Prodej bytu atypické 45 m² (Podkrovní)</td>\n",
       "      <td>1</td>\n",
       "      <td>1</td>\n",
       "      <td>16</td>\n",
       "      <td>atypické</td>\n",
       "      <td>45.0</td>\n",
       "      <td>stachy-stachy-zadov</td>\n",
       "      <td>49.070115</td>\n",
       "      <td>13.641552</td>\n",
       "      <td>4417000</td>\n",
       "      <td>2024-04-13 10:34:53</td>\n",
       "    </tr>\n",
       "  </tbody>\n",
       "</table>\n",
       "</div>"
      ],
      "text/plain": [
       "       Unnamed: 0        code                                    name  \\\n",
       "16928       16928  1653154140                  Prodej bytu 4+kk 69 m²   \n",
       "16929       16929  1673015644  Prodej bytu atypické 45 m² (Podkrovní)   \n",
       "\n",
       "       category_main_cb  category_type_cb  category_sub_cb     rooms  \\\n",
       "16928                 1                 1                8      4+kk   \n",
       "16929                 1                 1               16  atypické   \n",
       "\n",
       "      size_meters                          locality   latitude  longitude  \\\n",
       "16928        69.0  karlovy-vary-karlovy-vary-sadova  50.218377  12.884575   \n",
       "16929        45.0               stachy-stachy-zadov  49.070115  13.641552   \n",
       "\n",
       "         price            timestamp  \n",
       "16928  5882000  2024-04-13 10:34:53  \n",
       "16929  4417000  2024-04-13 10:34:53  "
      ]
     },
     "metadata": {},
     "output_type": "display_data"
    }
   ],
   "source": [
    "new_estates = data_manager.filter_new_estates(df_new)\n",
    "\n",
    "print(len(new_estates))\n",
    "display(new_estates.tail(2))"
   ]
  },
  {
   "cell_type": "code",
   "execution_count": 16,
   "metadata": {},
   "outputs": [
    {
     "ename": "SyntaxError",
     "evalue": "leading zeros in decimal integer literals are not permitted; use an 0o prefix for octal integers (3549027115.py, line 21)",
     "output_type": "error",
     "traceback": [
      "\u001b[1;36m  Cell \u001b[1;32mIn[16], line 21\u001b[1;36m\u001b[0m\n\u001b[1;33m    timestamp             2024-04-13 10:34:53\u001b[0m\n\u001b[1;37m                               ^\u001b[0m\n\u001b[1;31mSyntaxError\u001b[0m\u001b[1;31m:\u001b[0m leading zeros in decimal integer literals are not permitted; use an 0o prefix for octal integers\n"
     ]
    }
   ],
   "source": [
    "new_estates.loc[0]\n",
    "\n",
    "upload = pd.DataFrame(data = [2109527372,\n",
    "                              \"Prodej bytu 3+1 69 m²\",\n",
    "                              1,\n",
    "                              1,\n",
    "                              7,\n",
    "                              \"3+1\",\n",
    "                              69.0,\n",
    "                              \"brno-zabovresky-lucni\",\n",
    "                              49.208683,\n",
    "                              16.58177716,\n",
    "                              5889000,\n",
    "                            \"2024-04-13 10:34:53\"\n",
    "                              \n",
    "                              ])\n",
    "\n",
    "code                           \n",
    "name                \n",
    "category_main_cb                        1\n",
    "category_type_cb                        1\n",
    "category_sub_cb                         7\n",
    "rooms                                 3+1\n",
    "size_meters                          69.0\n",
    "locality            brno-zabovresky-lucni\n",
    "latitude                        49.208683\n",
    "longitude                       16.581777\n",
    "price                             5889000\n",
    "timestamp             2024-04-13 10:34:53"
   ]
  },
  {
   "cell_type": "code",
   "execution_count": 8,
   "metadata": {},
   "outputs": [],
   "source": [
    "data_manager.insert_new_estate(new_estates)"
   ]
  },
  {
   "cell_type": "code",
   "execution_count": null,
   "metadata": {},
   "outputs": [],
   "source": []
  },
  {
   "cell_type": "code",
   "execution_count": null,
   "metadata": {},
   "outputs": [],
   "source": []
  }
 ],
 "metadata": {
  "kernelspec": {
   "display_name": "Sreality2024",
   "language": "python",
   "name": "python3"
  },
  "language_info": {
   "codemirror_mode": {
    "name": "ipython",
    "version": 3
   },
   "file_extension": ".py",
   "mimetype": "text/x-python",
   "name": "python",
   "nbconvert_exporter": "python",
   "pygments_lexer": "ipython3",
   "version": "3.11.7"
  }
 },
 "nbformat": 4,
 "nbformat_minor": 2
}
